{
 "cells": [
  {
   "cell_type": "markdown",
   "metadata": {},
   "source": [
    "# Titanic"
   ]
  },
  {
   "cell_type": "markdown",
   "metadata": {},
   "source": [
    "## 1 数据预处理"
   ]
  },
  {
   "cell_type": "markdown",
   "metadata": {},
   "source": [
    "参考：\n",
    "\n",
    "[kaggle入门之战——Titanic](https://www.jianshu.com/p/ee91d8880bbd)\n",
    "\n",
    "[str.split()方法](https://blog.csdn.net/qq_41780295/article/details/88555183)\n",
    "\n",
    "[df中的map(),apply(),applymap()](https://blog.csdn.net/maymay_/article/details/80229053)"
   ]
  },
  {
   "cell_type": "code",
   "execution_count": 1,
   "metadata": {
    "ExecuteTime": {
     "end_time": "2020-05-24T10:54:19.799717Z",
     "start_time": "2020-05-24T10:54:19.515196Z"
    }
   },
   "outputs": [],
   "source": [
    "import numpy as np\n",
    "import pandas as pd"
   ]
  },
  {
   "cell_type": "code",
   "execution_count": 2,
   "metadata": {
    "ExecuteTime": {
     "end_time": "2020-05-24T10:54:20.447302Z",
     "start_time": "2020-05-24T10:54:20.276854Z"
    }
   },
   "outputs": [],
   "source": [
    "path = r'D:\\JWE\\My Program\\kaggle\\competitions_data\\titanic'\n",
    "\n",
    "train_data = pd.read_csv(path+'\\\\'+'train.csv')\n",
    "test_data = pd.read_csv(path+'\\\\'+'test.csv')\n",
    "titanic_data = pd.concat([train_data.copy(), test_data.copy()], sort=False)"
   ]
  },
  {
   "cell_type": "code",
   "execution_count": 3,
   "metadata": {
    "ExecuteTime": {
     "end_time": "2020-05-24T10:54:20.806896Z",
     "start_time": "2020-05-24T10:54:20.565612Z"
    }
   },
   "outputs": [
    {
     "data": {
      "text/html": [
       "<div>\n",
       "<style scoped>\n",
       "    .dataframe tbody tr th:only-of-type {\n",
       "        vertical-align: middle;\n",
       "    }\n",
       "\n",
       "    .dataframe tbody tr th {\n",
       "        vertical-align: top;\n",
       "    }\n",
       "\n",
       "    .dataframe thead th {\n",
       "        text-align: right;\n",
       "    }\n",
       "</style>\n",
       "<table border=\"1\" class=\"dataframe\">\n",
       "  <thead>\n",
       "    <tr style=\"text-align: right;\">\n",
       "      <th></th>\n",
       "      <th>PassengerId</th>\n",
       "      <th>Survived</th>\n",
       "      <th>Pclass</th>\n",
       "      <th>Name</th>\n",
       "      <th>Sex</th>\n",
       "      <th>Age</th>\n",
       "      <th>SibSp</th>\n",
       "      <th>Parch</th>\n",
       "      <th>Ticket</th>\n",
       "      <th>Fare</th>\n",
       "      <th>Cabin</th>\n",
       "      <th>Embarked</th>\n",
       "    </tr>\n",
       "  </thead>\n",
       "  <tbody>\n",
       "    <tr>\n",
       "      <th>0</th>\n",
       "      <td>1</td>\n",
       "      <td>0.0</td>\n",
       "      <td>3</td>\n",
       "      <td>Braund, Mr. Owen Harris</td>\n",
       "      <td>male</td>\n",
       "      <td>22.0</td>\n",
       "      <td>1</td>\n",
       "      <td>0</td>\n",
       "      <td>A/5 21171</td>\n",
       "      <td>7.2500</td>\n",
       "      <td>NaN</td>\n",
       "      <td>S</td>\n",
       "    </tr>\n",
       "    <tr>\n",
       "      <th>1</th>\n",
       "      <td>2</td>\n",
       "      <td>1.0</td>\n",
       "      <td>1</td>\n",
       "      <td>Cumings, Mrs. John Bradley (Florence Briggs Th...</td>\n",
       "      <td>female</td>\n",
       "      <td>38.0</td>\n",
       "      <td>1</td>\n",
       "      <td>0</td>\n",
       "      <td>PC 17599</td>\n",
       "      <td>71.2833</td>\n",
       "      <td>C85</td>\n",
       "      <td>C</td>\n",
       "    </tr>\n",
       "    <tr>\n",
       "      <th>2</th>\n",
       "      <td>3</td>\n",
       "      <td>1.0</td>\n",
       "      <td>3</td>\n",
       "      <td>Heikkinen, Miss. Laina</td>\n",
       "      <td>female</td>\n",
       "      <td>26.0</td>\n",
       "      <td>0</td>\n",
       "      <td>0</td>\n",
       "      <td>STON/O2. 3101282</td>\n",
       "      <td>7.9250</td>\n",
       "      <td>NaN</td>\n",
       "      <td>S</td>\n",
       "    </tr>\n",
       "    <tr>\n",
       "      <th>3</th>\n",
       "      <td>4</td>\n",
       "      <td>1.0</td>\n",
       "      <td>1</td>\n",
       "      <td>Futrelle, Mrs. Jacques Heath (Lily May Peel)</td>\n",
       "      <td>female</td>\n",
       "      <td>35.0</td>\n",
       "      <td>1</td>\n",
       "      <td>0</td>\n",
       "      <td>113803</td>\n",
       "      <td>53.1000</td>\n",
       "      <td>C123</td>\n",
       "      <td>S</td>\n",
       "    </tr>\n",
       "    <tr>\n",
       "      <th>4</th>\n",
       "      <td>5</td>\n",
       "      <td>0.0</td>\n",
       "      <td>3</td>\n",
       "      <td>Allen, Mr. William Henry</td>\n",
       "      <td>male</td>\n",
       "      <td>35.0</td>\n",
       "      <td>0</td>\n",
       "      <td>0</td>\n",
       "      <td>373450</td>\n",
       "      <td>8.0500</td>\n",
       "      <td>NaN</td>\n",
       "      <td>S</td>\n",
       "    </tr>\n",
       "  </tbody>\n",
       "</table>\n",
       "</div>"
      ],
      "text/plain": [
       "   PassengerId  Survived  Pclass  \\\n",
       "0            1       0.0       3   \n",
       "1            2       1.0       1   \n",
       "2            3       1.0       3   \n",
       "3            4       1.0       1   \n",
       "4            5       0.0       3   \n",
       "\n",
       "                                                Name     Sex   Age  SibSp  \\\n",
       "0                            Braund, Mr. Owen Harris    male  22.0      1   \n",
       "1  Cumings, Mrs. John Bradley (Florence Briggs Th...  female  38.0      1   \n",
       "2                             Heikkinen, Miss. Laina  female  26.0      0   \n",
       "3       Futrelle, Mrs. Jacques Heath (Lily May Peel)  female  35.0      1   \n",
       "4                           Allen, Mr. William Henry    male  35.0      0   \n",
       "\n",
       "   Parch            Ticket     Fare Cabin Embarked  \n",
       "0      0         A/5 21171   7.2500   NaN        S  \n",
       "1      0          PC 17599  71.2833   C85        C  \n",
       "2      0  STON/O2. 3101282   7.9250   NaN        S  \n",
       "3      0            113803  53.1000  C123        S  \n",
       "4      0            373450   8.0500   NaN        S  "
      ]
     },
     "execution_count": 3,
     "metadata": {},
     "output_type": "execute_result"
    },
    {
     "name": "stdout",
     "output_type": "stream",
     "text": [
      "<class 'pandas.core.frame.DataFrame'>\n",
      "Int64Index: 1309 entries, 0 to 417\n",
      "Data columns (total 12 columns):\n",
      " #   Column       Non-Null Count  Dtype  \n",
      "---  ------       --------------  -----  \n",
      " 0   PassengerId  1309 non-null   int64  \n",
      " 1   Survived     891 non-null    float64\n",
      " 2   Pclass       1309 non-null   int64  \n",
      " 3   Name         1309 non-null   object \n",
      " 4   Sex          1309 non-null   object \n",
      " 5   Age          1046 non-null   float64\n",
      " 6   SibSp        1309 non-null   int64  \n",
      " 7   Parch        1309 non-null   int64  \n",
      " 8   Ticket       1309 non-null   object \n",
      " 9   Fare         1308 non-null   float64\n",
      " 10  Cabin        295 non-null    object \n",
      " 11  Embarked     1307 non-null   object \n",
      "dtypes: float64(3), int64(4), object(5)\n",
      "memory usage: 132.9+ KB\n"
     ]
    },
    {
     "data": {
      "text/html": [
       "<div>\n",
       "<style scoped>\n",
       "    .dataframe tbody tr th:only-of-type {\n",
       "        vertical-align: middle;\n",
       "    }\n",
       "\n",
       "    .dataframe tbody tr th {\n",
       "        vertical-align: top;\n",
       "    }\n",
       "\n",
       "    .dataframe thead th {\n",
       "        text-align: right;\n",
       "    }\n",
       "</style>\n",
       "<table border=\"1\" class=\"dataframe\">\n",
       "  <thead>\n",
       "    <tr style=\"text-align: right;\">\n",
       "      <th></th>\n",
       "      <th>PassengerId</th>\n",
       "      <th>Survived</th>\n",
       "      <th>Pclass</th>\n",
       "      <th>Age</th>\n",
       "      <th>SibSp</th>\n",
       "      <th>Parch</th>\n",
       "      <th>Fare</th>\n",
       "    </tr>\n",
       "  </thead>\n",
       "  <tbody>\n",
       "    <tr>\n",
       "      <th>count</th>\n",
       "      <td>1309.000000</td>\n",
       "      <td>891.000000</td>\n",
       "      <td>1309.000000</td>\n",
       "      <td>1046.000000</td>\n",
       "      <td>1309.000000</td>\n",
       "      <td>1309.000000</td>\n",
       "      <td>1308.000000</td>\n",
       "    </tr>\n",
       "    <tr>\n",
       "      <th>mean</th>\n",
       "      <td>655.000000</td>\n",
       "      <td>0.383838</td>\n",
       "      <td>2.294882</td>\n",
       "      <td>29.881138</td>\n",
       "      <td>0.498854</td>\n",
       "      <td>0.385027</td>\n",
       "      <td>33.295479</td>\n",
       "    </tr>\n",
       "    <tr>\n",
       "      <th>std</th>\n",
       "      <td>378.020061</td>\n",
       "      <td>0.486592</td>\n",
       "      <td>0.837836</td>\n",
       "      <td>14.413493</td>\n",
       "      <td>1.041658</td>\n",
       "      <td>0.865560</td>\n",
       "      <td>51.758668</td>\n",
       "    </tr>\n",
       "    <tr>\n",
       "      <th>min</th>\n",
       "      <td>1.000000</td>\n",
       "      <td>0.000000</td>\n",
       "      <td>1.000000</td>\n",
       "      <td>0.170000</td>\n",
       "      <td>0.000000</td>\n",
       "      <td>0.000000</td>\n",
       "      <td>0.000000</td>\n",
       "    </tr>\n",
       "    <tr>\n",
       "      <th>25%</th>\n",
       "      <td>328.000000</td>\n",
       "      <td>0.000000</td>\n",
       "      <td>2.000000</td>\n",
       "      <td>21.000000</td>\n",
       "      <td>0.000000</td>\n",
       "      <td>0.000000</td>\n",
       "      <td>7.895800</td>\n",
       "    </tr>\n",
       "    <tr>\n",
       "      <th>50%</th>\n",
       "      <td>655.000000</td>\n",
       "      <td>0.000000</td>\n",
       "      <td>3.000000</td>\n",
       "      <td>28.000000</td>\n",
       "      <td>0.000000</td>\n",
       "      <td>0.000000</td>\n",
       "      <td>14.454200</td>\n",
       "    </tr>\n",
       "    <tr>\n",
       "      <th>75%</th>\n",
       "      <td>982.000000</td>\n",
       "      <td>1.000000</td>\n",
       "      <td>3.000000</td>\n",
       "      <td>39.000000</td>\n",
       "      <td>1.000000</td>\n",
       "      <td>0.000000</td>\n",
       "      <td>31.275000</td>\n",
       "    </tr>\n",
       "    <tr>\n",
       "      <th>max</th>\n",
       "      <td>1309.000000</td>\n",
       "      <td>1.000000</td>\n",
       "      <td>3.000000</td>\n",
       "      <td>80.000000</td>\n",
       "      <td>8.000000</td>\n",
       "      <td>9.000000</td>\n",
       "      <td>512.329200</td>\n",
       "    </tr>\n",
       "  </tbody>\n",
       "</table>\n",
       "</div>"
      ],
      "text/plain": [
       "       PassengerId    Survived       Pclass          Age        SibSp  \\\n",
       "count  1309.000000  891.000000  1309.000000  1046.000000  1309.000000   \n",
       "mean    655.000000    0.383838     2.294882    29.881138     0.498854   \n",
       "std     378.020061    0.486592     0.837836    14.413493     1.041658   \n",
       "min       1.000000    0.000000     1.000000     0.170000     0.000000   \n",
       "25%     328.000000    0.000000     2.000000    21.000000     0.000000   \n",
       "50%     655.000000    0.000000     3.000000    28.000000     0.000000   \n",
       "75%     982.000000    1.000000     3.000000    39.000000     1.000000   \n",
       "max    1309.000000    1.000000     3.000000    80.000000     8.000000   \n",
       "\n",
       "             Parch         Fare  \n",
       "count  1309.000000  1308.000000  \n",
       "mean      0.385027    33.295479  \n",
       "std       0.865560    51.758668  \n",
       "min       0.000000     0.000000  \n",
       "25%       0.000000     7.895800  \n",
       "50%       0.000000    14.454200  \n",
       "75%       0.000000    31.275000  \n",
       "max       9.000000   512.329200  "
      ]
     },
     "execution_count": 3,
     "metadata": {},
     "output_type": "execute_result"
    }
   ],
   "source": [
    "# 查看数据\n",
    "# train_data.head()\n",
    "# test_data.head()\n",
    "# train_data.info()\n",
    "# train_data.describe()\n",
    "titanic_data.head()\n",
    "titanic_data.info()\n",
    "titanic_data.describe()"
   ]
  },
  {
   "cell_type": "markdown",
   "metadata": {},
   "source": [
    "train和test合并后的数据集titanic，共计1309样本，其中训练集891，测试集418。\n",
    "\n",
    "titanic除编号和存活之外，共计10个特征，其中有缺失值的有Age,Fare,Cabin,Embarked.\n",
    "\n",
    "Fare和Embarked缺失值较少，Cabin和Age缺失值较多。\n",
    "\n",
    "Fare可以直接用中位数或均值补足。\n",
    "\n",
    "Embarked则由频率最高的港口补足。\n",
    "\n",
    "Age可以用姓名的信息填补，因为称呼往往和年龄与性别相关，如Miss,Mrs,Mr.\n",
    "\n",
    "Cabin可以用Fare填补，因为根据常识不同区域船舱的价格应该不同，顺便还可以把船舱划分为几类，不过这一列缺失值很多，这样做显然会带来特征之间的多重共线性，使得这一列数据失去分类的意义。参考[kaggle入门之战——Titanic](https://www.jianshu.com/p/ee91d8880bbd)，将Cabin划分为缺失与未缺失，把缺失作为单独一类，依据是存活者的信息显然更加容易统计，而未能幸存的人信息更可能不完整。"
   ]
  },
  {
   "cell_type": "code",
   "execution_count": 4,
   "metadata": {
    "ExecuteTime": {
     "end_time": "2020-05-24T10:54:20.936040Z",
     "start_time": "2020-05-24T10:54:20.910787Z"
    }
   },
   "outputs": [],
   "source": [
    "# 提取乘客的称呼\n",
    "titanic_data['Call'] = titanic_data.Name.apply(lambda name: name.split(',')[1].split('.')[0].strip())"
   ]
  },
  {
   "cell_type": "code",
   "execution_count": 5,
   "metadata": {
    "ExecuteTime": {
     "end_time": "2020-05-24T10:54:21.090024Z",
     "start_time": "2020-05-24T10:54:21.031789Z"
    }
   },
   "outputs": [
    {
     "data": {
      "text/plain": [
       "Mr              757\n",
       "Miss            260\n",
       "Mrs             197\n",
       "Master           61\n",
       "Dr                8\n",
       "Rev               8\n",
       "Col               4\n",
       "Mlle              2\n",
       "Major             2\n",
       "Ms                2\n",
       "Lady              1\n",
       "Don               1\n",
       "Dona              1\n",
       "Sir               1\n",
       "Mme               1\n",
       "Capt              1\n",
       "the Countess      1\n",
       "Jonkheer          1\n",
       "Name: Call, dtype: int64"
      ]
     },
     "execution_count": 5,
     "metadata": {},
     "output_type": "execute_result"
    }
   ],
   "source": [
    "titanic_data.Call.value_counts()"
   ]
  },
  {
   "cell_type": "code",
   "execution_count": 6,
   "metadata": {
    "ExecuteTime": {
     "end_time": "2020-05-24T10:54:21.246949Z",
     "start_time": "2020-05-24T10:54:21.232044Z"
    }
   },
   "outputs": [],
   "source": [
    "# 将数量较少的类别归为一类Rare\n",
    "call_list = titanic_data.Call.value_counts().index[4:].tolist()\n",
    "call_dict={}\n",
    "for call in call_list:\n",
    "    call_dict[call] = 'Rare'\n",
    "titanic_data['Call'] = titanic_data['Call'].map(lambda call:call_dict[call] if call in call_list else call)"
   ]
  },
  {
   "cell_type": "code",
   "execution_count": 7,
   "metadata": {
    "ExecuteTime": {
     "end_time": "2020-05-24T10:54:21.369791Z",
     "start_time": "2020-05-24T10:54:21.362256Z"
    }
   },
   "outputs": [
    {
     "data": {
      "text/plain": [
       "Mr        757\n",
       "Miss      260\n",
       "Mrs       197\n",
       "Master     61\n",
       "Rare       34\n",
       "Name: Call, dtype: int64"
      ]
     },
     "execution_count": 7,
     "metadata": {},
     "output_type": "execute_result"
    }
   ],
   "source": [
    "titanic_data.Call.value_counts()"
   ]
  },
  {
   "cell_type": "code",
   "execution_count": 8,
   "metadata": {
    "ExecuteTime": {
     "end_time": "2020-05-24T10:54:21.904112Z",
     "start_time": "2020-05-24T10:54:21.832926Z"
    }
   },
   "outputs": [
    {
     "data": {
      "text/plain": [
       "Call\n",
       "Master    26.0\n",
       "Miss      22.0\n",
       "Mr        29.0\n",
       "Mrs       35.5\n",
       "Rare      44.5\n",
       "Name: Age, dtype: float64"
      ]
     },
     "execution_count": 8,
     "metadata": {},
     "output_type": "execute_result"
    }
   ],
   "source": [
    "# Master应该是学历的称呼，Age的值对应的应该是在读年数，假设22岁完成本科\n",
    "# Rare里面还有Dr也是学历，但是考虑到数量较少，统一放在Rare类里了\n",
    "group = titanic_data.groupby(['Call'])\n",
    "median_series = group.Age.median()\n",
    "median_series.Master += 22\n",
    "median_series"
   ]
  },
  {
   "cell_type": "code",
   "execution_count": 9,
   "metadata": {
    "ExecuteTime": {
     "end_time": "2020-05-24T10:54:22.201423Z",
     "start_time": "2020-05-24T10:54:21.907156Z"
    }
   },
   "outputs": [],
   "source": [
    "# 用中位数填补Age的缺失值\n",
    "def newage(cols):\n",
    "    age = cols[0]\n",
    "    call = cols[1]\n",
    "    if pd.isnull(age):\n",
    "        return median_series[call]\n",
    "    return age\n",
    "\n",
    "titanic_data.Age = titanic_data.loc[:,['Age','Call']].apply(newage,axis=1)"
   ]
  },
  {
   "cell_type": "code",
   "execution_count": 10,
   "metadata": {
    "ExecuteTime": {
     "end_time": "2020-05-24T10:54:22.218465Z",
     "start_time": "2020-05-24T10:54:22.204986Z"
    }
   },
   "outputs": [
    {
     "name": "stdout",
     "output_type": "stream",
     "text": [
      "<class 'pandas.core.frame.DataFrame'>\n",
      "Int64Index: 1309 entries, 0 to 417\n",
      "Data columns (total 13 columns):\n",
      " #   Column       Non-Null Count  Dtype  \n",
      "---  ------       --------------  -----  \n",
      " 0   PassengerId  1309 non-null   int64  \n",
      " 1   Survived     891 non-null    float64\n",
      " 2   Pclass       1309 non-null   int64  \n",
      " 3   Name         1309 non-null   object \n",
      " 4   Sex          1309 non-null   object \n",
      " 5   Age          1309 non-null   float64\n",
      " 6   SibSp        1309 non-null   int64  \n",
      " 7   Parch        1309 non-null   int64  \n",
      " 8   Ticket       1309 non-null   object \n",
      " 9   Fare         1308 non-null   float64\n",
      " 10  Cabin        295 non-null    object \n",
      " 11  Embarked     1307 non-null   object \n",
      " 12  Call         1309 non-null   object \n",
      "dtypes: float64(3), int64(4), object(6)\n",
      "memory usage: 143.2+ KB\n"
     ]
    }
   ],
   "source": [
    "titanic_data.info() # Age已无缺失值"
   ]
  },
  {
   "cell_type": "code",
   "execution_count": 11,
   "metadata": {
    "ExecuteTime": {
     "end_time": "2020-05-24T10:54:22.344799Z",
     "start_time": "2020-05-24T10:54:22.221576Z"
    }
   },
   "outputs": [],
   "source": [
    "# OnCabin为是否登记船舱\n",
    "titanic_data['OnCabin'] = 1.0\n",
    "titanic_data.loc[~titanic_data.Cabin.isnull(),['OnCabin']] = 1\n",
    "titanic_data.loc[titanic_data.Cabin.isnull(),['OnCabin']] = 0"
   ]
  },
  {
   "cell_type": "code",
   "execution_count": 12,
   "metadata": {
    "ExecuteTime": {
     "end_time": "2020-05-24T10:54:22.480678Z",
     "start_time": "2020-05-24T10:54:22.347307Z"
    }
   },
   "outputs": [],
   "source": [
    "# Cabin缺失值填补为Un\n",
    "titanic_data.Cabin = titanic_data.Cabin.fillna('Un')"
   ]
  },
  {
   "cell_type": "code",
   "execution_count": 13,
   "metadata": {
    "ExecuteTime": {
     "end_time": "2020-05-24T10:54:22.636606Z",
     "start_time": "2020-05-24T10:54:22.483194Z"
    }
   },
   "outputs": [
    {
     "data": {
      "text/html": [
       "<div>\n",
       "<style scoped>\n",
       "    .dataframe tbody tr th:only-of-type {\n",
       "        vertical-align: middle;\n",
       "    }\n",
       "\n",
       "    .dataframe tbody tr th {\n",
       "        vertical-align: top;\n",
       "    }\n",
       "\n",
       "    .dataframe thead th {\n",
       "        text-align: right;\n",
       "    }\n",
       "</style>\n",
       "<table border=\"1\" class=\"dataframe\">\n",
       "  <thead>\n",
       "    <tr style=\"text-align: right;\">\n",
       "      <th></th>\n",
       "      <th>PassengerId</th>\n",
       "      <th>Survived</th>\n",
       "      <th>Pclass</th>\n",
       "      <th>Name</th>\n",
       "      <th>Sex</th>\n",
       "      <th>Age</th>\n",
       "      <th>SibSp</th>\n",
       "      <th>Parch</th>\n",
       "      <th>Ticket</th>\n",
       "      <th>Fare</th>\n",
       "      <th>Cabin</th>\n",
       "      <th>Embarked</th>\n",
       "      <th>Call</th>\n",
       "      <th>OnCabin</th>\n",
       "    </tr>\n",
       "  </thead>\n",
       "  <tbody>\n",
       "    <tr>\n",
       "      <th>0</th>\n",
       "      <td>1</td>\n",
       "      <td>0.0</td>\n",
       "      <td>3</td>\n",
       "      <td>Braund, Mr. Owen Harris</td>\n",
       "      <td>male</td>\n",
       "      <td>22.0</td>\n",
       "      <td>1</td>\n",
       "      <td>0</td>\n",
       "      <td>A/5 21171</td>\n",
       "      <td>7.2500</td>\n",
       "      <td>Un</td>\n",
       "      <td>S</td>\n",
       "      <td>Mr</td>\n",
       "      <td>0.0</td>\n",
       "    </tr>\n",
       "    <tr>\n",
       "      <th>1</th>\n",
       "      <td>2</td>\n",
       "      <td>1.0</td>\n",
       "      <td>1</td>\n",
       "      <td>Cumings, Mrs. John Bradley (Florence Briggs Th...</td>\n",
       "      <td>female</td>\n",
       "      <td>38.0</td>\n",
       "      <td>1</td>\n",
       "      <td>0</td>\n",
       "      <td>PC 17599</td>\n",
       "      <td>71.2833</td>\n",
       "      <td>C85</td>\n",
       "      <td>C</td>\n",
       "      <td>Mrs</td>\n",
       "      <td>1.0</td>\n",
       "    </tr>\n",
       "    <tr>\n",
       "      <th>2</th>\n",
       "      <td>3</td>\n",
       "      <td>1.0</td>\n",
       "      <td>3</td>\n",
       "      <td>Heikkinen, Miss. Laina</td>\n",
       "      <td>female</td>\n",
       "      <td>26.0</td>\n",
       "      <td>0</td>\n",
       "      <td>0</td>\n",
       "      <td>STON/O2. 3101282</td>\n",
       "      <td>7.9250</td>\n",
       "      <td>Un</td>\n",
       "      <td>S</td>\n",
       "      <td>Miss</td>\n",
       "      <td>0.0</td>\n",
       "    </tr>\n",
       "    <tr>\n",
       "      <th>3</th>\n",
       "      <td>4</td>\n",
       "      <td>1.0</td>\n",
       "      <td>1</td>\n",
       "      <td>Futrelle, Mrs. Jacques Heath (Lily May Peel)</td>\n",
       "      <td>female</td>\n",
       "      <td>35.0</td>\n",
       "      <td>1</td>\n",
       "      <td>0</td>\n",
       "      <td>113803</td>\n",
       "      <td>53.1000</td>\n",
       "      <td>C123</td>\n",
       "      <td>S</td>\n",
       "      <td>Mrs</td>\n",
       "      <td>1.0</td>\n",
       "    </tr>\n",
       "    <tr>\n",
       "      <th>4</th>\n",
       "      <td>5</td>\n",
       "      <td>0.0</td>\n",
       "      <td>3</td>\n",
       "      <td>Allen, Mr. William Henry</td>\n",
       "      <td>male</td>\n",
       "      <td>35.0</td>\n",
       "      <td>0</td>\n",
       "      <td>0</td>\n",
       "      <td>373450</td>\n",
       "      <td>8.0500</td>\n",
       "      <td>Un</td>\n",
       "      <td>S</td>\n",
       "      <td>Mr</td>\n",
       "      <td>0.0</td>\n",
       "    </tr>\n",
       "    <tr>\n",
       "      <th>...</th>\n",
       "      <td>...</td>\n",
       "      <td>...</td>\n",
       "      <td>...</td>\n",
       "      <td>...</td>\n",
       "      <td>...</td>\n",
       "      <td>...</td>\n",
       "      <td>...</td>\n",
       "      <td>...</td>\n",
       "      <td>...</td>\n",
       "      <td>...</td>\n",
       "      <td>...</td>\n",
       "      <td>...</td>\n",
       "      <td>...</td>\n",
       "      <td>...</td>\n",
       "    </tr>\n",
       "    <tr>\n",
       "      <th>413</th>\n",
       "      <td>1305</td>\n",
       "      <td>NaN</td>\n",
       "      <td>3</td>\n",
       "      <td>Spector, Mr. Woolf</td>\n",
       "      <td>male</td>\n",
       "      <td>29.0</td>\n",
       "      <td>0</td>\n",
       "      <td>0</td>\n",
       "      <td>A.5. 3236</td>\n",
       "      <td>8.0500</td>\n",
       "      <td>Un</td>\n",
       "      <td>S</td>\n",
       "      <td>Mr</td>\n",
       "      <td>0.0</td>\n",
       "    </tr>\n",
       "    <tr>\n",
       "      <th>414</th>\n",
       "      <td>1306</td>\n",
       "      <td>NaN</td>\n",
       "      <td>1</td>\n",
       "      <td>Oliva y Ocana, Dona. Fermina</td>\n",
       "      <td>female</td>\n",
       "      <td>39.0</td>\n",
       "      <td>0</td>\n",
       "      <td>0</td>\n",
       "      <td>PC 17758</td>\n",
       "      <td>108.9000</td>\n",
       "      <td>C105</td>\n",
       "      <td>C</td>\n",
       "      <td>Rare</td>\n",
       "      <td>1.0</td>\n",
       "    </tr>\n",
       "    <tr>\n",
       "      <th>415</th>\n",
       "      <td>1307</td>\n",
       "      <td>NaN</td>\n",
       "      <td>3</td>\n",
       "      <td>Saether, Mr. Simon Sivertsen</td>\n",
       "      <td>male</td>\n",
       "      <td>38.5</td>\n",
       "      <td>0</td>\n",
       "      <td>0</td>\n",
       "      <td>SOTON/O.Q. 3101262</td>\n",
       "      <td>7.2500</td>\n",
       "      <td>Un</td>\n",
       "      <td>S</td>\n",
       "      <td>Mr</td>\n",
       "      <td>0.0</td>\n",
       "    </tr>\n",
       "    <tr>\n",
       "      <th>416</th>\n",
       "      <td>1308</td>\n",
       "      <td>NaN</td>\n",
       "      <td>3</td>\n",
       "      <td>Ware, Mr. Frederick</td>\n",
       "      <td>male</td>\n",
       "      <td>29.0</td>\n",
       "      <td>0</td>\n",
       "      <td>0</td>\n",
       "      <td>359309</td>\n",
       "      <td>8.0500</td>\n",
       "      <td>Un</td>\n",
       "      <td>S</td>\n",
       "      <td>Mr</td>\n",
       "      <td>0.0</td>\n",
       "    </tr>\n",
       "    <tr>\n",
       "      <th>417</th>\n",
       "      <td>1309</td>\n",
       "      <td>NaN</td>\n",
       "      <td>3</td>\n",
       "      <td>Peter, Master. Michael J</td>\n",
       "      <td>male</td>\n",
       "      <td>26.0</td>\n",
       "      <td>1</td>\n",
       "      <td>1</td>\n",
       "      <td>2668</td>\n",
       "      <td>22.3583</td>\n",
       "      <td>Un</td>\n",
       "      <td>C</td>\n",
       "      <td>Master</td>\n",
       "      <td>0.0</td>\n",
       "    </tr>\n",
       "  </tbody>\n",
       "</table>\n",
       "<p>1309 rows × 14 columns</p>\n",
       "</div>"
      ],
      "text/plain": [
       "     PassengerId  Survived  Pclass  \\\n",
       "0              1       0.0       3   \n",
       "1              2       1.0       1   \n",
       "2              3       1.0       3   \n",
       "3              4       1.0       1   \n",
       "4              5       0.0       3   \n",
       "..           ...       ...     ...   \n",
       "413         1305       NaN       3   \n",
       "414         1306       NaN       1   \n",
       "415         1307       NaN       3   \n",
       "416         1308       NaN       3   \n",
       "417         1309       NaN       3   \n",
       "\n",
       "                                                  Name     Sex   Age  SibSp  \\\n",
       "0                              Braund, Mr. Owen Harris    male  22.0      1   \n",
       "1    Cumings, Mrs. John Bradley (Florence Briggs Th...  female  38.0      1   \n",
       "2                               Heikkinen, Miss. Laina  female  26.0      0   \n",
       "3         Futrelle, Mrs. Jacques Heath (Lily May Peel)  female  35.0      1   \n",
       "4                             Allen, Mr. William Henry    male  35.0      0   \n",
       "..                                                 ...     ...   ...    ...   \n",
       "413                                 Spector, Mr. Woolf    male  29.0      0   \n",
       "414                       Oliva y Ocana, Dona. Fermina  female  39.0      0   \n",
       "415                       Saether, Mr. Simon Sivertsen    male  38.5      0   \n",
       "416                                Ware, Mr. Frederick    male  29.0      0   \n",
       "417                           Peter, Master. Michael J    male  26.0      1   \n",
       "\n",
       "     Parch              Ticket      Fare Cabin Embarked    Call  OnCabin  \n",
       "0        0           A/5 21171    7.2500    Un        S      Mr      0.0  \n",
       "1        0            PC 17599   71.2833   C85        C     Mrs      1.0  \n",
       "2        0    STON/O2. 3101282    7.9250    Un        S    Miss      0.0  \n",
       "3        0              113803   53.1000  C123        S     Mrs      1.0  \n",
       "4        0              373450    8.0500    Un        S      Mr      0.0  \n",
       "..     ...                 ...       ...   ...      ...     ...      ...  \n",
       "413      0           A.5. 3236    8.0500    Un        S      Mr      0.0  \n",
       "414      0            PC 17758  108.9000  C105        C    Rare      1.0  \n",
       "415      0  SOTON/O.Q. 3101262    7.2500    Un        S      Mr      0.0  \n",
       "416      0              359309    8.0500    Un        S      Mr      0.0  \n",
       "417      1                2668   22.3583    Un        C  Master      0.0  \n",
       "\n",
       "[1309 rows x 14 columns]"
      ]
     },
     "execution_count": 13,
     "metadata": {},
     "output_type": "execute_result"
    }
   ],
   "source": [
    "titanic_data"
   ]
  },
  {
   "cell_type": "code",
   "execution_count": 14,
   "metadata": {
    "ExecuteTime": {
     "end_time": "2020-05-24T10:54:24.023864Z",
     "start_time": "2020-05-24T10:54:22.639616Z"
    }
   },
   "outputs": [
    {
     "data": {
      "text/html": [
       "<div>\n",
       "<style scoped>\n",
       "    .dataframe tbody tr th:only-of-type {\n",
       "        vertical-align: middle;\n",
       "    }\n",
       "\n",
       "    .dataframe tbody tr th {\n",
       "        vertical-align: top;\n",
       "    }\n",
       "\n",
       "    .dataframe thead th {\n",
       "        text-align: right;\n",
       "    }\n",
       "</style>\n",
       "<table border=\"1\" class=\"dataframe\">\n",
       "  <thead>\n",
       "    <tr style=\"text-align: right;\">\n",
       "      <th></th>\n",
       "      <th>Survived</th>\n",
       "      <th>OnCabin</th>\n",
       "    </tr>\n",
       "  </thead>\n",
       "  <tbody>\n",
       "    <tr>\n",
       "      <th>Survived</th>\n",
       "      <td>1.000000</td>\n",
       "      <td>0.316912</td>\n",
       "    </tr>\n",
       "    <tr>\n",
       "      <th>OnCabin</th>\n",
       "      <td>0.316912</td>\n",
       "      <td>1.000000</td>\n",
       "    </tr>\n",
       "  </tbody>\n",
       "</table>\n",
       "</div>"
      ],
      "text/plain": [
       "          Survived   OnCabin\n",
       "Survived  1.000000  0.316912\n",
       "OnCabin   0.316912  1.000000"
      ]
     },
     "execution_count": 14,
     "metadata": {},
     "output_type": "execute_result"
    },
    {
     "data": {
      "text/plain": [
       "<matplotlib.axes._subplots.AxesSubplot at 0x2374592a588>"
      ]
     },
     "execution_count": 14,
     "metadata": {},
     "output_type": "execute_result"
    },
    {
     "data": {
      "text/plain": [
       "<matplotlib.axes._subplots.AxesSubplot at 0x23745c38048>"
      ]
     },
     "execution_count": 14,
     "metadata": {},
     "output_type": "execute_result"
    },
    {
     "data": {
      "image/png": "[encoded data removed]",
      "text/plain": [
       "<Figure size 432x288 with 1 Axes>"
      ]
     },
     "metadata": {
      "needs_background": "light"
     },
     "output_type": "display_data"
    },
    {
     "data": {
      "image/png": "[encoded data removed]",
      "text/plain": [
       "<Figure size 432x288 with 1 Axes>"
      ]
     },
     "metadata": {
      "needs_background": "light"
     },
     "output_type": "display_data"
    }
   ],
   "source": [
    "# 计算存活和是否登记船舱的相关系数，并绘制交叉数据图\n",
    "titanic_data[:891].loc[:,['Survived','OnCabin']].corr()\n",
    "pd.crosstab(titanic_data.OnCabin[:891],train_data.Survived).plot.bar(stacked=True)\n",
    "pd.crosstab(titanic_data.OnCabin[:891],train_data.Survived).plot.bar()"
   ]
  },
  {
   "cell_type": "code",
   "execution_count": 15,
   "metadata": {
    "ExecuteTime": {
     "end_time": "2020-05-24T10:54:24.041910Z",
     "start_time": "2020-05-24T10:54:24.028715Z"
    }
   },
   "outputs": [],
   "source": [
    "# 补全Fare和Embarked\n",
    "most_embarked = titanic_data.Embarked.value_counts().index[0] # series.keys()[0]\n",
    "titanic_data.Embarked = titanic_data.Embarked.fillna(most_embarked)\n",
    "titanic_data.Fare = titanic_data.Fare.fillna(titanic_data.Fare.median())"
   ]
  },
  {
   "cell_type": "code",
   "execution_count": 16,
   "metadata": {
    "ExecuteTime": {
     "end_time": "2020-05-24T10:54:24.229409Z",
     "start_time": "2020-05-24T10:54:24.048937Z"
    },
    "scrolled": false
   },
   "outputs": [
    {
     "name": "stdout",
     "output_type": "stream",
     "text": [
      "<class 'pandas.core.frame.DataFrame'>\n",
      "Int64Index: 1309 entries, 0 to 417\n",
      "Data columns (total 14 columns):\n",
      " #   Column       Non-Null Count  Dtype  \n",
      "---  ------       --------------  -----  \n",
      " 0   PassengerId  1309 non-null   int64  \n",
      " 1   Survived     891 non-null    float64\n",
      " 2   Pclass       1309 non-null   int64  \n",
      " 3   Name         1309 non-null   object \n",
      " 4   Sex          1309 non-null   object \n",
      " 5   Age          1309 non-null   float64\n",
      " 6   SibSp        1309 non-null   int64  \n",
      " 7   Parch        1309 non-null   int64  \n",
      " 8   Ticket       1309 non-null   object \n",
      " 9   Fare         1309 non-null   float64\n",
      " 10  Cabin        1309 non-null   object \n",
      " 11  Embarked     1309 non-null   object \n",
      " 12  Call         1309 non-null   object \n",
      " 13  OnCabin      1309 non-null   float64\n",
      "dtypes: float64(4), int64(4), object(6)\n",
      "memory usage: 153.4+ KB\n"
     ]
    }
   ],
   "source": [
    "titanic_data.info() # 已无缺失"
   ]
  },
  {
   "cell_type": "markdown",
   "metadata": {},
   "source": [
    "## 2 特征工程"
   ]
  },
  {
   "cell_type": "markdown",
   "metadata": {},
   "source": [
    "参考：\n",
    "\n",
    "[pandas之cut(),qcut()](https://www.cnblogs.com/nicetoseeyou/p/10655422.html)"
   ]
  },
  {
   "cell_type": "code",
   "execution_count": 17,
   "metadata": {
    "ExecuteTime": {
     "end_time": "2020-05-24T10:54:24.443656Z",
     "start_time": "2020-05-24T10:54:24.232416Z"
    }
   },
   "outputs": [
    {
     "data": {
      "text/html": [
       "<div>\n",
       "<style scoped>\n",
       "    .dataframe tbody tr th:only-of-type {\n",
       "        vertical-align: middle;\n",
       "    }\n",
       "\n",
       "    .dataframe tbody tr th {\n",
       "        vertical-align: top;\n",
       "    }\n",
       "\n",
       "    .dataframe thead th {\n",
       "        text-align: right;\n",
       "    }\n",
       "</style>\n",
       "<table border=\"1\" class=\"dataframe\">\n",
       "  <thead>\n",
       "    <tr style=\"text-align: right;\">\n",
       "      <th></th>\n",
       "      <th>PassengerId</th>\n",
       "      <th>Survived</th>\n",
       "      <th>Pclass</th>\n",
       "      <th>Name</th>\n",
       "      <th>Sex</th>\n",
       "      <th>Age</th>\n",
       "      <th>SibSp</th>\n",
       "      <th>Parch</th>\n",
       "      <th>Ticket</th>\n",
       "      <th>Fare</th>\n",
       "      <th>Cabin</th>\n",
       "      <th>Embarked</th>\n",
       "      <th>Call</th>\n",
       "      <th>OnCabin</th>\n",
       "    </tr>\n",
       "  </thead>\n",
       "  <tbody>\n",
       "    <tr>\n",
       "      <th>0</th>\n",
       "      <td>1</td>\n",
       "      <td>0.0</td>\n",
       "      <td>3</td>\n",
       "      <td>Braund, Mr. Owen Harris</td>\n",
       "      <td>male</td>\n",
       "      <td>22.0</td>\n",
       "      <td>1</td>\n",
       "      <td>0</td>\n",
       "      <td>A/5 21171</td>\n",
       "      <td>7.2500</td>\n",
       "      <td>Un</td>\n",
       "      <td>S</td>\n",
       "      <td>Mr</td>\n",
       "      <td>0.0</td>\n",
       "    </tr>\n",
       "    <tr>\n",
       "      <th>1</th>\n",
       "      <td>2</td>\n",
       "      <td>1.0</td>\n",
       "      <td>1</td>\n",
       "      <td>Cumings, Mrs. John Bradley (Florence Briggs Th...</td>\n",
       "      <td>female</td>\n",
       "      <td>38.0</td>\n",
       "      <td>1</td>\n",
       "      <td>0</td>\n",
       "      <td>PC 17599</td>\n",
       "      <td>71.2833</td>\n",
       "      <td>C85</td>\n",
       "      <td>C</td>\n",
       "      <td>Mrs</td>\n",
       "      <td>1.0</td>\n",
       "    </tr>\n",
       "    <tr>\n",
       "      <th>2</th>\n",
       "      <td>3</td>\n",
       "      <td>1.0</td>\n",
       "      <td>3</td>\n",
       "      <td>Heikkinen, Miss. Laina</td>\n",
       "      <td>female</td>\n",
       "      <td>26.0</td>\n",
       "      <td>0</td>\n",
       "      <td>0</td>\n",
       "      <td>STON/O2. 3101282</td>\n",
       "      <td>7.9250</td>\n",
       "      <td>Un</td>\n",
       "      <td>S</td>\n",
       "      <td>Miss</td>\n",
       "      <td>0.0</td>\n",
       "    </tr>\n",
       "    <tr>\n",
       "      <th>3</th>\n",
       "      <td>4</td>\n",
       "      <td>1.0</td>\n",
       "      <td>1</td>\n",
       "      <td>Futrelle, Mrs. Jacques Heath (Lily May Peel)</td>\n",
       "      <td>female</td>\n",
       "      <td>35.0</td>\n",
       "      <td>1</td>\n",
       "      <td>0</td>\n",
       "      <td>113803</td>\n",
       "      <td>53.1000</td>\n",
       "      <td>C123</td>\n",
       "      <td>S</td>\n",
       "      <td>Mrs</td>\n",
       "      <td>1.0</td>\n",
       "    </tr>\n",
       "    <tr>\n",
       "      <th>4</th>\n",
       "      <td>5</td>\n",
       "      <td>0.0</td>\n",
       "      <td>3</td>\n",
       "      <td>Allen, Mr. William Henry</td>\n",
       "      <td>male</td>\n",
       "      <td>35.0</td>\n",
       "      <td>0</td>\n",
       "      <td>0</td>\n",
       "      <td>373450</td>\n",
       "      <td>8.0500</td>\n",
       "      <td>Un</td>\n",
       "      <td>S</td>\n",
       "      <td>Mr</td>\n",
       "      <td>0.0</td>\n",
       "    </tr>\n",
       "  </tbody>\n",
       "</table>\n",
       "</div>"
      ],
      "text/plain": [
       "   PassengerId  Survived  Pclass  \\\n",
       "0            1       0.0       3   \n",
       "1            2       1.0       1   \n",
       "2            3       1.0       3   \n",
       "3            4       1.0       1   \n",
       "4            5       0.0       3   \n",
       "\n",
       "                                                Name     Sex   Age  SibSp  \\\n",
       "0                            Braund, Mr. Owen Harris    male  22.0      1   \n",
       "1  Cumings, Mrs. John Bradley (Florence Briggs Th...  female  38.0      1   \n",
       "2                             Heikkinen, Miss. Laina  female  26.0      0   \n",
       "3       Futrelle, Mrs. Jacques Heath (Lily May Peel)  female  35.0      1   \n",
       "4                           Allen, Mr. William Henry    male  35.0      0   \n",
       "\n",
       "   Parch            Ticket     Fare Cabin Embarked  Call  OnCabin  \n",
       "0      0         A/5 21171   7.2500    Un        S    Mr      0.0  \n",
       "1      0          PC 17599  71.2833   C85        C   Mrs      1.0  \n",
       "2      0  STON/O2. 3101282   7.9250    Un        S  Miss      0.0  \n",
       "3      0            113803  53.1000  C123        S   Mrs      1.0  \n",
       "4      0            373450   8.0500    Un        S    Mr      0.0  "
      ]
     },
     "execution_count": 17,
     "metadata": {},
     "output_type": "execute_result"
    }
   ],
   "source": [
    "titanic_data.head()"
   ]
  },
  {
   "cell_type": "code",
   "execution_count": 18,
   "metadata": {
    "ExecuteTime": {
     "end_time": "2020-05-24T10:54:24.586149Z",
     "start_time": "2020-05-24T10:54:24.446990Z"
    }
   },
   "outputs": [
    {
     "data": {
      "text/plain": [
       "U    1014\n",
       "C      94\n",
       "B      65\n",
       "D      46\n",
       "E      41\n",
       "A      22\n",
       "F      21\n",
       "G       6\n",
       "Name: Cabin, dtype: int64"
      ]
     },
     "execution_count": 18,
     "metadata": {},
     "output_type": "execute_result"
    }
   ],
   "source": [
    "# 虽然有的Cabin有两个值，但同行者大多在同一类船舱，故不细分\n",
    "# set 'T' to 'G'\n",
    "titanic_data.Cabin = titanic_data.Cabin.apply(lambda cabin: cabin[0])\n",
    "titanic_data.loc[titanic_data['Cabin'] == 'T',['Cabin']] = 'G'\n",
    "titanic_data.Cabin.value_counts()"
   ]
  },
  {
   "cell_type": "code",
   "execution_count": 19,
   "metadata": {
    "ExecuteTime": {
     "end_time": "2020-05-24T10:54:24.725517Z",
     "start_time": "2020-05-24T10:54:24.588652Z"
    }
   },
   "outputs": [
    {
     "data": {
      "text/plain": [
       "array([ 0.09017, 10.14875, 20.1275 , 30.10625, 40.085  , 50.06375,\n",
       "       60.0425 , 70.02125, 80.     ])"
      ]
     },
     "execution_count": 19,
     "metadata": {},
     "output_type": "execute_result"
    },
    {
     "data": {
      "text/plain": [
       "2    595\n",
       "3    237\n",
       "1    162\n",
       "4    134\n",
       "0     86\n",
       "5     62\n",
       "6     27\n",
       "7      6\n",
       "Name: AgeCut, dtype: int64"
      ]
     },
     "execution_count": 19,
     "metadata": {},
     "output_type": "execute_result"
    }
   ],
   "source": [
    "# 创建Age的哑变量AgeCut，按年龄段划分\n",
    "titanic_data['AgeCut'] = None\n",
    "pd.cut(titanic_data.Age,8,labels=False,retbins=True)[1]\n",
    "titanic_data.loc[:,['AgeCut']] = pd.cut(titanic_data.Age,8,labels=False,retbins=True)[0]\n",
    "titanic_data.AgeCut.value_counts()"
   ]
  },
  {
   "cell_type": "code",
   "execution_count": 20,
   "metadata": {
    "ExecuteTime": {
     "end_time": "2020-05-24T10:54:24.842360Z",
     "start_time": "2020-05-24T10:54:24.729026Z"
    }
   },
   "outputs": [
    {
     "data": {
      "text/plain": [
       "array([  0.    ,   7.8958,  14.4542,  31.275 , 512.3292])"
      ]
     },
     "execution_count": 20,
     "metadata": {},
     "output_type": "execute_result"
    },
    {
     "data": {
      "text/plain": [
       "0    337\n",
       "2    328\n",
       "3    323\n",
       "1    321\n",
       "Name: FareCut, dtype: int64"
      ]
     },
     "execution_count": 20,
     "metadata": {},
     "output_type": "execute_result"
    }
   ],
   "source": [
    "# 创建FareCut的哑变量FareCut\n",
    "titanic_data['FareCut'] = None\n",
    "pd.qcut(titanic_data.Fare,4,labels=False,retbins=True)[1]\n",
    "titanic_data.loc[:,['FareCut']] = pd.qcut(titanic_data.Fare,4,labels=False)\n",
    "titanic_data.FareCut.value_counts()"
   ]
  },
  {
   "cell_type": "code",
   "execution_count": 21,
   "metadata": {
    "ExecuteTime": {
     "end_time": "2020-05-24T10:54:24.955630Z",
     "start_time": "2020-05-24T10:54:24.845335Z"
    }
   },
   "outputs": [
    {
     "data": {
      "text/html": [
       "<div>\n",
       "<style scoped>\n",
       "    .dataframe tbody tr th:only-of-type {\n",
       "        vertical-align: middle;\n",
       "    }\n",
       "\n",
       "    .dataframe tbody tr th {\n",
       "        vertical-align: top;\n",
       "    }\n",
       "\n",
       "    .dataframe thead th {\n",
       "        text-align: right;\n",
       "    }\n",
       "</style>\n",
       "<table border=\"1\" class=\"dataframe\">\n",
       "  <thead>\n",
       "    <tr style=\"text-align: right;\">\n",
       "      <th></th>\n",
       "      <th>PassengerId</th>\n",
       "      <th>Survived</th>\n",
       "      <th>Pclass</th>\n",
       "      <th>Name</th>\n",
       "      <th>Sex</th>\n",
       "      <th>Age</th>\n",
       "      <th>SibSp</th>\n",
       "      <th>Parch</th>\n",
       "      <th>Ticket</th>\n",
       "      <th>Fare</th>\n",
       "      <th>Cabin</th>\n",
       "      <th>Embarked</th>\n",
       "      <th>Call</th>\n",
       "      <th>OnCabin</th>\n",
       "      <th>AgeCut</th>\n",
       "      <th>FareCut</th>\n",
       "    </tr>\n",
       "  </thead>\n",
       "  <tbody>\n",
       "    <tr>\n",
       "      <th>0</th>\n",
       "      <td>1</td>\n",
       "      <td>0.0</td>\n",
       "      <td>3</td>\n",
       "      <td>Braund, Mr. Owen Harris</td>\n",
       "      <td>male</td>\n",
       "      <td>22.0</td>\n",
       "      <td>1</td>\n",
       "      <td>0</td>\n",
       "      <td>A/5 21171</td>\n",
       "      <td>7.2500</td>\n",
       "      <td>U</td>\n",
       "      <td>S</td>\n",
       "      <td>Mr</td>\n",
       "      <td>0.0</td>\n",
       "      <td>2</td>\n",
       "      <td>0</td>\n",
       "    </tr>\n",
       "    <tr>\n",
       "      <th>1</th>\n",
       "      <td>2</td>\n",
       "      <td>1.0</td>\n",
       "      <td>1</td>\n",
       "      <td>Cumings, Mrs. John Bradley (Florence Briggs Th...</td>\n",
       "      <td>female</td>\n",
       "      <td>38.0</td>\n",
       "      <td>1</td>\n",
       "      <td>0</td>\n",
       "      <td>PC 17599</td>\n",
       "      <td>71.2833</td>\n",
       "      <td>C</td>\n",
       "      <td>C</td>\n",
       "      <td>Mrs</td>\n",
       "      <td>1.0</td>\n",
       "      <td>3</td>\n",
       "      <td>3</td>\n",
       "    </tr>\n",
       "    <tr>\n",
       "      <th>2</th>\n",
       "      <td>3</td>\n",
       "      <td>1.0</td>\n",
       "      <td>3</td>\n",
       "      <td>Heikkinen, Miss. Laina</td>\n",
       "      <td>female</td>\n",
       "      <td>26.0</td>\n",
       "      <td>0</td>\n",
       "      <td>0</td>\n",
       "      <td>STON/O2. 3101282</td>\n",
       "      <td>7.9250</td>\n",
       "      <td>U</td>\n",
       "      <td>S</td>\n",
       "      <td>Miss</td>\n",
       "      <td>0.0</td>\n",
       "      <td>2</td>\n",
       "      <td>1</td>\n",
       "    </tr>\n",
       "    <tr>\n",
       "      <th>3</th>\n",
       "      <td>4</td>\n",
       "      <td>1.0</td>\n",
       "      <td>1</td>\n",
       "      <td>Futrelle, Mrs. Jacques Heath (Lily May Peel)</td>\n",
       "      <td>female</td>\n",
       "      <td>35.0</td>\n",
       "      <td>1</td>\n",
       "      <td>0</td>\n",
       "      <td>113803</td>\n",
       "      <td>53.1000</td>\n",
       "      <td>C</td>\n",
       "      <td>S</td>\n",
       "      <td>Mrs</td>\n",
       "      <td>1.0</td>\n",
       "      <td>3</td>\n",
       "      <td>3</td>\n",
       "    </tr>\n",
       "    <tr>\n",
       "      <th>4</th>\n",
       "      <td>5</td>\n",
       "      <td>0.0</td>\n",
       "      <td>3</td>\n",
       "      <td>Allen, Mr. William Henry</td>\n",
       "      <td>male</td>\n",
       "      <td>35.0</td>\n",
       "      <td>0</td>\n",
       "      <td>0</td>\n",
       "      <td>373450</td>\n",
       "      <td>8.0500</td>\n",
       "      <td>U</td>\n",
       "      <td>S</td>\n",
       "      <td>Mr</td>\n",
       "      <td>0.0</td>\n",
       "      <td>3</td>\n",
       "      <td>1</td>\n",
       "    </tr>\n",
       "  </tbody>\n",
       "</table>\n",
       "</div>"
      ],
      "text/plain": [
       "   PassengerId  Survived  Pclass  \\\n",
       "0            1       0.0       3   \n",
       "1            2       1.0       1   \n",
       "2            3       1.0       3   \n",
       "3            4       1.0       1   \n",
       "4            5       0.0       3   \n",
       "\n",
       "                                                Name     Sex   Age  SibSp  \\\n",
       "0                            Braund, Mr. Owen Harris    male  22.0      1   \n",
       "1  Cumings, Mrs. John Bradley (Florence Briggs Th...  female  38.0      1   \n",
       "2                             Heikkinen, Miss. Laina  female  26.0      0   \n",
       "3       Futrelle, Mrs. Jacques Heath (Lily May Peel)  female  35.0      1   \n",
       "4                           Allen, Mr. William Henry    male  35.0      0   \n",
       "\n",
       "   Parch            Ticket     Fare Cabin Embarked  Call  OnCabin  AgeCut  \\\n",
       "0      0         A/5 21171   7.2500     U        S    Mr      0.0       2   \n",
       "1      0          PC 17599  71.2833     C        C   Mrs      1.0       3   \n",
       "2      0  STON/O2. 3101282   7.9250     U        S  Miss      0.0       2   \n",
       "3      0            113803  53.1000     C        S   Mrs      1.0       3   \n",
       "4      0            373450   8.0500     U        S    Mr      0.0       3   \n",
       "\n",
       "   FareCut  \n",
       "0        0  \n",
       "1        3  \n",
       "2        1  \n",
       "3        3  \n",
       "4        1  "
      ]
     },
     "execution_count": 21,
     "metadata": {},
     "output_type": "execute_result"
    }
   ],
   "source": [
    "titanic_data.head()"
   ]
  },
  {
   "cell_type": "code",
   "execution_count": 22,
   "metadata": {
    "ExecuteTime": {
     "end_time": "2020-05-24T10:54:25.114049Z",
     "start_time": "2020-05-24T10:54:24.958137Z"
    }
   },
   "outputs": [],
   "source": [
    "# SibSp和Parch合并为家庭成员人数FamliyNum\n",
    "titanic_data['FamilyNum'] = None\n",
    "titanic_data['FamilyNum'] = titanic_data.SibSp.copy() + titanic_data.Parch.copy() + 1"
   ]
  },
  {
   "cell_type": "code",
   "execution_count": 23,
   "metadata": {
    "ExecuteTime": {
     "end_time": "2020-05-24T10:54:25.238662Z",
     "start_time": "2020-05-24T10:54:25.119563Z"
    }
   },
   "outputs": [
    {
     "data": {
      "text/html": [
       "<div>\n",
       "<style scoped>\n",
       "    .dataframe tbody tr th:only-of-type {\n",
       "        vertical-align: middle;\n",
       "    }\n",
       "\n",
       "    .dataframe tbody tr th {\n",
       "        vertical-align: top;\n",
       "    }\n",
       "\n",
       "    .dataframe thead th {\n",
       "        text-align: right;\n",
       "    }\n",
       "</style>\n",
       "<table border=\"1\" class=\"dataframe\">\n",
       "  <thead>\n",
       "    <tr style=\"text-align: right;\">\n",
       "      <th></th>\n",
       "      <th>PassengerId</th>\n",
       "      <th>Survived</th>\n",
       "      <th>Pclass</th>\n",
       "      <th>Name</th>\n",
       "      <th>Sex</th>\n",
       "      <th>Age</th>\n",
       "      <th>SibSp</th>\n",
       "      <th>Parch</th>\n",
       "      <th>Ticket</th>\n",
       "      <th>Fare</th>\n",
       "      <th>Cabin</th>\n",
       "      <th>Embarked</th>\n",
       "      <th>Call</th>\n",
       "      <th>OnCabin</th>\n",
       "      <th>AgeCut</th>\n",
       "      <th>FareCut</th>\n",
       "      <th>FamilyNum</th>\n",
       "    </tr>\n",
       "  </thead>\n",
       "  <tbody>\n",
       "    <tr>\n",
       "      <th>0</th>\n",
       "      <td>1</td>\n",
       "      <td>0.0</td>\n",
       "      <td>3</td>\n",
       "      <td>Braund, Mr. Owen Harris</td>\n",
       "      <td>male</td>\n",
       "      <td>22.0</td>\n",
       "      <td>1</td>\n",
       "      <td>0</td>\n",
       "      <td>A/5 21171</td>\n",
       "      <td>7.2500</td>\n",
       "      <td>U</td>\n",
       "      <td>S</td>\n",
       "      <td>Mr</td>\n",
       "      <td>0.0</td>\n",
       "      <td>2</td>\n",
       "      <td>0</td>\n",
       "      <td>2</td>\n",
       "    </tr>\n",
       "    <tr>\n",
       "      <th>1</th>\n",
       "      <td>2</td>\n",
       "      <td>1.0</td>\n",
       "      <td>1</td>\n",
       "      <td>Cumings, Mrs. John Bradley (Florence Briggs Th...</td>\n",
       "      <td>female</td>\n",
       "      <td>38.0</td>\n",
       "      <td>1</td>\n",
       "      <td>0</td>\n",
       "      <td>PC 17599</td>\n",
       "      <td>71.2833</td>\n",
       "      <td>C</td>\n",
       "      <td>C</td>\n",
       "      <td>Mrs</td>\n",
       "      <td>1.0</td>\n",
       "      <td>3</td>\n",
       "      <td>3</td>\n",
       "      <td>2</td>\n",
       "    </tr>\n",
       "    <tr>\n",
       "      <th>2</th>\n",
       "      <td>3</td>\n",
       "      <td>1.0</td>\n",
       "      <td>3</td>\n",
       "      <td>Heikkinen, Miss. Laina</td>\n",
       "      <td>female</td>\n",
       "      <td>26.0</td>\n",
       "      <td>0</td>\n",
       "      <td>0</td>\n",
       "      <td>STON/O2. 3101282</td>\n",
       "      <td>7.9250</td>\n",
       "      <td>U</td>\n",
       "      <td>S</td>\n",
       "      <td>Miss</td>\n",
       "      <td>0.0</td>\n",
       "      <td>2</td>\n",
       "      <td>1</td>\n",
       "      <td>1</td>\n",
       "    </tr>\n",
       "    <tr>\n",
       "      <th>3</th>\n",
       "      <td>4</td>\n",
       "      <td>1.0</td>\n",
       "      <td>1</td>\n",
       "      <td>Futrelle, Mrs. Jacques Heath (Lily May Peel)</td>\n",
       "      <td>female</td>\n",
       "      <td>35.0</td>\n",
       "      <td>1</td>\n",
       "      <td>0</td>\n",
       "      <td>113803</td>\n",
       "      <td>53.1000</td>\n",
       "      <td>C</td>\n",
       "      <td>S</td>\n",
       "      <td>Mrs</td>\n",
       "      <td>1.0</td>\n",
       "      <td>3</td>\n",
       "      <td>3</td>\n",
       "      <td>2</td>\n",
       "    </tr>\n",
       "    <tr>\n",
       "      <th>4</th>\n",
       "      <td>5</td>\n",
       "      <td>0.0</td>\n",
       "      <td>3</td>\n",
       "      <td>Allen, Mr. William Henry</td>\n",
       "      <td>male</td>\n",
       "      <td>35.0</td>\n",
       "      <td>0</td>\n",
       "      <td>0</td>\n",
       "      <td>373450</td>\n",
       "      <td>8.0500</td>\n",
       "      <td>U</td>\n",
       "      <td>S</td>\n",
       "      <td>Mr</td>\n",
       "      <td>0.0</td>\n",
       "      <td>3</td>\n",
       "      <td>1</td>\n",
       "      <td>1</td>\n",
       "    </tr>\n",
       "  </tbody>\n",
       "</table>\n",
       "</div>"
      ],
      "text/plain": [
       "   PassengerId  Survived  Pclass  \\\n",
       "0            1       0.0       3   \n",
       "1            2       1.0       1   \n",
       "2            3       1.0       3   \n",
       "3            4       1.0       1   \n",
       "4            5       0.0       3   \n",
       "\n",
       "                                                Name     Sex   Age  SibSp  \\\n",
       "0                            Braund, Mr. Owen Harris    male  22.0      1   \n",
       "1  Cumings, Mrs. John Bradley (Florence Briggs Th...  female  38.0      1   \n",
       "2                             Heikkinen, Miss. Laina  female  26.0      0   \n",
       "3       Futrelle, Mrs. Jacques Heath (Lily May Peel)  female  35.0      1   \n",
       "4                           Allen, Mr. William Henry    male  35.0      0   \n",
       "\n",
       "   Parch            Ticket     Fare Cabin Embarked  Call  OnCabin  AgeCut  \\\n",
       "0      0         A/5 21171   7.2500     U        S    Mr      0.0       2   \n",
       "1      0          PC 17599  71.2833     C        C   Mrs      1.0       3   \n",
       "2      0  STON/O2. 3101282   7.9250     U        S  Miss      0.0       2   \n",
       "3      0            113803  53.1000     C        S   Mrs      1.0       3   \n",
       "4      0            373450   8.0500     U        S    Mr      0.0       3   \n",
       "\n",
       "   FareCut  FamilyNum  \n",
       "0        0          2  \n",
       "1        3          2  \n",
       "2        1          1  \n",
       "3        3          2  \n",
       "4        1          1  "
      ]
     },
     "execution_count": 23,
     "metadata": {},
     "output_type": "execute_result"
    }
   ],
   "source": [
    "titanic_data.head()"
   ]
  },
  {
   "cell_type": "code",
   "execution_count": 24,
   "metadata": {
    "ExecuteTime": {
     "end_time": "2020-05-24T10:54:27.265198Z",
     "start_time": "2020-05-24T10:54:27.237022Z"
    }
   },
   "outputs": [],
   "source": [
    "# 将剩下的离散属性数值化\n",
    "Sex_index = titanic_data.Sex.value_counts().index\n",
    "Cabin_index = titanic_data.Cabin.value_counts().index\n",
    "Call_index = titanic_data.Call.value_counts().index\n",
    "Embarked_index = titanic_data.Embarked.value_counts().index\n",
    "\n",
    "Sex_dict = {Sex_index[i]:i for i in range(len(Sex_index))}\n",
    "Cabin_dict = {Cabin_index[i]:i for i in range(len(Cabin_index))}\n",
    "Call_dict = {Call_index[i]:i for i in range(len(Call_index))}\n",
    "Embarked_dict = {Embarked_index[i]:i for i in range(len(Embarked_index))}\n",
    "\n",
    "titanic_data.Sex = titanic_data.Sex.map(Sex_dict)\n",
    "titanic_data.Cabin = titanic_data.Cabin.map(Cabin_dict)\n",
    "titanic_data.Call = titanic_data.Call.map(Call_dict)\n",
    "titanic_data.Embarked = titanic_data.Embarked.map(Embarked_dict)"
   ]
  },
  {
   "cell_type": "code",
   "execution_count": 25,
   "metadata": {
    "ExecuteTime": {
     "end_time": "2020-05-24T10:54:27.427526Z",
     "start_time": "2020-05-24T10:54:27.406971Z"
    }
   },
   "outputs": [],
   "source": [
    "# 去掉Name和Ticket\n",
    "titanic_data = titanic_data.drop(['Name','Ticket'],axis=1)"
   ]
  },
  {
   "cell_type": "code",
   "execution_count": 26,
   "metadata": {
    "ExecuteTime": {
     "end_time": "2020-05-24T10:54:27.569412Z",
     "start_time": "2020-05-24T10:54:27.536818Z"
    }
   },
   "outputs": [
    {
     "data": {
      "text/html": [
       "<div>\n",
       "<style scoped>\n",
       "    .dataframe tbody tr th:only-of-type {\n",
       "        vertical-align: middle;\n",
       "    }\n",
       "\n",
       "    .dataframe tbody tr th {\n",
       "        vertical-align: top;\n",
       "    }\n",
       "\n",
       "    .dataframe thead th {\n",
       "        text-align: right;\n",
       "    }\n",
       "</style>\n",
       "<table border=\"1\" class=\"dataframe\">\n",
       "  <thead>\n",
       "    <tr style=\"text-align: right;\">\n",
       "      <th></th>\n",
       "      <th>PassengerId</th>\n",
       "      <th>Survived</th>\n",
       "      <th>Pclass</th>\n",
       "      <th>Sex</th>\n",
       "      <th>Age</th>\n",
       "      <th>SibSp</th>\n",
       "      <th>Parch</th>\n",
       "      <th>Fare</th>\n",
       "      <th>Cabin</th>\n",
       "      <th>Embarked</th>\n",
       "      <th>Call</th>\n",
       "      <th>OnCabin</th>\n",
       "      <th>AgeCut</th>\n",
       "      <th>FareCut</th>\n",
       "      <th>FamilyNum</th>\n",
       "    </tr>\n",
       "  </thead>\n",
       "  <tbody>\n",
       "    <tr>\n",
       "      <th>0</th>\n",
       "      <td>1</td>\n",
       "      <td>0.0</td>\n",
       "      <td>3</td>\n",
       "      <td>0</td>\n",
       "      <td>22.0</td>\n",
       "      <td>1</td>\n",
       "      <td>0</td>\n",
       "      <td>7.2500</td>\n",
       "      <td>0</td>\n",
       "      <td>0</td>\n",
       "      <td>0</td>\n",
       "      <td>0.0</td>\n",
       "      <td>2</td>\n",
       "      <td>0</td>\n",
       "      <td>2</td>\n",
       "    </tr>\n",
       "    <tr>\n",
       "      <th>1</th>\n",
       "      <td>2</td>\n",
       "      <td>1.0</td>\n",
       "      <td>1</td>\n",
       "      <td>1</td>\n",
       "      <td>38.0</td>\n",
       "      <td>1</td>\n",
       "      <td>0</td>\n",
       "      <td>71.2833</td>\n",
       "      <td>1</td>\n",
       "      <td>1</td>\n",
       "      <td>2</td>\n",
       "      <td>1.0</td>\n",
       "      <td>3</td>\n",
       "      <td>3</td>\n",
       "      <td>2</td>\n",
       "    </tr>\n",
       "    <tr>\n",
       "      <th>2</th>\n",
       "      <td>3</td>\n",
       "      <td>1.0</td>\n",
       "      <td>3</td>\n",
       "      <td>1</td>\n",
       "      <td>26.0</td>\n",
       "      <td>0</td>\n",
       "      <td>0</td>\n",
       "      <td>7.9250</td>\n",
       "      <td>0</td>\n",
       "      <td>0</td>\n",
       "      <td>1</td>\n",
       "      <td>0.0</td>\n",
       "      <td>2</td>\n",
       "      <td>1</td>\n",
       "      <td>1</td>\n",
       "    </tr>\n",
       "    <tr>\n",
       "      <th>3</th>\n",
       "      <td>4</td>\n",
       "      <td>1.0</td>\n",
       "      <td>1</td>\n",
       "      <td>1</td>\n",
       "      <td>35.0</td>\n",
       "      <td>1</td>\n",
       "      <td>0</td>\n",
       "      <td>53.1000</td>\n",
       "      <td>1</td>\n",
       "      <td>0</td>\n",
       "      <td>2</td>\n",
       "      <td>1.0</td>\n",
       "      <td>3</td>\n",
       "      <td>3</td>\n",
       "      <td>2</td>\n",
       "    </tr>\n",
       "    <tr>\n",
       "      <th>4</th>\n",
       "      <td>5</td>\n",
       "      <td>0.0</td>\n",
       "      <td>3</td>\n",
       "      <td>0</td>\n",
       "      <td>35.0</td>\n",
       "      <td>0</td>\n",
       "      <td>0</td>\n",
       "      <td>8.0500</td>\n",
       "      <td>0</td>\n",
       "      <td>0</td>\n",
       "      <td>0</td>\n",
       "      <td>0.0</td>\n",
       "      <td>3</td>\n",
       "      <td>1</td>\n",
       "      <td>1</td>\n",
       "    </tr>\n",
       "  </tbody>\n",
       "</table>\n",
       "</div>"
      ],
      "text/plain": [
       "   PassengerId  Survived  Pclass  Sex   Age  SibSp  Parch     Fare  Cabin  \\\n",
       "0            1       0.0       3    0  22.0      1      0   7.2500      0   \n",
       "1            2       1.0       1    1  38.0      1      0  71.2833      1   \n",
       "2            3       1.0       3    1  26.0      0      0   7.9250      0   \n",
       "3            4       1.0       1    1  35.0      1      0  53.1000      1   \n",
       "4            5       0.0       3    0  35.0      0      0   8.0500      0   \n",
       "\n",
       "   Embarked  Call  OnCabin  AgeCut  FareCut  FamilyNum  \n",
       "0         0     0      0.0       2        0          2  \n",
       "1         1     2      1.0       3        3          2  \n",
       "2         0     1      0.0       2        1          1  \n",
       "3         0     2      1.0       3        3          2  \n",
       "4         0     0      0.0       3        1          1  "
      ]
     },
     "execution_count": 26,
     "metadata": {},
     "output_type": "execute_result"
    }
   ],
   "source": [
    "titanic_data.head()"
   ]
  },
  {
   "cell_type": "markdown",
   "metadata": {},
   "source": [
    "## 3 各种预测模型"
   ]
  },
  {
   "cell_type": "markdown",
   "metadata": {},
   "source": [
    "参考：\n",
    "\n",
    "[sklearn决策树参数详细](https://www.cnblogs.com/hgz-dm/p/10886368.html)"
   ]
  },
  {
   "cell_type": "code",
   "execution_count": 27,
   "metadata": {
    "ExecuteTime": {
     "end_time": "2020-05-24T10:54:27.720338Z",
     "start_time": "2020-05-24T10:54:27.697277Z"
    }
   },
   "outputs": [
    {
     "data": {
      "text/html": [
       "<div>\n",
       "<style scoped>\n",
       "    .dataframe tbody tr th:only-of-type {\n",
       "        vertical-align: middle;\n",
       "    }\n",
       "\n",
       "    .dataframe tbody tr th {\n",
       "        vertical-align: top;\n",
       "    }\n",
       "\n",
       "    .dataframe thead th {\n",
       "        text-align: right;\n",
       "    }\n",
       "</style>\n",
       "<table border=\"1\" class=\"dataframe\">\n",
       "  <thead>\n",
       "    <tr style=\"text-align: right;\">\n",
       "      <th></th>\n",
       "      <th>PassengerId</th>\n",
       "      <th>Survived</th>\n",
       "      <th>Pclass</th>\n",
       "      <th>Sex</th>\n",
       "      <th>Age</th>\n",
       "      <th>SibSp</th>\n",
       "      <th>Parch</th>\n",
       "      <th>Fare</th>\n",
       "      <th>Cabin</th>\n",
       "      <th>Embarked</th>\n",
       "      <th>Call</th>\n",
       "      <th>OnCabin</th>\n",
       "      <th>AgeCut</th>\n",
       "      <th>FareCut</th>\n",
       "      <th>FamilyNum</th>\n",
       "    </tr>\n",
       "  </thead>\n",
       "  <tbody>\n",
       "    <tr>\n",
       "      <th>0</th>\n",
       "      <td>1</td>\n",
       "      <td>0.0</td>\n",
       "      <td>3</td>\n",
       "      <td>0</td>\n",
       "      <td>22.0</td>\n",
       "      <td>1</td>\n",
       "      <td>0</td>\n",
       "      <td>7.2500</td>\n",
       "      <td>0</td>\n",
       "      <td>0</td>\n",
       "      <td>0</td>\n",
       "      <td>0.0</td>\n",
       "      <td>2</td>\n",
       "      <td>0</td>\n",
       "      <td>2</td>\n",
       "    </tr>\n",
       "    <tr>\n",
       "      <th>1</th>\n",
       "      <td>2</td>\n",
       "      <td>1.0</td>\n",
       "      <td>1</td>\n",
       "      <td>1</td>\n",
       "      <td>38.0</td>\n",
       "      <td>1</td>\n",
       "      <td>0</td>\n",
       "      <td>71.2833</td>\n",
       "      <td>1</td>\n",
       "      <td>1</td>\n",
       "      <td>2</td>\n",
       "      <td>1.0</td>\n",
       "      <td>3</td>\n",
       "      <td>3</td>\n",
       "      <td>2</td>\n",
       "    </tr>\n",
       "    <tr>\n",
       "      <th>2</th>\n",
       "      <td>3</td>\n",
       "      <td>1.0</td>\n",
       "      <td>3</td>\n",
       "      <td>1</td>\n",
       "      <td>26.0</td>\n",
       "      <td>0</td>\n",
       "      <td>0</td>\n",
       "      <td>7.9250</td>\n",
       "      <td>0</td>\n",
       "      <td>0</td>\n",
       "      <td>1</td>\n",
       "      <td>0.0</td>\n",
       "      <td>2</td>\n",
       "      <td>1</td>\n",
       "      <td>1</td>\n",
       "    </tr>\n",
       "    <tr>\n",
       "      <th>3</th>\n",
       "      <td>4</td>\n",
       "      <td>1.0</td>\n",
       "      <td>1</td>\n",
       "      <td>1</td>\n",
       "      <td>35.0</td>\n",
       "      <td>1</td>\n",
       "      <td>0</td>\n",
       "      <td>53.1000</td>\n",
       "      <td>1</td>\n",
       "      <td>0</td>\n",
       "      <td>2</td>\n",
       "      <td>1.0</td>\n",
       "      <td>3</td>\n",
       "      <td>3</td>\n",
       "      <td>2</td>\n",
       "    </tr>\n",
       "    <tr>\n",
       "      <th>4</th>\n",
       "      <td>5</td>\n",
       "      <td>0.0</td>\n",
       "      <td>3</td>\n",
       "      <td>0</td>\n",
       "      <td>35.0</td>\n",
       "      <td>0</td>\n",
       "      <td>0</td>\n",
       "      <td>8.0500</td>\n",
       "      <td>0</td>\n",
       "      <td>0</td>\n",
       "      <td>0</td>\n",
       "      <td>0.0</td>\n",
       "      <td>3</td>\n",
       "      <td>1</td>\n",
       "      <td>1</td>\n",
       "    </tr>\n",
       "  </tbody>\n",
       "</table>\n",
       "</div>"
      ],
      "text/plain": [
       "   PassengerId  Survived  Pclass  Sex   Age  SibSp  Parch     Fare  Cabin  \\\n",
       "0            1       0.0       3    0  22.0      1      0   7.2500      0   \n",
       "1            2       1.0       1    1  38.0      1      0  71.2833      1   \n",
       "2            3       1.0       3    1  26.0      0      0   7.9250      0   \n",
       "3            4       1.0       1    1  35.0      1      0  53.1000      1   \n",
       "4            5       0.0       3    0  35.0      0      0   8.0500      0   \n",
       "\n",
       "   Embarked  Call  OnCabin  AgeCut  FareCut  FamilyNum  \n",
       "0         0     0      0.0       2        0          2  \n",
       "1         1     2      1.0       3        3          2  \n",
       "2         0     1      0.0       2        1          1  \n",
       "3         0     2      1.0       3        3          2  \n",
       "4         0     0      0.0       3        1          1  "
      ]
     },
     "execution_count": 27,
     "metadata": {},
     "output_type": "execute_result"
    }
   ],
   "source": [
    "titanic_data.head()\n",
    "# titanic_data.info()"
   ]
  },
  {
   "cell_type": "code",
   "execution_count": 28,
   "metadata": {
    "ExecuteTime": {
     "end_time": "2020-05-24T10:54:27.845672Z",
     "start_time": "2020-05-24T10:54:27.835645Z"
    }
   },
   "outputs": [],
   "source": [
    "data0 = titanic_data.drop(['Age','Fare','FamilyNum'],axis=1)\n",
    "data1 = titanic_data.drop(['Age','Fare','SibSp','Parch'],axis=1)\n",
    "data2 = titanic_data.drop(['AgeCut','FareCut','SibSp','Parch'],axis=1)"
   ]
  },
  {
   "cell_type": "code",
   "execution_count": 29,
   "metadata": {
    "ExecuteTime": {
     "end_time": "2020-05-24T10:54:28.053734Z",
     "start_time": "2020-05-24T10:54:28.026178Z"
    }
   },
   "outputs": [],
   "source": [
    "x_train = data0[:891].loc[:,'Pclass':]\n",
    "y_train = data0[:891].loc[:,['Survived']].astype(int)\n",
    "\n",
    "x_train1 = data1[:891].loc[:,'Pclass':]\n",
    "y_train1 = data1[:891].loc[:,['Survived']].astype(int)\n",
    "\n",
    "x_train2 = data2[:891].loc[:,'Pclass':]\n",
    "y_train2 = data2[:891].loc[:,['Survived']].astype(int)\n",
    "\n",
    "x_test = data0[891:].loc[:,'Pclass':]"
   ]
  },
  {
   "cell_type": "code",
   "execution_count": 30,
   "metadata": {
    "ExecuteTime": {
     "end_time": "2020-05-24T10:54:34.086176Z",
     "start_time": "2020-05-24T10:54:28.330461Z"
    }
   },
   "outputs": [],
   "source": [
    "from sklearn.linear_model import LogisticRegression\n",
    "from sklearn.tree import DecisionTreeClassifier\n",
    "from sklearn.neural_network import MLPClassifier\n",
    "from sklearn.naive_bayes import MultinomialNB\n",
    "from sklearn.svm import SVC\n",
    "from sklearn.model_selection import RepeatedKFold\n",
    "from sklearn.metrics import accuracy_score\n",
    "from sklearn.ensemble import VotingClassifier\n",
    "from sklearn.ensemble import RandomForestClassifier"
   ]
  },
  {
   "cell_type": "code",
   "execution_count": 31,
   "metadata": {
    "ExecuteTime": {
     "end_time": "2020-05-24T10:54:34.366696Z",
     "start_time": "2020-05-24T10:54:34.360283Z"
    }
   },
   "outputs": [],
   "source": [
    "LR = LogisticRegression(solver='lbfgs',fit_intercept=False,max_iter=3000)\n",
    "DTC = DecisionTreeClassifier()\n",
    "MLPC = MLPClassifier(solver='adam',activation='relu',hidden_layer_sizes=35,max_iter=10**(3),random_state=233) # 'logistic'\n",
    "MNB = MultinomialNB()\n",
    "SVC_clf = SVC()\n",
    "RFC = RandomForestClassifier()"
   ]
  },
  {
   "cell_type": "code",
   "execution_count": 32,
   "metadata": {
    "ExecuteTime": {
     "end_time": "2020-05-24T10:54:38.114858Z",
     "start_time": "2020-05-24T10:54:34.699377Z"
    }
   },
   "outputs": [],
   "source": [
    "LR_model = LR.fit(x_train,y_train.values.flatten())\n",
    "DTC_model = DTC.fit(x_train,y_train.values.flatten())\n",
    "MLPC_model = MLPC.fit(x_train,y_train.values.flatten())\n",
    "MNB_model = MNB.fit(x_train,y_train.values.flatten())\n",
    "SVC_model = SVC_clf.fit(x_train,y_train.values.flatten())\n",
    "RFC_model = RFC.fit(x_train,y_train.values.flatten())"
   ]
  },
  {
   "cell_type": "code",
   "execution_count": 33,
   "metadata": {
    "ExecuteTime": {
     "end_time": "2020-05-24T10:54:38.689397Z",
     "start_time": "2020-05-24T10:54:38.535978Z"
    }
   },
   "outputs": [
    {
     "data": {
      "text/plain": [
       "0.813692480359147"
      ]
     },
     "execution_count": 33,
     "metadata": {},
     "output_type": "execute_result"
    },
    {
     "data": {
      "text/plain": [
       "0.920314253647587"
      ]
     },
     "execution_count": 33,
     "metadata": {},
     "output_type": "execute_result"
    },
    {
     "data": {
      "text/plain": [
       "0.8585858585858586"
      ]
     },
     "execution_count": 33,
     "metadata": {},
     "output_type": "execute_result"
    },
    {
     "data": {
      "text/plain": [
       "0.7755331088664422"
      ]
     },
     "execution_count": 33,
     "metadata": {},
     "output_type": "execute_result"
    },
    {
     "data": {
      "text/plain": [
       "0.8383838383838383"
      ]
     },
     "execution_count": 33,
     "metadata": {},
     "output_type": "execute_result"
    },
    {
     "data": {
      "text/plain": [
       "0.920314253647587"
      ]
     },
     "execution_count": 33,
     "metadata": {},
     "output_type": "execute_result"
    }
   ],
   "source": [
    "LR_model.score(x_train,y_train)\n",
    "DTC_model.score(x_train,y_train)\n",
    "MLPC_model.score(x_train,y_train)\n",
    "MNB_model.score(x_train,y_train)\n",
    "SVC_model.score(x_train,y_train)\n",
    "RFC_model.score(x_train,y_train)"
   ]
  },
  {
   "cell_type": "code",
   "execution_count": 34,
   "metadata": {
    "ExecuteTime": {
     "end_time": "2020-05-24T10:54:44.520500Z",
     "start_time": "2020-05-24T10:54:39.023861Z"
    },
    "scrolled": true
   },
   "outputs": [
    {
     "data": {
      "text/plain": [
       "0.8877665544332211"
      ]
     },
     "execution_count": 34,
     "metadata": {},
     "output_type": "execute_result"
    },
    {
     "data": {
      "text/plain": [
       "0.8653198653198653"
      ]
     },
     "execution_count": 34,
     "metadata": {},
     "output_type": "execute_result"
    }
   ],
   "source": [
    "# 使用投票法集成分类器\n",
    "voting_clf = VotingClassifier(estimators=[(\"LR\",LR),(\"DTC\",DTC),(\"MLPC\",MLPC),(\"MNB\",MNB)],voting=\"soft\")\n",
    "voting_clf2 = VotingClassifier(estimators=[(\"LR\",LR),(\"DTC\",DTC),(\"MLPC\",MLPC),(\"MNB\",MNB),(\"SVC\",SVC_clf)],voting=\"hard\")\n",
    "vote_model = voting_clf.fit(x_train,y_train.values.flatten())\n",
    "vote_model2 = voting_clf2.fit(x_train,y_train.values.flatten())\n",
    "vote_model.score(x_train,y_train.values.flatten())\n",
    "vote_model2.score(x_train,y_train.values.flatten())"
   ]
  },
  {
   "cell_type": "code",
   "execution_count": 35,
   "metadata": {
    "ExecuteTime": {
     "end_time": "2020-05-24T10:54:44.990289Z",
     "start_time": "2020-05-24T10:54:44.929576Z"
    }
   },
   "outputs": [],
   "source": [
    "LR_predict = LR_model.predict(x_test)\n",
    "DTC_predict = DTC_model.predict(x_test)\n",
    "MLPC_predict = MLPC_model.predict(x_test)\n",
    "MNB_predict = MNB_model.predict(x_test)\n",
    "vote_predict = vote_model.predict(x_test)\n",
    "vote2_predict = vote_model2.predict(x_test)\n",
    "RFC_predict = RFC_model.predict(x_test)"
   ]
  },
  {
   "cell_type": "code",
   "execution_count": 36,
   "metadata": {
    "ExecuteTime": {
     "end_time": "2020-05-24T10:54:45.406344Z",
     "start_time": "2020-05-24T10:54:45.349492Z"
    }
   },
   "outputs": [
    {
     "data": {
      "text/plain": [
       "0    261\n",
       "1    157\n",
       "Name: Survived, dtype: int64"
      ]
     },
     "execution_count": 36,
     "metadata": {},
     "output_type": "execute_result"
    },
    {
     "data": {
      "text/plain": [
       "0    263\n",
       "1    155\n",
       "Name: Survived, dtype: int64"
      ]
     },
     "execution_count": 36,
     "metadata": {},
     "output_type": "execute_result"
    },
    {
     "data": {
      "text/plain": [
       "0    260\n",
       "1    158\n",
       "Name: Survived, dtype: int64"
      ]
     },
     "execution_count": 36,
     "metadata": {},
     "output_type": "execute_result"
    },
    {
     "data": {
      "text/plain": [
       "0    259\n",
       "1    159\n",
       "Name: Survived, dtype: int64"
      ]
     },
     "execution_count": 36,
     "metadata": {},
     "output_type": "execute_result"
    },
    {
     "data": {
      "text/plain": [
       "0    254\n",
       "1    164\n",
       "Name: Survived, dtype: int64"
      ]
     },
     "execution_count": 36,
     "metadata": {},
     "output_type": "execute_result"
    },
    {
     "data": {
      "text/plain": [
       "0    258\n",
       "1    160\n",
       "Name: Survived, dtype: int64"
      ]
     },
     "execution_count": 36,
     "metadata": {},
     "output_type": "execute_result"
    },
    {
     "data": {
      "text/plain": [
       "0    258\n",
       "1    160\n",
       "Name: Survived, dtype: int64"
      ]
     },
     "execution_count": 36,
     "metadata": {},
     "output_type": "execute_result"
    }
   ],
   "source": [
    "DTC_output = pd.DataFrame({'PassengerId':test_data['PassengerId'],'Survived':DTC_predict})\n",
    "DTC_output.Survived.value_counts()\n",
    "# DTC_output\n",
    "\n",
    "MLPC_output = pd.DataFrame({'PassengerId':test_data['PassengerId'],'Survived':MLPC_predict})\n",
    "MLPC_output.Survived.value_counts()\n",
    "# MLPC_output\n",
    "\n",
    "LR_output = pd.DataFrame({'PassengerId':test_data['PassengerId'],'Survived':LR_predict})\n",
    "LR_output.Survived.value_counts()\n",
    "# LR_output\n",
    "\n",
    "MNB_output = pd.DataFrame({'PassengerId':test_data['PassengerId'],'Survived':MNB_predict})\n",
    "MNB_output.Survived.value_counts()\n",
    "# MNB_output\n",
    "\n",
    "vote_output = pd.DataFrame({'PassengerId':test_data['PassengerId'],'Survived':vote_predict})\n",
    "vote_output.Survived.value_counts()\n",
    "# vote_output\n",
    "\n",
    "vote2_output = pd.DataFrame({'PassengerId':test_data['PassengerId'],'Survived':vote2_predict})\n",
    "vote2_output.Survived.value_counts()\n",
    "# vote2_output\n",
    "\n",
    "RFC_output = pd.DataFrame({'PassengerId':test_data['PassengerId'],'Survived':RFC_predict})\n",
    "RFC_output.Survived.value_counts()\n",
    "# RFC_output"
   ]
  },
  {
   "cell_type": "code",
   "execution_count": 37,
   "metadata": {
    "ExecuteTime": {
     "end_time": "2020-05-24T10:54:45.964921Z",
     "start_time": "2020-05-24T10:54:45.887901Z"
    }
   },
   "outputs": [
    {
     "data": {
      "text/plain": [
       "True     366\n",
       "False     52\n",
       "Name: Survived, dtype: int64"
      ]
     },
     "execution_count": 37,
     "metadata": {},
     "output_type": "execute_result"
    },
    {
     "data": {
      "text/plain": [
       "True     377\n",
       "False     41\n",
       "Name: Survived, dtype: int64"
      ]
     },
     "execution_count": 37,
     "metadata": {},
     "output_type": "execute_result"
    },
    {
     "data": {
      "text/plain": [
       "True     344\n",
       "False     74\n",
       "Name: Survived, dtype: int64"
      ]
     },
     "execution_count": 37,
     "metadata": {},
     "output_type": "execute_result"
    },
    {
     "data": {
      "text/plain": [
       "True     397\n",
       "False     21\n",
       "Name: Survived, dtype: int64"
      ]
     },
     "execution_count": 37,
     "metadata": {},
     "output_type": "execute_result"
    },
    {
     "data": {
      "text/plain": [
       "True     409\n",
       "False      9\n",
       "Name: Survived, dtype: int64"
      ]
     },
     "execution_count": 37,
     "metadata": {},
     "output_type": "execute_result"
    },
    {
     "data": {
      "text/plain": [
       "True     404\n",
       "False     14\n",
       "Name: Survived, dtype: int64"
      ]
     },
     "execution_count": 37,
     "metadata": {},
     "output_type": "execute_result"
    },
    {
     "data": {
      "text/plain": [
       "True     381\n",
       "False     37\n",
       "Name: Survived, dtype: int64"
      ]
     },
     "execution_count": 37,
     "metadata": {},
     "output_type": "execute_result"
    },
    {
     "data": {
      "text/plain": [
       "True     393\n",
       "False     25\n",
       "Name: Survived, dtype: int64"
      ]
     },
     "execution_count": 37,
     "metadata": {},
     "output_type": "execute_result"
    }
   ],
   "source": [
    "(DTC_output == MLPC_output).Survived.value_counts()\n",
    "\n",
    "(LR_output == MLPC_output).Survived.value_counts()\n",
    "\n",
    "(MNB_output == MLPC_output).Survived.value_counts()\n",
    "\n",
    "(vote_output == MLPC_output).Survived.value_counts()\n",
    "\n",
    "(vote2_output == MLPC_output).Survived.value_counts()\n",
    "\n",
    "(vote_output == vote2_output).Survived.value_counts()\n",
    "\n",
    "(RFC_output == MLPC_output).Survived.value_counts()\n",
    "\n",
    "(DTC_output == RFC_output).Survived.value_counts()"
   ]
  },
  {
   "cell_type": "code",
   "execution_count": 38,
   "metadata": {
    "ExecuteTime": {
     "end_time": "2020-05-24T10:54:46.465572Z",
     "start_time": "2020-05-24T10:54:46.403744Z"
    }
   },
   "outputs": [],
   "source": [
    "DTC_output.to_csv(r'D:\\JWE\\My Program\\kaggle\\competitions\\titanic\\DTC_output.csv',index=False)\n",
    "\n",
    "MLPC_output.to_csv(r'D:\\JWE\\My Program\\kaggle\\competitions\\titanic\\MLPC_output.csv',index=False)\n",
    "\n",
    "LR_output.to_csv(r'D:\\JWE\\My Program\\kaggle\\competitions\\titanic\\LR_output.csv',index=False)\n",
    "\n",
    "MNB_output.to_csv(r'D:\\JWE\\My Program\\kaggle\\competitions\\titanic\\MNB_output.csv',index=False)\n",
    "\n",
    "vote_output.to_csv(r'D:\\JWE\\My Program\\kaggle\\competitions\\titanic\\vLDMM_output.csv',index=False)\n",
    "\n",
    "vote2_output.to_csv(r'D:\\JWE\\My Program\\kaggle\\competitions\\titanic\\vLDMMS_output.csv',index=False)\n",
    "\n",
    "RFC_output.to_csv(r'D:\\JWE\\My Program\\kaggle\\competitions\\titanic\\RFC_output.csv',index=False)"
   ]
  },
  {
   "cell_type": "code",
   "execution_count": 39,
   "metadata": {
    "ExecuteTime": {
     "end_time": "2020-05-24T10:55:36.583516Z",
     "start_time": "2020-05-24T10:54:46.883017Z"
    }
   },
   "outputs": [
    {
     "name": "stdout",
     "output_type": "stream",
     "text": [
      "0.8077540574282142\n",
      "0.7989812734082393\n",
      "0.8145068664169783\n",
      "0.7720774032459424\n"
     ]
    }
   ],
   "source": [
    "X = x_train.values\n",
    "Y = y_train.Survived.values\n",
    "rkf = RepeatedKFold(n_splits=10,n_repeats=10)\n",
    "classfy_list = (LR,DTC,MLPC,MNB)\n",
    "accuracy_list = []\n",
    "for classfier in classfy_list:\n",
    "    accuracy_sum = 0\n",
    "    for train_index,test_index in rkf.split(X):\n",
    "        cur_model = classfier.fit(X[train_index],Y[train_index])\n",
    "        accuracy_sum += accuracy_score(Y[test_index],cur_model.predict(X[test_index]))\n",
    "    model_accuracy = accuracy_sum/100\n",
    "    accuracy_list.append(model_accuracy)\n",
    "    print(model_accuracy)"
   ]
  },
  {
   "cell_type": "code",
   "execution_count": 40,
   "metadata": {
    "ExecuteTime": {
     "end_time": "2020-05-24T10:55:37.138723Z",
     "start_time": "2020-05-24T10:55:37.131948Z"
    },
    "scrolled": true
   },
   "outputs": [
    {
     "data": {
      "text/plain": [
       "[0.8077540574282142,\n",
       " 0.7989812734082393,\n",
       " 0.8145068664169783,\n",
       " 0.7720774032459424]"
      ]
     },
     "execution_count": 40,
     "metadata": {},
     "output_type": "execute_result"
    }
   ],
   "source": [
    "accuracy_list"
   ]
  },
  {
   "cell_type": "markdown",
   "metadata": {},
   "source": [
    "## 4 神经网络"
   ]
  },
  {
   "cell_type": "code",
   "execution_count": 41,
   "metadata": {
    "ExecuteTime": {
     "end_time": "2020-05-24T10:55:37.674785Z",
     "start_time": "2020-05-24T10:55:37.667678Z"
    }
   },
   "outputs": [],
   "source": [
    "from sklearn.neural_network import MLPClassifier\n",
    "from sklearn.metrics import accuracy_score\n",
    "from sklearn.ensemble import BaggingClassifier\n",
    "from sklearn.model_selection import cross_val_score\n",
    "from sklearn.model_selection import GridSearchCV"
   ]
  },
  {
   "cell_type": "code",
   "execution_count": 42,
   "metadata": {
    "ExecuteTime": {
     "end_time": "2020-05-24T10:55:38.179036Z",
     "start_time": "2020-05-24T10:55:38.168008Z"
    }
   },
   "outputs": [],
   "source": [
    "data3 = titanic_data.drop(['Age','Fare','FamilyNum'],axis=1)\n",
    "\n",
    "x_train3 = data3[:891].loc[:,'Pclass':]\n",
    "y_train3 = data3[:891].loc[:,['Survived']].astype(int)\n",
    "\n",
    "x_test = data3[891:].loc[:,'Pclass':]"
   ]
  },
  {
   "cell_type": "code",
   "execution_count": 43,
   "metadata": {
    "ExecuteTime": {
     "end_time": "2020-05-24T10:56:16.149536Z",
     "start_time": "2020-05-24T10:55:38.643272Z"
    }
   },
   "outputs": [],
   "source": [
    "MLPC_base = MLPClassifier(solver='adam',activation='relu',hidden_layer_sizes=50,max_iter=10**(4),random_state=1)\n",
    "BMLPC = BaggingClassifier(MLPC_base,max_samples=0.55,max_features=6/10,n_estimators=20)\n",
    "BMLPC_model = BMLPC.fit(x_train3,y_train3.values.flatten())\n",
    "BMLPC_predict = BMLPC_model.predict(x_test)"
   ]
  },
  {
   "cell_type": "code",
   "execution_count": 44,
   "metadata": {
    "ExecuteTime": {
     "end_time": "2020-05-24T10:56:16.708422Z",
     "start_time": "2020-05-24T10:56:16.663550Z"
    }
   },
   "outputs": [
    {
     "data": {
      "text/plain": [
       "0.8529741863075196"
      ]
     },
     "execution_count": 44,
     "metadata": {},
     "output_type": "execute_result"
    }
   ],
   "source": [
    "BMLPC_model.score(x_train3,y_train)"
   ]
  },
  {
   "cell_type": "code",
   "execution_count": 45,
   "metadata": {
    "ExecuteTime": {
     "end_time": "2020-05-24T10:58:49.809290Z",
     "start_time": "2020-05-24T10:56:17.220785Z"
    }
   },
   "outputs": [
    {
     "data": {
      "text/plain": [
       "0.8204381394764925"
      ]
     },
     "execution_count": 45,
     "metadata": {},
     "output_type": "execute_result"
    }
   ],
   "source": [
    "cross_val_score(BMLPC,x_train3,y_train3.values.flatten()).mean()"
   ]
  },
  {
   "cell_type": "code",
   "execution_count": 46,
   "metadata": {
    "ExecuteTime": {
     "end_time": "2020-05-24T10:58:50.364911Z",
     "start_time": "2020-05-24T10:58:50.354885Z"
    }
   },
   "outputs": [],
   "source": [
    "BMLPC_output = pd.DataFrame({'PassengerId':test_data['PassengerId'],'Survived':BMLPC_predict})\n",
    "BMLPC_output.to_csv(r'D:\\JWE\\My Program\\kaggle\\competitions\\titanic\\BMLPC_output.csv',index=False)"
   ]
  },
  {
   "cell_type": "markdown",
   "metadata": {},
   "source": [
    "### MLP自动调参"
   ]
  },
  {
   "cell_type": "code",
   "execution_count": 47,
   "metadata": {
    "ExecuteTime": {
     "end_time": "2020-05-24T10:58:57.495155Z",
     "start_time": "2020-05-24T10:58:50.832653Z"
    }
   },
   "outputs": [
    {
     "name": "stderr",
     "output_type": "stream",
     "text": [
      "D:\\Anaconda3\\lib\\site-packages\\sklearn\\neural_network\\_multilayer_perceptron.py:571: ConvergenceWarning: Stochastic Optimizer: Maximum iterations (200) reached and the optimization hasn't converged yet.\n",
      "  % self.max_iter, ConvergenceWarning)\n",
      "D:\\Anaconda3\\lib\\site-packages\\sklearn\\neural_network\\_multilayer_perceptron.py:571: ConvergenceWarning: Stochastic Optimizer: Maximum iterations (200) reached and the optimization hasn't converged yet.\n",
      "  % self.max_iter, ConvergenceWarning)\n",
      "D:\\Anaconda3\\lib\\site-packages\\sklearn\\neural_network\\_multilayer_perceptron.py:571: ConvergenceWarning: Stochastic Optimizer: Maximum iterations (200) reached and the optimization hasn't converged yet.\n",
      "  % self.max_iter, ConvergenceWarning)\n",
      "D:\\Anaconda3\\lib\\site-packages\\sklearn\\neural_network\\_multilayer_perceptron.py:571: ConvergenceWarning: Stochastic Optimizer: Maximum iterations (200) reached and the optimization hasn't converged yet.\n",
      "  % self.max_iter, ConvergenceWarning)\n",
      "D:\\Anaconda3\\lib\\site-packages\\sklearn\\neural_network\\_multilayer_perceptron.py:571: ConvergenceWarning: Stochastic Optimizer: Maximum iterations (200) reached and the optimization hasn't converged yet.\n",
      "  % self.max_iter, ConvergenceWarning)\n",
      "D:\\Anaconda3\\lib\\site-packages\\sklearn\\neural_network\\_multilayer_perceptron.py:571: ConvergenceWarning: Stochastic Optimizer: Maximum iterations (200) reached and the optimization hasn't converged yet.\n",
      "  % self.max_iter, ConvergenceWarning)\n"
     ]
    }
   ],
   "source": [
    "MLP = MLPClassifier(random_state=233)\n",
    "PMLP = [{}] # [{'n_estimators':[10,200,10]}]\n",
    "GSMLP = GridSearchCV(estimator=MLP, param_grid=PMLP,scoring='accuracy',cv=5)\n",
    "GSMLP_model = GSMLP.fit(x_train3,y_train3.values.flatten())"
   ]
  },
  {
   "cell_type": "code",
   "execution_count": 48,
   "metadata": {
    "ExecuteTime": {
     "end_time": "2020-05-24T10:58:58.104733Z",
     "start_time": "2020-05-24T10:58:58.092199Z"
    }
   },
   "outputs": [
    {
     "data": {
      "text/plain": [
       "0.8496071829405163"
      ]
     },
     "execution_count": 48,
     "metadata": {},
     "output_type": "execute_result"
    }
   ],
   "source": [
    "GSMLP_model.score(x_train3,y_train)"
   ]
  },
  {
   "cell_type": "code",
   "execution_count": 49,
   "metadata": {
    "ExecuteTime": {
     "end_time": "2020-05-24T10:58:58.780745Z",
     "start_time": "2020-05-24T10:58:58.627122Z"
    }
   },
   "outputs": [
    {
     "ename": "NameError",
     "evalue": "name 'GSMLP_predict' is not defined",
     "output_type": "error",
     "traceback": [
      "\u001b[1;31m---------------------------------------------------------------------------\u001b[0m",
      "\u001b[1;31mNameError\u001b[0m                                 Traceback (most recent call last)",
      "\u001b[1;32m<ipython-input-49-46cc51d4142d>\u001b[0m in \u001b[0;36m<module>\u001b[1;34m\u001b[0m\n\u001b[1;32m----> 1\u001b[1;33m \u001b[0mGSMLP_output\u001b[0m \u001b[1;33m=\u001b[0m \u001b[0mpd\u001b[0m\u001b[1;33m.\u001b[0m\u001b[0mDataFrame\u001b[0m\u001b[1;33m(\u001b[0m\u001b[1;33m{\u001b[0m\u001b[1;34m'PassengerId'\u001b[0m\u001b[1;33m:\u001b[0m\u001b[0mtest_data\u001b[0m\u001b[1;33m[\u001b[0m\u001b[1;34m'PassengerId'\u001b[0m\u001b[1;33m]\u001b[0m\u001b[1;33m,\u001b[0m\u001b[1;34m'Survived'\u001b[0m\u001b[1;33m:\u001b[0m\u001b[0mGSMLP_predict\u001b[0m\u001b[1;33m}\u001b[0m\u001b[1;33m)\u001b[0m\u001b[1;33m\u001b[0m\u001b[1;33m\u001b[0m\u001b[0m\n\u001b[0m\u001b[0;32m      2\u001b[0m \u001b[0mGSMLP_output\u001b[0m\u001b[1;33m.\u001b[0m\u001b[0mto_csv\u001b[0m\u001b[1;33m(\u001b[0m\u001b[1;34mr'D:\\JWE\\My Program\\kaggle\\competitions\\titanic\\GSMLP_output.csv'\u001b[0m\u001b[1;33m,\u001b[0m\u001b[0mindex\u001b[0m\u001b[1;33m=\u001b[0m\u001b[1;32mFalse\u001b[0m\u001b[1;33m)\u001b[0m\u001b[1;33m\u001b[0m\u001b[1;33m\u001b[0m\u001b[0m\n",
      "\u001b[1;31mNameError\u001b[0m: name 'GSMLP_predict' is not defined"
     ]
    }
   ],
   "source": [
    "GSMLP_output = pd.DataFrame({'PassengerId':test_data['PassengerId'],'Survived':GSMLP_predict})\n",
    "GSMLP_output.to_csv(r'D:\\JWE\\My Program\\kaggle\\competitions\\titanic\\GSMLP_output.csv',index=False)"
   ]
  },
  {
   "cell_type": "markdown",
   "metadata": {},
   "source": [
    "## 5 随机森林"
   ]
  },
  {
   "cell_type": "code",
   "execution_count": 50,
   "metadata": {
    "ExecuteTime": {
     "end_time": "2020-05-24T10:59:20.832795Z",
     "start_time": "2020-05-24T10:59:20.828783Z"
    }
   },
   "outputs": [],
   "source": [
    "from sklearn.ensemble import RandomForestClassifier"
   ]
  },
  {
   "cell_type": "code",
   "execution_count": 51,
   "metadata": {
    "ExecuteTime": {
     "end_time": "2020-05-24T10:59:26.163197Z",
     "start_time": "2020-05-24T10:59:21.438925Z"
    }
   },
   "outputs": [],
   "source": [
    "RF = RandomForestClassifier(n_estimators=200,max_features=3,random_state=233)\n",
    "PRF = [{'criterion':['gini','entropy']}] # [{'n_estimators':[10,200,10]}]\n",
    "GSRF = GridSearchCV(estimator=RF, param_grid=PRF,scoring='accuracy',cv=5)\n",
    "GSRF_model = GSRF.fit(x_train3,y_train3.values.flatten())"
   ]
  },
  {
   "cell_type": "code",
   "execution_count": 52,
   "metadata": {
    "ExecuteTime": {
     "end_time": "2020-05-24T10:59:26.933726Z",
     "start_time": "2020-05-24T10:59:26.928211Z"
    }
   },
   "outputs": [
    {
     "data": {
      "text/plain": [
       "{'criterion': 'entropy'}"
      ]
     },
     "execution_count": 52,
     "metadata": {},
     "output_type": "execute_result"
    }
   ],
   "source": [
    "GSRF_model.best_params_"
   ]
  },
  {
   "cell_type": "code",
   "execution_count": 53,
   "metadata": {
    "ExecuteTime": {
     "end_time": "2020-05-24T10:59:27.694260Z",
     "start_time": "2020-05-24T10:59:27.613032Z"
    }
   },
   "outputs": [
    {
     "data": {
      "text/plain": [
       "0.920314253647587"
      ]
     },
     "execution_count": 53,
     "metadata": {},
     "output_type": "execute_result"
    }
   ],
   "source": [
    "GSRF_model.score(x_train3,y_train)"
   ]
  },
  {
   "cell_type": "code",
   "execution_count": 54,
   "metadata": {
    "ExecuteTime": {
     "end_time": "2020-05-24T10:59:29.420333Z",
     "start_time": "2020-05-24T10:59:28.282329Z"
    }
   },
   "outputs": [
    {
     "data": {
      "text/plain": [
       "0.8204264870931538"
      ]
     },
     "execution_count": 54,
     "metadata": {},
     "output_type": "execute_result"
    }
   ],
   "source": [
    "RF_model = RandomForestClassifier(n_estimators=400,max_features=3,criterion='entropy',oob_score=True,random_state=233).fit(x_train3,y_train3.values.flatten())\n",
    "RF_model.oob_score_"
   ]
  },
  {
   "cell_type": "code",
   "execution_count": 55,
   "metadata": {
    "ExecuteTime": {
     "end_time": "2020-05-24T10:59:30.086579Z",
     "start_time": "2020-05-24T10:59:30.001892Z"
    }
   },
   "outputs": [],
   "source": [
    "RF_predict = RF_model.predict(x_test)\n",
    "RF_output = pd.DataFrame({'PassengerId':test_data['PassengerId'],'Survived':RF_predict})\n",
    "RF_output.to_csv(r'D:\\JWE\\My Program\\kaggle\\competitions\\titanic\\RF_output.csv',index=False)"
   ]
  },
  {
   "cell_type": "code",
   "execution_count": 56,
   "metadata": {
    "ExecuteTime": {
     "end_time": "2020-05-24T10:59:30.698642Z",
     "start_time": "2020-05-24T10:59:30.643995Z"
    }
   },
   "outputs": [],
   "source": [
    "GSRF_predict = GSRF_model.predict(x_test)\n",
    "GSRF_output = pd.DataFrame({'PassengerId':test_data['PassengerId'],'Survived':GSRF_predict})\n",
    "GSRF_output.to_csv(r'D:\\JWE\\My Program\\kaggle\\competitions\\titanic\\GSRF_output.csv',index=False)"
   ]
  },
  {
   "cell_type": "markdown",
   "metadata": {},
   "source": [
    "## 6 DNN"
   ]
  },
  {
   "cell_type": "code",
   "execution_count": 57,
   "metadata": {
    "ExecuteTime": {
     "end_time": "2020-05-24T10:59:34.283760Z",
     "start_time": "2020-05-24T10:59:31.279610Z"
    }
   },
   "outputs": [
    {
     "name": "stderr",
     "output_type": "stream",
     "text": [
      "Using TensorFlow backend.\n"
     ]
    }
   ],
   "source": [
    "from keras.models import Sequential\n",
    "from keras.layers import Dense\n",
    "from keras.layers import Dropout\n",
    "from keras.utils import to_categorical\n",
    "from keras.wrappers.scikit_learn import KerasClassifier\n",
    "from sklearn.model_selection import GridSearchCV"
   ]
  },
  {
   "cell_type": "code",
   "execution_count": 58,
   "metadata": {
    "ExecuteTime": {
     "end_time": "2020-05-24T10:59:35.002050Z",
     "start_time": "2020-05-24T10:59:34.989516Z"
    }
   },
   "outputs": [],
   "source": [
    "# 需要把类别编码成类似[1,0],[0,1]\n",
    "x_train4 = x_train3\n",
    "y_train4 = to_categorical(y_train3)\n",
    "\n",
    "x_train5 = titanic_data[:891].loc[:,'Pclass':].drop(['AgeCut','FareCut','FamilyNum'],axis=1)\n",
    "y_train5 = to_categorical(titanic_data[:891].loc[:,['Survived']].astype(int))"
   ]
  },
  {
   "cell_type": "code",
   "execution_count": 59,
   "metadata": {
    "ExecuteTime": {
     "end_time": "2020-05-24T10:59:35.836837Z",
     "start_time": "2020-05-24T10:59:35.825030Z"
    }
   },
   "outputs": [],
   "source": [
    "def DNN_create(k=1,x_train=x_train4,y_train=y_train4,units=50,divide=0.2,batch_size=30,epochs=200,drop_rate=0.5):\n",
    "    long = len(x_train.head(1).values[0])\n",
    "    DNN = Sequential()\n",
    "    DNN.add(Dense(units=units,input_dim=long,activation='relu')) # 输入层\n",
    "    # droupout层，减少overfiting\n",
    "    for i in range(k):\n",
    "#         if (k+1)%2:\n",
    "#             DNN.add(Dropout(drop_rate))\n",
    "        DNN.add(Dropout(drop_rate))\n",
    "        DNN.add(Dense(units=units,activation='relu'))\n",
    "    DNN.add(Dense(units=2,activation='softmax')) # 输出层\n",
    "    DNN.compile(loss='binary_crossentropy',\n",
    "                  optimizer='adam',\n",
    "                  metrics=['accuracy']) # 'categorical_crossentropy' 多分类\n",
    "    DNN.fit(x_train,y_train,batch_size=batch_size,epochs=epochs,validation_split=divide)\n",
    "    return DNN"
   ]
  },
  {
   "cell_type": "code",
   "execution_count": 60,
   "metadata": {
    "ExecuteTime": {
     "end_time": "2020-05-24T11:00:25.776178Z",
     "start_time": "2020-05-24T10:59:36.476170Z"
    }
   },
   "outputs": [
    {
     "name": "stdout",
     "output_type": "stream",
     "text": [
      "Train on 712 samples, validate on 179 samples\n",
      "Epoch 1/500\n",
      "712/712 [==============================] - 1s 2ms/step - loss: 1.7916 - accuracy: 0.5478 - val_loss: 0.6895 - val_accuracy: 0.6425\n",
      "Epoch 2/500\n",
      "712/712 [==============================] - 0s 115us/step - loss: 1.1803 - accuracy: 0.5955 - val_loss: 0.7284 - val_accuracy: 0.6425\n",
      "Epoch 3/500\n",
      "712/712 [==============================] - 0s 112us/step - loss: 1.0889 - accuracy: 0.5997 - val_loss: 0.6217 - val_accuracy: 0.6760\n",
      "Epoch 4/500\n",
      "712/712 [==============================] - 0s 115us/step - loss: 0.9534 - accuracy: 0.6096 - val_loss: 0.6188 - val_accuracy: 0.8156\n",
      "Epoch 5/500\n",
      "712/712 [==============================] - 0s 125us/step - loss: 0.9090 - accuracy: 0.6306 - val_loss: 0.7266 - val_accuracy: 0.6425\n",
      "Epoch 6/500\n",
      "712/712 [==============================] - 0s 122us/step - loss: 0.9577 - accuracy: 0.6110 - val_loss: 0.6365 - val_accuracy: 0.6983\n",
      "Epoch 7/500\n",
      "712/712 [==============================] - 0s 116us/step - loss: 0.8799 - accuracy: 0.6039 - val_loss: 0.6331 - val_accuracy: 0.7654\n",
      "Epoch 8/500\n",
      "712/712 [==============================] - 0s 113us/step - loss: 0.7359 - accuracy: 0.6278 - val_loss: 0.6251 - val_accuracy: 0.6592\n",
      "Epoch 9/500\n",
      "712/712 [==============================] - 0s 111us/step - loss: 0.7160 - accuracy: 0.6390 - val_loss: 0.6470 - val_accuracy: 0.6425\n",
      "Epoch 10/500\n",
      "712/712 [==============================] - 0s 109us/step - loss: 0.7762 - accuracy: 0.6292 - val_loss: 0.5863 - val_accuracy: 0.7598\n",
      "Epoch 11/500\n",
      "712/712 [==============================] - 0s 108us/step - loss: 0.6949 - accuracy: 0.6404 - val_loss: 0.5658 - val_accuracy: 0.7374\n",
      "Epoch 12/500\n",
      "712/712 [==============================] - 0s 111us/step - loss: 0.7019 - accuracy: 0.6362 - val_loss: 0.6021 - val_accuracy: 0.6536\n",
      "Epoch 13/500\n",
      "712/712 [==============================] - ETA: 0s - loss: 0.7404 - accuracy: 0.64 - 0s 111us/step - loss: 0.7575 - accuracy: 0.6334 - val_loss: 0.5880 - val_accuracy: 0.6648\n",
      "Epoch 14/500\n",
      "712/712 [==============================] - 0s 113us/step - loss: 0.7004 - accuracy: 0.6278 - val_loss: 0.5639 - val_accuracy: 0.7151\n",
      "Epoch 15/500\n",
      "712/712 [==============================] - 0s 113us/step - loss: 0.6923 - accuracy: 0.6390 - val_loss: 0.5655 - val_accuracy: 0.7318\n",
      "Epoch 16/500\n",
      "712/712 [==============================] - 0s 111us/step - loss: 0.7012 - accuracy: 0.6433 - val_loss: 0.5658 - val_accuracy: 0.7263\n",
      "Epoch 17/500\n",
      "712/712 [==============================] - 0s 107us/step - loss: 0.6585 - accuracy: 0.6671 - val_loss: 0.5507 - val_accuracy: 0.7486\n",
      "Epoch 18/500\n",
      "712/712 [==============================] - 0s 109us/step - loss: 0.6499 - accuracy: 0.6713 - val_loss: 0.5649 - val_accuracy: 0.6425\n",
      "Epoch 19/500\n",
      "712/712 [==============================] - 0s 110us/step - loss: 0.6284 - accuracy: 0.6742 - val_loss: 0.5534 - val_accuracy: 0.7821\n",
      "Epoch 20/500\n",
      "712/712 [==============================] - 0s 117us/step - loss: 0.6189 - accuracy: 0.6798 - val_loss: 0.5501 - val_accuracy: 0.7542\n",
      "Epoch 21/500\n",
      "712/712 [==============================] - 0s 130us/step - loss: 0.6543 - accuracy: 0.6629 - val_loss: 0.5271 - val_accuracy: 0.7765\n",
      "Epoch 22/500\n",
      "712/712 [==============================] - 0s 129us/step - loss: 0.6453 - accuracy: 0.6587 - val_loss: 0.5467 - val_accuracy: 0.7263\n",
      "Epoch 23/500\n",
      "712/712 [==============================] - 0s 126us/step - loss: 0.6196 - accuracy: 0.6896 - val_loss: 0.5342 - val_accuracy: 0.7318\n",
      "Epoch 24/500\n",
      "712/712 [==============================] - 0s 118us/step - loss: 0.6404 - accuracy: 0.6952 - val_loss: 0.5214 - val_accuracy: 0.7598\n",
      "Epoch 25/500\n",
      "712/712 [==============================] - 0s 128us/step - loss: 0.6297 - accuracy: 0.6798 - val_loss: 0.5484 - val_accuracy: 0.7486\n",
      "Epoch 26/500\n",
      "712/712 [==============================] - 0s 126us/step - loss: 0.6248 - accuracy: 0.6910 - val_loss: 0.5381 - val_accuracy: 0.7039\n",
      "Epoch 27/500\n",
      "712/712 [==============================] - 0s 128us/step - loss: 0.6014 - accuracy: 0.6980 - val_loss: 0.5252 - val_accuracy: 0.7821\n",
      "Epoch 28/500\n",
      "712/712 [==============================] - 0s 126us/step - loss: 0.6122 - accuracy: 0.6812 - val_loss: 0.5106 - val_accuracy: 0.7933\n",
      "Epoch 29/500\n",
      "712/712 [==============================] - 0s 132us/step - loss: 0.5717 - accuracy: 0.7177 - val_loss: 0.5124 - val_accuracy: 0.7933\n",
      "Epoch 30/500\n",
      "712/712 [==============================] - 0s 154us/step - loss: 0.6066 - accuracy: 0.7093 - val_loss: 0.5035 - val_accuracy: 0.8045\n",
      "Epoch 31/500\n",
      "712/712 [==============================] - 0s 123us/step - loss: 0.5969 - accuracy: 0.7163 - val_loss: 0.5057 - val_accuracy: 0.7821\n",
      "Epoch 32/500\n",
      "712/712 [==============================] - 0s 124us/step - loss: 0.5665 - accuracy: 0.7191 - val_loss: 0.4884 - val_accuracy: 0.8045\n",
      "Epoch 33/500\n",
      "712/712 [==============================] - ETA: 0s - loss: 0.5499 - accuracy: 0.72 - 0s 112us/step - loss: 0.5467 - accuracy: 0.7346 - val_loss: 0.4781 - val_accuracy: 0.8212\n",
      "Epoch 34/500\n",
      "712/712 [==============================] - 0s 122us/step - loss: 0.5631 - accuracy: 0.7247 - val_loss: 0.4676 - val_accuracy: 0.8324\n",
      "Epoch 35/500\n",
      "712/712 [==============================] - 0s 155us/step - loss: 0.5800 - accuracy: 0.7275 - val_loss: 0.4859 - val_accuracy: 0.8268\n",
      "Epoch 36/500\n",
      "712/712 [==============================] - 0s 137us/step - loss: 0.5597 - accuracy: 0.7346 - val_loss: 0.4639 - val_accuracy: 0.8268\n",
      "Epoch 37/500\n",
      "712/712 [==============================] - 0s 115us/step - loss: 0.5622 - accuracy: 0.7626 - val_loss: 0.4578 - val_accuracy: 0.8324\n",
      "Epoch 38/500\n",
      "712/712 [==============================] - 0s 116us/step - loss: 0.5588 - accuracy: 0.7430 - val_loss: 0.4502 - val_accuracy: 0.8324\n",
      "Epoch 39/500\n",
      "712/712 [==============================] - 0s 125us/step - loss: 0.5697 - accuracy: 0.7346 - val_loss: 0.4582 - val_accuracy: 0.8436\n",
      "Epoch 40/500\n",
      "712/712 [==============================] - 0s 110us/step - loss: 0.5590 - accuracy: 0.7472 - val_loss: 0.4533 - val_accuracy: 0.8547\n",
      "Epoch 41/500\n",
      "712/712 [==============================] - 0s 108us/step - loss: 0.5494 - accuracy: 0.7528 - val_loss: 0.4526 - val_accuracy: 0.8268\n",
      "Epoch 42/500\n",
      "712/712 [==============================] - 0s 134us/step - loss: 0.5314 - accuracy: 0.7416 - val_loss: 0.4408 - val_accuracy: 0.8603\n",
      "Epoch 43/500\n",
      "712/712 [==============================] - 0s 118us/step - loss: 0.5477 - accuracy: 0.7444 - val_loss: 0.4415 - val_accuracy: 0.8436\n",
      "Epoch 44/500\n",
      "712/712 [==============================] - 0s 122us/step - loss: 0.5303 - accuracy: 0.7430 - val_loss: 0.4406 - val_accuracy: 0.8324\n",
      "Epoch 45/500\n",
      "712/712 [==============================] - 0s 111us/step - loss: 0.5350 - accuracy: 0.7697 - val_loss: 0.4275 - val_accuracy: 0.8380\n",
      "Epoch 46/500\n",
      "712/712 [==============================] - 0s 144us/step - loss: 0.5293 - accuracy: 0.7584 - val_loss: 0.4299 - val_accuracy: 0.8492\n",
      "Epoch 47/500\n",
      "712/712 [==============================] - 0s 123us/step - loss: 0.5208 - accuracy: 0.7570 - val_loss: 0.4431 - val_accuracy: 0.8324\n",
      "Epoch 48/500\n",
      "712/712 [==============================] - 0s 115us/step - loss: 0.5161 - accuracy: 0.7514 - val_loss: 0.4276 - val_accuracy: 0.8268\n",
      "Epoch 49/500\n",
      "712/712 [==============================] - 0s 105us/step - loss: 0.5044 - accuracy: 0.7654 - val_loss: 0.4227 - val_accuracy: 0.8380\n",
      "Epoch 50/500\n",
      "712/712 [==============================] - 0s 132us/step - loss: 0.5298 - accuracy: 0.7486 - val_loss: 0.4188 - val_accuracy: 0.8380\n",
      "Epoch 51/500\n",
      "712/712 [==============================] - 0s 125us/step - loss: 0.5384 - accuracy: 0.7598 - val_loss: 0.4414 - val_accuracy: 0.8436\n",
      "Epoch 52/500\n",
      "712/712 [==============================] - 0s 117us/step - loss: 0.4923 - accuracy: 0.7781 - val_loss: 0.4217 - val_accuracy: 0.8492\n",
      "Epoch 53/500\n",
      "712/712 [==============================] - 0s 125us/step - loss: 0.5044 - accuracy: 0.7612 - val_loss: 0.4269 - val_accuracy: 0.8380\n",
      "Epoch 54/500\n",
      "712/712 [==============================] - 0s 103us/step - loss: 0.5136 - accuracy: 0.7893 - val_loss: 0.4327 - val_accuracy: 0.8268\n",
      "Epoch 55/500\n",
      "712/712 [==============================] - 0s 121us/step - loss: 0.4992 - accuracy: 0.7669 - val_loss: 0.4206 - val_accuracy: 0.8380\n",
      "Epoch 56/500\n"
     ]
    },
    {
     "name": "stdout",
     "output_type": "stream",
     "text": [
      "712/712 [==============================] - 0s 126us/step - loss: 0.5204 - accuracy: 0.7612 - val_loss: 0.4324 - val_accuracy: 0.8380\n",
      "Epoch 57/500\n",
      "712/712 [==============================] - 0s 153us/step - loss: 0.5012 - accuracy: 0.7823 - val_loss: 0.4237 - val_accuracy: 0.8380\n",
      "Epoch 58/500\n",
      "712/712 [==============================] - 0s 150us/step - loss: 0.5129 - accuracy: 0.7823 - val_loss: 0.4351 - val_accuracy: 0.8547\n",
      "Epoch 59/500\n",
      "712/712 [==============================] - 0s 135us/step - loss: 0.5011 - accuracy: 0.7865 - val_loss: 0.4174 - val_accuracy: 0.8436\n",
      "Epoch 60/500\n",
      "712/712 [==============================] - 0s 140us/step - loss: 0.4921 - accuracy: 0.7795 - val_loss: 0.4156 - val_accuracy: 0.8547\n",
      "Epoch 61/500\n",
      "712/712 [==============================] - 0s 146us/step - loss: 0.4949 - accuracy: 0.7823 - val_loss: 0.4073 - val_accuracy: 0.8492\n",
      "Epoch 62/500\n",
      "712/712 [==============================] - 0s 135us/step - loss: 0.5012 - accuracy: 0.7823 - val_loss: 0.4325 - val_accuracy: 0.8324\n",
      "Epoch 63/500\n",
      "712/712 [==============================] - 0s 141us/step - loss: 0.5074 - accuracy: 0.7893 - val_loss: 0.4198 - val_accuracy: 0.8492\n",
      "Epoch 64/500\n",
      "712/712 [==============================] - 0s 118us/step - loss: 0.4659 - accuracy: 0.8048 - val_loss: 0.4051 - val_accuracy: 0.8492\n",
      "Epoch 65/500\n",
      "712/712 [==============================] - 0s 130us/step - loss: 0.4677 - accuracy: 0.7921 - val_loss: 0.4001 - val_accuracy: 0.8492\n",
      "Epoch 66/500\n",
      "712/712 [==============================] - 0s 138us/step - loss: 0.4809 - accuracy: 0.7865 - val_loss: 0.3976 - val_accuracy: 0.8547\n",
      "Epoch 67/500\n",
      "712/712 [==============================] - 0s 131us/step - loss: 0.4705 - accuracy: 0.8104 - val_loss: 0.3902 - val_accuracy: 0.8603\n",
      "Epoch 68/500\n",
      "712/712 [==============================] - 0s 105us/step - loss: 0.4873 - accuracy: 0.7823 - val_loss: 0.4099 - val_accuracy: 0.8547\n",
      "Epoch 69/500\n",
      "712/712 [==============================] - 0s 100us/step - loss: 0.4594 - accuracy: 0.7893 - val_loss: 0.3968 - val_accuracy: 0.8547\n",
      "Epoch 70/500\n",
      "712/712 [==============================] - 0s 97us/step - loss: 0.4663 - accuracy: 0.8006 - val_loss: 0.3884 - val_accuracy: 0.8492\n",
      "Epoch 71/500\n",
      "712/712 [==============================] - 0s 135us/step - loss: 0.4959 - accuracy: 0.7837 - val_loss: 0.4166 - val_accuracy: 0.8436\n",
      "Epoch 72/500\n",
      "712/712 [==============================] - 0s 121us/step - loss: 0.4788 - accuracy: 0.7893 - val_loss: 0.4058 - val_accuracy: 0.8492\n",
      "Epoch 73/500\n",
      "712/712 [==============================] - ETA: 0s - loss: 0.4548 - accuracy: 0.78 - 0s 130us/step - loss: 0.4629 - accuracy: 0.7907 - val_loss: 0.3869 - val_accuracy: 0.8436\n",
      "Epoch 74/500\n",
      "712/712 [==============================] - ETA: 0s - loss: 0.4757 - accuracy: 0.80 - 0s 99us/step - loss: 0.4624 - accuracy: 0.8090 - val_loss: 0.3978 - val_accuracy: 0.8436\n",
      "Epoch 75/500\n",
      "712/712 [==============================] - 0s 126us/step - loss: 0.4728 - accuracy: 0.8006 - val_loss: 0.4137 - val_accuracy: 0.8436\n",
      "Epoch 76/500\n",
      "712/712 [==============================] - 0s 135us/step - loss: 0.4476 - accuracy: 0.8076 - val_loss: 0.3786 - val_accuracy: 0.8547\n",
      "Epoch 77/500\n",
      "712/712 [==============================] - 0s 124us/step - loss: 0.4760 - accuracy: 0.7978 - val_loss: 0.3934 - val_accuracy: 0.8547\n",
      "Epoch 78/500\n",
      "712/712 [==============================] - 0s 115us/step - loss: 0.4602 - accuracy: 0.7978 - val_loss: 0.3851 - val_accuracy: 0.8547\n",
      "Epoch 79/500\n",
      "712/712 [==============================] - 0s 128us/step - loss: 0.4781 - accuracy: 0.7992 - val_loss: 0.3954 - val_accuracy: 0.8603\n",
      "Epoch 80/500\n",
      "712/712 [==============================] - 0s 120us/step - loss: 0.4650 - accuracy: 0.7992 - val_loss: 0.3899 - val_accuracy: 0.8547\n",
      "Epoch 81/500\n",
      "712/712 [==============================] - 0s 113us/step - loss: 0.4611 - accuracy: 0.8020 - val_loss: 0.3891 - val_accuracy: 0.8547\n",
      "Epoch 82/500\n",
      "712/712 [==============================] - 0s 118us/step - loss: 0.4719 - accuracy: 0.7978 - val_loss: 0.3892 - val_accuracy: 0.8547\n",
      "Epoch 83/500\n",
      "712/712 [==============================] - 0s 133us/step - loss: 0.4593 - accuracy: 0.8076 - val_loss: 0.3903 - val_accuracy: 0.8603\n",
      "Epoch 84/500\n",
      "712/712 [==============================] - 0s 127us/step - loss: 0.4790 - accuracy: 0.7879 - val_loss: 0.3885 - val_accuracy: 0.8547\n",
      "Epoch 85/500\n",
      "712/712 [==============================] - 0s 111us/step - loss: 0.4687 - accuracy: 0.7851 - val_loss: 0.3895 - val_accuracy: 0.8547\n",
      "Epoch 86/500\n",
      "712/712 [==============================] - 0s 115us/step - loss: 0.4490 - accuracy: 0.8216 - val_loss: 0.3830 - val_accuracy: 0.8547\n",
      "Epoch 87/500\n",
      "712/712 [==============================] - 0s 121us/step - loss: 0.4463 - accuracy: 0.8062 - val_loss: 0.3879 - val_accuracy: 0.8547\n",
      "Epoch 88/500\n",
      "712/712 [==============================] - 0s 131us/step - loss: 0.4693 - accuracy: 0.8006 - val_loss: 0.3891 - val_accuracy: 0.8547\n",
      "Epoch 89/500\n",
      "712/712 [==============================] - 0s 134us/step - loss: 0.4650 - accuracy: 0.8048 - val_loss: 0.4040 - val_accuracy: 0.8436\n",
      "Epoch 90/500\n",
      "712/712 [==============================] - 0s 141us/step - loss: 0.4560 - accuracy: 0.8048 - val_loss: 0.3871 - val_accuracy: 0.8324\n",
      "Epoch 91/500\n",
      "712/712 [==============================] - 0s 127us/step - loss: 0.4492 - accuracy: 0.8090 - val_loss: 0.3807 - val_accuracy: 0.8547\n",
      "Epoch 92/500\n",
      "712/712 [==============================] - 0s 113us/step - loss: 0.4676 - accuracy: 0.8062 - val_loss: 0.3885 - val_accuracy: 0.8547\n",
      "Epoch 93/500\n",
      "712/712 [==============================] - 0s 125us/step - loss: 0.4449 - accuracy: 0.8076 - val_loss: 0.3839 - val_accuracy: 0.8492\n",
      "Epoch 94/500\n",
      "712/712 [==============================] - 0s 121us/step - loss: 0.4544 - accuracy: 0.8048 - val_loss: 0.3919 - val_accuracy: 0.8436\n",
      "Epoch 95/500\n",
      "712/712 [==============================] - 0s 130us/step - loss: 0.4540 - accuracy: 0.7949 - val_loss: 0.3872 - val_accuracy: 0.8492\n",
      "Epoch 96/500\n",
      "712/712 [==============================] - 0s 111us/step - loss: 0.4331 - accuracy: 0.8048 - val_loss: 0.3716 - val_accuracy: 0.8603\n",
      "Epoch 97/500\n",
      "712/712 [==============================] - 0s 123us/step - loss: 0.4477 - accuracy: 0.8160 - val_loss: 0.3873 - val_accuracy: 0.8603\n",
      "Epoch 98/500\n",
      "712/712 [==============================] - 0s 118us/step - loss: 0.4422 - accuracy: 0.8132 - val_loss: 0.3790 - val_accuracy: 0.8547\n",
      "Epoch 99/500\n",
      "712/712 [==============================] - 0s 134us/step - loss: 0.4568 - accuracy: 0.7992 - val_loss: 0.3783 - val_accuracy: 0.8603\n",
      "Epoch 100/500\n",
      "712/712 [==============================] - 0s 137us/step - loss: 0.4561 - accuracy: 0.8048 - val_loss: 0.3770 - val_accuracy: 0.8603\n",
      "Epoch 101/500\n",
      "712/712 [==============================] - 0s 122us/step - loss: 0.4521 - accuracy: 0.8048 - val_loss: 0.3809 - val_accuracy: 0.8659\n",
      "Epoch 102/500\n",
      "712/712 [==============================] - 0s 122us/step - loss: 0.4363 - accuracy: 0.8104 - val_loss: 0.3750 - val_accuracy: 0.8603\n",
      "Epoch 103/500\n",
      "712/712 [==============================] - 0s 123us/step - loss: 0.4591 - accuracy: 0.7879 - val_loss: 0.3868 - val_accuracy: 0.8436\n",
      "Epoch 104/500\n",
      "712/712 [==============================] - 0s 120us/step - loss: 0.4278 - accuracy: 0.8329 - val_loss: 0.3742 - val_accuracy: 0.8603\n",
      "Epoch 105/500\n",
      "712/712 [==============================] - 0s 122us/step - loss: 0.4415 - accuracy: 0.8132 - val_loss: 0.3636 - val_accuracy: 0.8547\n",
      "Epoch 106/500\n",
      "712/712 [==============================] - 0s 126us/step - loss: 0.4480 - accuracy: 0.8048 - val_loss: 0.3756 - val_accuracy: 0.8547\n",
      "Epoch 107/500\n",
      "712/712 [==============================] - 0s 118us/step - loss: 0.4424 - accuracy: 0.8048 - val_loss: 0.3730 - val_accuracy: 0.8659\n",
      "Epoch 108/500\n",
      "712/712 [==============================] - 0s 125us/step - loss: 0.4371 - accuracy: 0.8146 - val_loss: 0.3637 - val_accuracy: 0.8547\n",
      "Epoch 109/500\n",
      "712/712 [==============================] - 0s 119us/step - loss: 0.4368 - accuracy: 0.8132 - val_loss: 0.3772 - val_accuracy: 0.8547\n",
      "Epoch 110/500\n",
      "712/712 [==============================] - 0s 120us/step - loss: 0.4532 - accuracy: 0.8104 - val_loss: 0.3699 - val_accuracy: 0.8547\n",
      "Epoch 111/500\n"
     ]
    },
    {
     "name": "stdout",
     "output_type": "stream",
     "text": [
      "712/712 [==============================] - 0s 129us/step - loss: 0.4447 - accuracy: 0.8132 - val_loss: 0.3750 - val_accuracy: 0.8715\n",
      "Epoch 112/500\n",
      "712/712 [==============================] - 0s 123us/step - loss: 0.4426 - accuracy: 0.8090 - val_loss: 0.3702 - val_accuracy: 0.8603\n",
      "Epoch 113/500\n",
      "712/712 [==============================] - 0s 129us/step - loss: 0.4288 - accuracy: 0.8090 - val_loss: 0.3608 - val_accuracy: 0.8603\n",
      "Epoch 114/500\n",
      "712/712 [==============================] - 0s 120us/step - loss: 0.4424 - accuracy: 0.8048 - val_loss: 0.3703 - val_accuracy: 0.8715\n",
      "Epoch 115/500\n",
      "712/712 [==============================] - 0s 121us/step - loss: 0.4378 - accuracy: 0.8090 - val_loss: 0.3666 - val_accuracy: 0.8659\n",
      "Epoch 116/500\n",
      "712/712 [==============================] - 0s 120us/step - loss: 0.4280 - accuracy: 0.8174 - val_loss: 0.3532 - val_accuracy: 0.8603\n",
      "Epoch 117/500\n",
      "712/712 [==============================] - 0s 115us/step - loss: 0.4357 - accuracy: 0.8118 - val_loss: 0.3600 - val_accuracy: 0.8547\n",
      "Epoch 118/500\n",
      "712/712 [==============================] - 0s 121us/step - loss: 0.4345 - accuracy: 0.8146 - val_loss: 0.3662 - val_accuracy: 0.8547\n",
      "Epoch 119/500\n",
      "712/712 [==============================] - 0s 106us/step - loss: 0.4340 - accuracy: 0.8287 - val_loss: 0.3614 - val_accuracy: 0.8659\n",
      "Epoch 120/500\n",
      "712/712 [==============================] - 0s 120us/step - loss: 0.4405 - accuracy: 0.7978 - val_loss: 0.3683 - val_accuracy: 0.8492\n",
      "Epoch 121/500\n",
      "712/712 [==============================] - 0s 115us/step - loss: 0.4362 - accuracy: 0.8076 - val_loss: 0.3635 - val_accuracy: 0.8603\n",
      "Epoch 122/500\n",
      "712/712 [==============================] - 0s 115us/step - loss: 0.4281 - accuracy: 0.8202 - val_loss: 0.3573 - val_accuracy: 0.8436\n",
      "Epoch 123/500\n",
      "712/712 [==============================] - 0s 120us/step - loss: 0.4415 - accuracy: 0.8048 - val_loss: 0.3835 - val_accuracy: 0.8436\n",
      "Epoch 124/500\n",
      "712/712 [==============================] - 0s 111us/step - loss: 0.4282 - accuracy: 0.8174 - val_loss: 0.3457 - val_accuracy: 0.8659\n",
      "Epoch 125/500\n",
      "712/712 [==============================] - 0s 118us/step - loss: 0.4360 - accuracy: 0.8188 - val_loss: 0.3702 - val_accuracy: 0.8659\n",
      "Epoch 126/500\n",
      "712/712 [==============================] - 0s 125us/step - loss: 0.4340 - accuracy: 0.8020 - val_loss: 0.3634 - val_accuracy: 0.8436\n",
      "Epoch 127/500\n",
      "712/712 [==============================] - 0s 127us/step - loss: 0.4288 - accuracy: 0.8132 - val_loss: 0.3602 - val_accuracy: 0.8603\n",
      "Epoch 128/500\n",
      "712/712 [==============================] - 0s 119us/step - loss: 0.4324 - accuracy: 0.8090 - val_loss: 0.3733 - val_accuracy: 0.8380\n",
      "Epoch 129/500\n",
      "712/712 [==============================] - 0s 107us/step - loss: 0.4325 - accuracy: 0.8216 - val_loss: 0.3572 - val_accuracy: 0.8547\n",
      "Epoch 130/500\n",
      "712/712 [==============================] - 0s 130us/step - loss: 0.4321 - accuracy: 0.8160 - val_loss: 0.3557 - val_accuracy: 0.8603\n",
      "Epoch 131/500\n",
      "712/712 [==============================] - 0s 111us/step - loss: 0.4328 - accuracy: 0.8146 - val_loss: 0.3533 - val_accuracy: 0.8603\n",
      "Epoch 132/500\n",
      "712/712 [==============================] - 0s 118us/step - loss: 0.4356 - accuracy: 0.8118 - val_loss: 0.3724 - val_accuracy: 0.8603\n",
      "Epoch 133/500\n",
      "712/712 [==============================] - 0s 125us/step - loss: 0.4380 - accuracy: 0.8132 - val_loss: 0.3595 - val_accuracy: 0.8547\n",
      "Epoch 134/500\n",
      "712/712 [==============================] - 0s 114us/step - loss: 0.4223 - accuracy: 0.8216 - val_loss: 0.3489 - val_accuracy: 0.8659\n",
      "Epoch 135/500\n",
      "712/712 [==============================] - 0s 116us/step - loss: 0.4309 - accuracy: 0.8132 - val_loss: 0.3471 - val_accuracy: 0.8659\n",
      "Epoch 136/500\n",
      "712/712 [==============================] - 0s 124us/step - loss: 0.4264 - accuracy: 0.8174 - val_loss: 0.3623 - val_accuracy: 0.8547\n",
      "Epoch 137/500\n",
      "712/712 [==============================] - 0s 113us/step - loss: 0.4272 - accuracy: 0.8160 - val_loss: 0.3537 - val_accuracy: 0.8659\n",
      "Epoch 138/500\n",
      "712/712 [==============================] - 0s 115us/step - loss: 0.4196 - accuracy: 0.8160 - val_loss: 0.3648 - val_accuracy: 0.8547\n",
      "Epoch 139/500\n",
      "712/712 [==============================] - 0s 114us/step - loss: 0.4200 - accuracy: 0.8244 - val_loss: 0.3495 - val_accuracy: 0.8603\n",
      "Epoch 140/500\n",
      "712/712 [==============================] - 0s 101us/step - loss: 0.4251 - accuracy: 0.8202 - val_loss: 0.3366 - val_accuracy: 0.8603\n",
      "Epoch 141/500\n",
      "712/712 [==============================] - ETA: 0s - loss: 0.4116 - accuracy: 0.82 - 0s 112us/step - loss: 0.4313 - accuracy: 0.8020 - val_loss: 0.3505 - val_accuracy: 0.8603\n",
      "Epoch 142/500\n",
      "712/712 [==============================] - 0s 126us/step - loss: 0.4219 - accuracy: 0.8188 - val_loss: 0.3488 - val_accuracy: 0.8547\n",
      "Epoch 143/500\n",
      "712/712 [==============================] - 0s 106us/step - loss: 0.4312 - accuracy: 0.8230 - val_loss: 0.3535 - val_accuracy: 0.8547\n",
      "Epoch 144/500\n",
      "712/712 [==============================] - 0s 101us/step - loss: 0.4111 - accuracy: 0.8258 - val_loss: 0.3458 - val_accuracy: 0.8603\n",
      "Epoch 145/500\n",
      "712/712 [==============================] - 0s 139us/step - loss: 0.4177 - accuracy: 0.8287 - val_loss: 0.3608 - val_accuracy: 0.8492\n",
      "Epoch 146/500\n",
      "712/712 [==============================] - 0s 123us/step - loss: 0.4255 - accuracy: 0.8244 - val_loss: 0.3566 - val_accuracy: 0.8603\n",
      "Epoch 147/500\n",
      "712/712 [==============================] - 0s 114us/step - loss: 0.4192 - accuracy: 0.8174 - val_loss: 0.3514 - val_accuracy: 0.8603\n",
      "Epoch 148/500\n",
      "712/712 [==============================] - 0s 119us/step - loss: 0.4225 - accuracy: 0.8146 - val_loss: 0.3531 - val_accuracy: 0.8436\n",
      "Epoch 149/500\n",
      "712/712 [==============================] - 0s 125us/step - loss: 0.4140 - accuracy: 0.8104 - val_loss: 0.3387 - val_accuracy: 0.8603\n",
      "Epoch 150/500\n",
      "712/712 [==============================] - 0s 116us/step - loss: 0.4202 - accuracy: 0.8202 - val_loss: 0.3418 - val_accuracy: 0.8603\n",
      "Epoch 151/500\n",
      "712/712 [==============================] - 0s 134us/step - loss: 0.4180 - accuracy: 0.8076 - val_loss: 0.3448 - val_accuracy: 0.8659\n",
      "Epoch 152/500\n",
      "712/712 [==============================] - 0s 163us/step - loss: 0.4195 - accuracy: 0.8146 - val_loss: 0.3516 - val_accuracy: 0.8715\n",
      "Epoch 153/500\n",
      "712/712 [==============================] - 0s 125us/step - loss: 0.4233 - accuracy: 0.8090 - val_loss: 0.3396 - val_accuracy: 0.8659\n",
      "Epoch 154/500\n",
      "712/712 [==============================] - 0s 129us/step - loss: 0.4071 - accuracy: 0.8216 - val_loss: 0.3359 - val_accuracy: 0.8603\n",
      "Epoch 155/500\n",
      "712/712 [==============================] - 0s 118us/step - loss: 0.4169 - accuracy: 0.8090 - val_loss: 0.3302 - val_accuracy: 0.8659\n",
      "Epoch 156/500\n",
      "712/712 [==============================] - 0s 156us/step - loss: 0.4185 - accuracy: 0.8202 - val_loss: 0.3327 - val_accuracy: 0.8659\n",
      "Epoch 157/500\n",
      "712/712 [==============================] - 0s 146us/step - loss: 0.4215 - accuracy: 0.8160 - val_loss: 0.3402 - val_accuracy: 0.8715\n",
      "Epoch 158/500\n",
      "712/712 [==============================] - 0s 132us/step - loss: 0.4328 - accuracy: 0.8146 - val_loss: 0.3437 - val_accuracy: 0.8659\n",
      "Epoch 159/500\n",
      "712/712 [==============================] - 0s 113us/step - loss: 0.4170 - accuracy: 0.8104 - val_loss: 0.3469 - val_accuracy: 0.8603\n",
      "Epoch 160/500\n",
      "712/712 [==============================] - 0s 118us/step - loss: 0.4170 - accuracy: 0.8160 - val_loss: 0.3274 - val_accuracy: 0.8771\n",
      "Epoch 161/500\n",
      "712/712 [==============================] - 0s 123us/step - loss: 0.4110 - accuracy: 0.8146 - val_loss: 0.3398 - val_accuracy: 0.8659\n",
      "Epoch 162/500\n",
      "712/712 [==============================] - 0s 115us/step - loss: 0.4212 - accuracy: 0.8160 - val_loss: 0.3341 - val_accuracy: 0.8771\n",
      "Epoch 163/500\n",
      "712/712 [==============================] - 0s 152us/step - loss: 0.4085 - accuracy: 0.8230 - val_loss: 0.3288 - val_accuracy: 0.8771\n",
      "Epoch 164/500\n",
      "712/712 [==============================] - 0s 149us/step - loss: 0.4190 - accuracy: 0.8272 - val_loss: 0.3393 - val_accuracy: 0.8715\n",
      "Epoch 165/500\n",
      "712/712 [==============================] - 0s 125us/step - loss: 0.4198 - accuracy: 0.8104 - val_loss: 0.3396 - val_accuracy: 0.8715\n",
      "Epoch 166/500\n"
     ]
    },
    {
     "name": "stdout",
     "output_type": "stream",
     "text": [
      "712/712 [==============================] - 0s 129us/step - loss: 0.4137 - accuracy: 0.8244 - val_loss: 0.3264 - val_accuracy: 0.8715\n",
      "Epoch 167/500\n",
      "712/712 [==============================] - 0s 132us/step - loss: 0.4094 - accuracy: 0.8160 - val_loss: 0.3324 - val_accuracy: 0.8603\n",
      "Epoch 168/500\n",
      "712/712 [==============================] - 0s 134us/step - loss: 0.4080 - accuracy: 0.8230 - val_loss: 0.3193 - val_accuracy: 0.8715\n",
      "Epoch 169/500\n",
      "712/712 [==============================] - 0s 171us/step - loss: 0.3975 - accuracy: 0.8258 - val_loss: 0.3366 - val_accuracy: 0.8380\n",
      "Epoch 170/500\n",
      "712/712 [==============================] - 0s 146us/step - loss: 0.4037 - accuracy: 0.8258 - val_loss: 0.3144 - val_accuracy: 0.8771\n",
      "Epoch 171/500\n",
      "712/712 [==============================] - 0s 115us/step - loss: 0.4296 - accuracy: 0.8160 - val_loss: 0.3497 - val_accuracy: 0.8380\n",
      "Epoch 172/500\n",
      "712/712 [==============================] - 0s 100us/step - loss: 0.4174 - accuracy: 0.8329 - val_loss: 0.3381 - val_accuracy: 0.8547\n",
      "Epoch 173/500\n",
      "712/712 [==============================] - 0s 94us/step - loss: 0.4148 - accuracy: 0.8174 - val_loss: 0.3306 - val_accuracy: 0.8603\n",
      "Epoch 174/500\n",
      "712/712 [==============================] - 0s 96us/step - loss: 0.4044 - accuracy: 0.8357 - val_loss: 0.3195 - val_accuracy: 0.8715\n",
      "Epoch 175/500\n",
      "712/712 [==============================] - 0s 91us/step - loss: 0.4173 - accuracy: 0.8174 - val_loss: 0.3350 - val_accuracy: 0.8771\n",
      "Epoch 176/500\n",
      "712/712 [==============================] - 0s 120us/step - loss: 0.4064 - accuracy: 0.8272 - val_loss: 0.3265 - val_accuracy: 0.8771\n",
      "Epoch 177/500\n",
      "712/712 [==============================] - 0s 152us/step - loss: 0.3991 - accuracy: 0.8258 - val_loss: 0.3275 - val_accuracy: 0.8827\n",
      "Epoch 178/500\n",
      "712/712 [==============================] - 0s 151us/step - loss: 0.4043 - accuracy: 0.8216 - val_loss: 0.3279 - val_accuracy: 0.8659\n",
      "Epoch 179/500\n",
      "712/712 [==============================] - 0s 170us/step - loss: 0.4160 - accuracy: 0.8230 - val_loss: 0.3341 - val_accuracy: 0.8715\n",
      "Epoch 180/500\n",
      "712/712 [==============================] - 0s 156us/step - loss: 0.4110 - accuracy: 0.8216 - val_loss: 0.3424 - val_accuracy: 0.8659\n",
      "Epoch 181/500\n",
      "712/712 [==============================] - 0s 148us/step - loss: 0.4072 - accuracy: 0.8301 - val_loss: 0.3269 - val_accuracy: 0.8603\n",
      "Epoch 182/500\n",
      "712/712 [==============================] - 0s 128us/step - loss: 0.4261 - accuracy: 0.8160 - val_loss: 0.3231 - val_accuracy: 0.8715\n",
      "Epoch 183/500\n",
      "712/712 [==============================] - 0s 128us/step - loss: 0.4076 - accuracy: 0.8216 - val_loss: 0.3412 - val_accuracy: 0.8715\n",
      "Epoch 184/500\n",
      "712/712 [==============================] - 0s 129us/step - loss: 0.4150 - accuracy: 0.8287 - val_loss: 0.3198 - val_accuracy: 0.8827\n",
      "Epoch 185/500\n",
      "712/712 [==============================] - 0s 137us/step - loss: 0.4118 - accuracy: 0.8216 - val_loss: 0.3206 - val_accuracy: 0.8771\n",
      "Epoch 186/500\n",
      "712/712 [==============================] - 0s 132us/step - loss: 0.4006 - accuracy: 0.8230 - val_loss: 0.3194 - val_accuracy: 0.8603\n",
      "Epoch 187/500\n",
      "712/712 [==============================] - 0s 126us/step - loss: 0.4250 - accuracy: 0.8202 - val_loss: 0.3327 - val_accuracy: 0.8659\n",
      "Epoch 188/500\n",
      "712/712 [==============================] - 0s 134us/step - loss: 0.4164 - accuracy: 0.8118 - val_loss: 0.3303 - val_accuracy: 0.8715\n",
      "Epoch 189/500\n",
      "712/712 [==============================] - 0s 133us/step - loss: 0.3941 - accuracy: 0.8301 - val_loss: 0.3099 - val_accuracy: 0.8715\n",
      "Epoch 190/500\n",
      "712/712 [==============================] - 0s 131us/step - loss: 0.3940 - accuracy: 0.8216 - val_loss: 0.3259 - val_accuracy: 0.8603\n",
      "Epoch 191/500\n",
      "712/712 [==============================] - 0s 132us/step - loss: 0.3935 - accuracy: 0.8216 - val_loss: 0.3270 - val_accuracy: 0.8827\n",
      "Epoch 192/500\n",
      "712/712 [==============================] - 0s 133us/step - loss: 0.4070 - accuracy: 0.8258 - val_loss: 0.3202 - val_accuracy: 0.8771\n",
      "Epoch 193/500\n",
      "712/712 [==============================] - 0s 194us/step - loss: 0.3941 - accuracy: 0.8343 - val_loss: 0.3111 - val_accuracy: 0.8827\n",
      "Epoch 194/500\n",
      "712/712 [==============================] - 0s 167us/step - loss: 0.3987 - accuracy: 0.8272 - val_loss: 0.3086 - val_accuracy: 0.8771\n",
      "Epoch 195/500\n",
      "712/712 [==============================] - 0s 127us/step - loss: 0.4042 - accuracy: 0.8272 - val_loss: 0.3325 - val_accuracy: 0.8715\n",
      "Epoch 196/500\n",
      "712/712 [==============================] - 0s 141us/step - loss: 0.4120 - accuracy: 0.8357 - val_loss: 0.3358 - val_accuracy: 0.8771\n",
      "Epoch 197/500\n",
      "712/712 [==============================] - 0s 129us/step - loss: 0.4190 - accuracy: 0.8188 - val_loss: 0.3153 - val_accuracy: 0.8771\n",
      "Epoch 198/500\n",
      "712/712 [==============================] - 0s 161us/step - loss: 0.4133 - accuracy: 0.8216 - val_loss: 0.3243 - val_accuracy: 0.8715\n",
      "Epoch 199/500\n",
      "712/712 [==============================] - 0s 156us/step - loss: 0.3890 - accuracy: 0.8272 - val_loss: 0.3186 - val_accuracy: 0.8715\n",
      "Epoch 200/500\n",
      "712/712 [==============================] - 0s 135us/step - loss: 0.3950 - accuracy: 0.8258 - val_loss: 0.3207 - val_accuracy: 0.8715\n",
      "Epoch 201/500\n",
      "712/712 [==============================] - 0s 140us/step - loss: 0.4104 - accuracy: 0.8244 - val_loss: 0.3294 - val_accuracy: 0.8715\n",
      "Epoch 202/500\n",
      "712/712 [==============================] - 0s 132us/step - loss: 0.4121 - accuracy: 0.8160 - val_loss: 0.3243 - val_accuracy: 0.8771\n",
      "Epoch 203/500\n",
      "712/712 [==============================] - 0s 132us/step - loss: 0.4036 - accuracy: 0.8118 - val_loss: 0.3212 - val_accuracy: 0.8827\n",
      "Epoch 204/500\n",
      "712/712 [==============================] - 0s 128us/step - loss: 0.3969 - accuracy: 0.8413 - val_loss: 0.3193 - val_accuracy: 0.8827\n",
      "Epoch 205/500\n",
      "712/712 [==============================] - 0s 131us/step - loss: 0.4019 - accuracy: 0.8329 - val_loss: 0.3294 - val_accuracy: 0.8715\n",
      "Epoch 206/500\n",
      "712/712 [==============================] - 0s 121us/step - loss: 0.4078 - accuracy: 0.8287 - val_loss: 0.3328 - val_accuracy: 0.8715\n",
      "Epoch 207/500\n",
      "712/712 [==============================] - 0s 139us/step - loss: 0.4067 - accuracy: 0.8216 - val_loss: 0.3216 - val_accuracy: 0.8771\n",
      "Epoch 208/500\n",
      "712/712 [==============================] - 0s 164us/step - loss: 0.4080 - accuracy: 0.8329 - val_loss: 0.3159 - val_accuracy: 0.8827\n",
      "Epoch 209/500\n",
      "712/712 [==============================] - 0s 149us/step - loss: 0.4038 - accuracy: 0.8174 - val_loss: 0.3053 - val_accuracy: 0.8771\n",
      "Epoch 210/500\n",
      "712/712 [==============================] - 0s 138us/step - loss: 0.4208 - accuracy: 0.8216 - val_loss: 0.3095 - val_accuracy: 0.8715\n",
      "Epoch 211/500\n",
      "712/712 [==============================] - 0s 148us/step - loss: 0.4079 - accuracy: 0.8357 - val_loss: 0.3140 - val_accuracy: 0.8715\n",
      "Epoch 212/500\n",
      "712/712 [==============================] - 0s 125us/step - loss: 0.4004 - accuracy: 0.8174 - val_loss: 0.3269 - val_accuracy: 0.8603\n",
      "Epoch 213/500\n",
      "712/712 [==============================] - 0s 141us/step - loss: 0.3968 - accuracy: 0.8272 - val_loss: 0.3156 - val_accuracy: 0.8771\n",
      "Epoch 214/500\n",
      "712/712 [==============================] - 0s 139us/step - loss: 0.3966 - accuracy: 0.8230 - val_loss: 0.3186 - val_accuracy: 0.8771\n",
      "Epoch 215/500\n",
      "712/712 [==============================] - 0s 132us/step - loss: 0.3987 - accuracy: 0.8329 - val_loss: 0.3144 - val_accuracy: 0.8771\n",
      "Epoch 216/500\n",
      "712/712 [==============================] - 0s 140us/step - loss: 0.4055 - accuracy: 0.8315 - val_loss: 0.3238 - val_accuracy: 0.8715\n",
      "Epoch 217/500\n",
      "712/712 [==============================] - 0s 134us/step - loss: 0.4052 - accuracy: 0.8202 - val_loss: 0.3240 - val_accuracy: 0.8715\n",
      "Epoch 218/500\n",
      "712/712 [==============================] - 0s 119us/step - loss: 0.3828 - accuracy: 0.8427 - val_loss: 0.3081 - val_accuracy: 0.8659\n",
      "Epoch 219/500\n",
      "712/712 [==============================] - 0s 112us/step - loss: 0.3935 - accuracy: 0.8343 - val_loss: 0.3299 - val_accuracy: 0.8659\n",
      "Epoch 220/500\n",
      "712/712 [==============================] - 0s 134us/step - loss: 0.3983 - accuracy: 0.8272 - val_loss: 0.3093 - val_accuracy: 0.8659\n",
      "Epoch 221/500\n",
      "712/712 [==============================] - 0s 127us/step - loss: 0.3885 - accuracy: 0.8385 - val_loss: 0.3163 - val_accuracy: 0.8771\n"
     ]
    },
    {
     "name": "stdout",
     "output_type": "stream",
     "text": [
      "Epoch 222/500\n",
      "712/712 [==============================] - 0s 132us/step - loss: 0.4036 - accuracy: 0.8301 - val_loss: 0.3212 - val_accuracy: 0.8771\n",
      "Epoch 223/500\n",
      "712/712 [==============================] - 0s 125us/step - loss: 0.3958 - accuracy: 0.8329 - val_loss: 0.3085 - val_accuracy: 0.8827\n",
      "Epoch 224/500\n",
      "712/712 [==============================] - 0s 156us/step - loss: 0.3859 - accuracy: 0.8272 - val_loss: 0.3056 - val_accuracy: 0.8827\n",
      "Epoch 225/500\n",
      "712/712 [==============================] - 0s 142us/step - loss: 0.3974 - accuracy: 0.8315 - val_loss: 0.3120 - val_accuracy: 0.8771\n",
      "Epoch 226/500\n",
      "712/712 [==============================] - 0s 141us/step - loss: 0.3868 - accuracy: 0.8357 - val_loss: 0.3201 - val_accuracy: 0.8827\n",
      "Epoch 227/500\n",
      "712/712 [==============================] - 0s 122us/step - loss: 0.4011 - accuracy: 0.8188 - val_loss: 0.3167 - val_accuracy: 0.8715\n",
      "Epoch 228/500\n",
      "712/712 [==============================] - 0s 131us/step - loss: 0.4070 - accuracy: 0.8272 - val_loss: 0.3199 - val_accuracy: 0.8827\n",
      "Epoch 229/500\n",
      "712/712 [==============================] - 0s 134us/step - loss: 0.3905 - accuracy: 0.8272 - val_loss: 0.3130 - val_accuracy: 0.8771\n",
      "Epoch 230/500\n",
      "712/712 [==============================] - 0s 133us/step - loss: 0.3972 - accuracy: 0.8301 - val_loss: 0.3093 - val_accuracy: 0.8827\n",
      "Epoch 231/500\n",
      "712/712 [==============================] - 0s 132us/step - loss: 0.4040 - accuracy: 0.8272 - val_loss: 0.3245 - val_accuracy: 0.8827\n",
      "Epoch 232/500\n",
      "712/712 [==============================] - 0s 134us/step - loss: 0.3874 - accuracy: 0.8343 - val_loss: 0.3160 - val_accuracy: 0.8827\n",
      "Epoch 233/500\n",
      "712/712 [==============================] - 0s 118us/step - loss: 0.3983 - accuracy: 0.8258 - val_loss: 0.3122 - val_accuracy: 0.8827\n",
      "Epoch 234/500\n",
      "712/712 [==============================] - 0s 143us/step - loss: 0.3936 - accuracy: 0.8301 - val_loss: 0.3247 - val_accuracy: 0.8771\n",
      "Epoch 235/500\n",
      "712/712 [==============================] - 0s 140us/step - loss: 0.3904 - accuracy: 0.8357 - val_loss: 0.3172 - val_accuracy: 0.8715\n",
      "Epoch 236/500\n",
      "712/712 [==============================] - 0s 129us/step - loss: 0.3898 - accuracy: 0.8357 - val_loss: 0.3186 - val_accuracy: 0.8771\n",
      "Epoch 237/500\n",
      "712/712 [==============================] - 0s 125us/step - loss: 0.3956 - accuracy: 0.8385 - val_loss: 0.3100 - val_accuracy: 0.8771\n",
      "Epoch 238/500\n",
      "712/712 [==============================] - 0s 123us/step - loss: 0.4085 - accuracy: 0.8385 - val_loss: 0.3216 - val_accuracy: 0.8715\n",
      "Epoch 239/500\n",
      "712/712 [==============================] - 0s 124us/step - loss: 0.3842 - accuracy: 0.8230 - val_loss: 0.3150 - val_accuracy: 0.8715\n",
      "Epoch 240/500\n",
      "712/712 [==============================] - 0s 123us/step - loss: 0.4006 - accuracy: 0.8343 - val_loss: 0.3173 - val_accuracy: 0.8771\n",
      "Epoch 241/500\n",
      "712/712 [==============================] - 0s 120us/step - loss: 0.3897 - accuracy: 0.8385 - val_loss: 0.3139 - val_accuracy: 0.8715\n",
      "Epoch 242/500\n",
      "712/712 [==============================] - 0s 131us/step - loss: 0.3883 - accuracy: 0.8343 - val_loss: 0.3257 - val_accuracy: 0.8771\n",
      "Epoch 243/500\n",
      "712/712 [==============================] - 0s 139us/step - loss: 0.4000 - accuracy: 0.8216 - val_loss: 0.3251 - val_accuracy: 0.8715\n",
      "Epoch 244/500\n",
      "712/712 [==============================] - 0s 122us/step - loss: 0.3973 - accuracy: 0.8301 - val_loss: 0.3231 - val_accuracy: 0.8827\n",
      "Epoch 245/500\n",
      "712/712 [==============================] - 0s 131us/step - loss: 0.3832 - accuracy: 0.8413 - val_loss: 0.3169 - val_accuracy: 0.8827\n",
      "Epoch 246/500\n",
      "712/712 [==============================] - 0s 123us/step - loss: 0.3957 - accuracy: 0.8272 - val_loss: 0.3144 - val_accuracy: 0.8883\n",
      "Epoch 247/500\n",
      "712/712 [==============================] - 0s 127us/step - loss: 0.3918 - accuracy: 0.8301 - val_loss: 0.3129 - val_accuracy: 0.8771\n",
      "Epoch 248/500\n",
      "712/712 [==============================] - 0s 124us/step - loss: 0.3918 - accuracy: 0.8174 - val_loss: 0.3207 - val_accuracy: 0.8827\n",
      "Epoch 249/500\n",
      "712/712 [==============================] - 0s 130us/step - loss: 0.3836 - accuracy: 0.8357 - val_loss: 0.3114 - val_accuracy: 0.8827\n",
      "Epoch 250/500\n",
      "712/712 [==============================] - 0s 132us/step - loss: 0.3895 - accuracy: 0.8301 - val_loss: 0.3186 - val_accuracy: 0.8659\n",
      "Epoch 251/500\n",
      "712/712 [==============================] - 0s 134us/step - loss: 0.3951 - accuracy: 0.8258 - val_loss: 0.3309 - val_accuracy: 0.8771\n",
      "Epoch 252/500\n",
      "712/712 [==============================] - 0s 122us/step - loss: 0.4053 - accuracy: 0.8104 - val_loss: 0.3266 - val_accuracy: 0.8715\n",
      "Epoch 253/500\n",
      "712/712 [==============================] - 0s 120us/step - loss: 0.3844 - accuracy: 0.8427 - val_loss: 0.3118 - val_accuracy: 0.8715\n",
      "Epoch 254/500\n",
      "712/712 [==============================] - 0s 117us/step - loss: 0.3658 - accuracy: 0.8553 - val_loss: 0.3158 - val_accuracy: 0.8715\n",
      "Epoch 255/500\n",
      "712/712 [==============================] - 0s 115us/step - loss: 0.3989 - accuracy: 0.8202 - val_loss: 0.3045 - val_accuracy: 0.8659\n",
      "Epoch 256/500\n",
      "712/712 [==============================] - 0s 116us/step - loss: 0.4032 - accuracy: 0.8216 - val_loss: 0.3238 - val_accuracy: 0.8659\n",
      "Epoch 257/500\n",
      "712/712 [==============================] - 0s 139us/step - loss: 0.3843 - accuracy: 0.8413 - val_loss: 0.3098 - val_accuracy: 0.8771\n",
      "Epoch 258/500\n",
      "712/712 [==============================] - 0s 124us/step - loss: 0.3810 - accuracy: 0.8441 - val_loss: 0.3082 - val_accuracy: 0.8827\n",
      "Epoch 259/500\n",
      "712/712 [==============================] - 0s 128us/step - loss: 0.3861 - accuracy: 0.8272 - val_loss: 0.3114 - val_accuracy: 0.8827\n",
      "Epoch 260/500\n",
      "712/712 [==============================] - 0s 120us/step - loss: 0.4003 - accuracy: 0.8216 - val_loss: 0.3088 - val_accuracy: 0.8827\n",
      "Epoch 261/500\n",
      "712/712 [==============================] - 0s 123us/step - loss: 0.3784 - accuracy: 0.8441 - val_loss: 0.3183 - val_accuracy: 0.8715\n",
      "Epoch 262/500\n",
      "712/712 [==============================] - 0s 126us/step - loss: 0.3897 - accuracy: 0.8357 - val_loss: 0.3099 - val_accuracy: 0.8771\n",
      "Epoch 263/500\n",
      "712/712 [==============================] - 0s 135us/step - loss: 0.3816 - accuracy: 0.8385 - val_loss: 0.3205 - val_accuracy: 0.8883\n",
      "Epoch 264/500\n",
      "712/712 [==============================] - 0s 141us/step - loss: 0.3744 - accuracy: 0.8357 - val_loss: 0.3243 - val_accuracy: 0.8827\n",
      "Epoch 265/500\n",
      "712/712 [==============================] - 0s 130us/step - loss: 0.3870 - accuracy: 0.8371 - val_loss: 0.3166 - val_accuracy: 0.8771\n",
      "Epoch 266/500\n",
      "712/712 [==============================] - 0s 117us/step - loss: 0.3772 - accuracy: 0.8371 - val_loss: 0.3193 - val_accuracy: 0.8827\n",
      "Epoch 267/500\n",
      "712/712 [==============================] - 0s 123us/step - loss: 0.3792 - accuracy: 0.8357 - val_loss: 0.3371 - val_accuracy: 0.8547\n",
      "Epoch 268/500\n",
      "712/712 [==============================] - 0s 123us/step - loss: 0.3809 - accuracy: 0.8343 - val_loss: 0.3336 - val_accuracy: 0.8771\n",
      "Epoch 269/500\n",
      "712/712 [==============================] - 0s 126us/step - loss: 0.3979 - accuracy: 0.8244 - val_loss: 0.3373 - val_accuracy: 0.8603\n",
      "Epoch 270/500\n",
      "712/712 [==============================] - 0s 130us/step - loss: 0.3926 - accuracy: 0.8301 - val_loss: 0.3222 - val_accuracy: 0.8715\n",
      "Epoch 271/500\n",
      "712/712 [==============================] - 0s 129us/step - loss: 0.3940 - accuracy: 0.8258 - val_loss: 0.3082 - val_accuracy: 0.8827\n",
      "Epoch 272/500\n",
      "712/712 [==============================] - 0s 130us/step - loss: 0.3811 - accuracy: 0.8287 - val_loss: 0.3141 - val_accuracy: 0.8659\n",
      "Epoch 273/500\n",
      "712/712 [==============================] - 0s 128us/step - loss: 0.4041 - accuracy: 0.8329 - val_loss: 0.3234 - val_accuracy: 0.8659\n",
      "Epoch 274/500\n",
      "712/712 [==============================] - 0s 130us/step - loss: 0.3952 - accuracy: 0.8287 - val_loss: 0.3188 - val_accuracy: 0.8603\n",
      "Epoch 275/500\n",
      "712/712 [==============================] - 0s 127us/step - loss: 0.4005 - accuracy: 0.8160 - val_loss: 0.3303 - val_accuracy: 0.8659\n",
      "Epoch 276/500\n",
      "712/712 [==============================] - 0s 130us/step - loss: 0.3925 - accuracy: 0.8329 - val_loss: 0.3209 - val_accuracy: 0.8771\n",
      "Epoch 277/500\n",
      "712/712 [==============================] - 0s 126us/step - loss: 0.3806 - accuracy: 0.8315 - val_loss: 0.3180 - val_accuracy: 0.8715\n"
     ]
    },
    {
     "name": "stdout",
     "output_type": "stream",
     "text": [
      "Epoch 278/500\n",
      "712/712 [==============================] - 0s 123us/step - loss: 0.3721 - accuracy: 0.8385 - val_loss: 0.3226 - val_accuracy: 0.8715\n",
      "Epoch 279/500\n",
      "712/712 [==============================] - 0s 120us/step - loss: 0.3959 - accuracy: 0.8301 - val_loss: 0.3128 - val_accuracy: 0.8827\n",
      "Epoch 280/500\n",
      "712/712 [==============================] - 0s 120us/step - loss: 0.3894 - accuracy: 0.8258 - val_loss: 0.3124 - val_accuracy: 0.8771\n",
      "Epoch 281/500\n",
      "712/712 [==============================] - 0s 125us/step - loss: 0.3768 - accuracy: 0.8329 - val_loss: 0.3339 - val_accuracy: 0.8771\n",
      "Epoch 282/500\n",
      "712/712 [==============================] - 0s 114us/step - loss: 0.3818 - accuracy: 0.8301 - val_loss: 0.3145 - val_accuracy: 0.8771\n",
      "Epoch 283/500\n",
      "712/712 [==============================] - 0s 113us/step - loss: 0.4046 - accuracy: 0.8329 - val_loss: 0.3278 - val_accuracy: 0.8603\n",
      "Epoch 284/500\n",
      "712/712 [==============================] - 0s 99us/step - loss: 0.3789 - accuracy: 0.8329 - val_loss: 0.3192 - val_accuracy: 0.8659\n",
      "Epoch 285/500\n",
      "712/712 [==============================] - 0s 110us/step - loss: 0.4027 - accuracy: 0.8230 - val_loss: 0.3315 - val_accuracy: 0.8659\n",
      "Epoch 286/500\n",
      "712/712 [==============================] - 0s 118us/step - loss: 0.3852 - accuracy: 0.8329 - val_loss: 0.3346 - val_accuracy: 0.8659\n",
      "Epoch 287/500\n",
      "712/712 [==============================] - 0s 119us/step - loss: 0.3788 - accuracy: 0.8329 - val_loss: 0.3192 - val_accuracy: 0.8771\n",
      "Epoch 288/500\n",
      "712/712 [==============================] - 0s 126us/step - loss: 0.3706 - accuracy: 0.8399 - val_loss: 0.3176 - val_accuracy: 0.8603\n",
      "Epoch 289/500\n",
      "712/712 [==============================] - 0s 118us/step - loss: 0.3807 - accuracy: 0.8385 - val_loss: 0.3210 - val_accuracy: 0.8771\n",
      "Epoch 290/500\n",
      "712/712 [==============================] - 0s 119us/step - loss: 0.3855 - accuracy: 0.8413 - val_loss: 0.3388 - val_accuracy: 0.8603\n",
      "Epoch 291/500\n",
      "712/712 [==============================] - 0s 127us/step - loss: 0.3944 - accuracy: 0.8315 - val_loss: 0.3251 - val_accuracy: 0.8603\n",
      "Epoch 292/500\n",
      "712/712 [==============================] - 0s 111us/step - loss: 0.3870 - accuracy: 0.8315 - val_loss: 0.3174 - val_accuracy: 0.8547\n",
      "Epoch 293/500\n",
      "712/712 [==============================] - 0s 120us/step - loss: 0.3804 - accuracy: 0.8315 - val_loss: 0.3333 - val_accuracy: 0.8547\n",
      "Epoch 294/500\n",
      "712/712 [==============================] - 0s 120us/step - loss: 0.3818 - accuracy: 0.8371 - val_loss: 0.3429 - val_accuracy: 0.8547\n",
      "Epoch 295/500\n",
      "712/712 [==============================] - 0s 118us/step - loss: 0.3755 - accuracy: 0.8272 - val_loss: 0.3317 - val_accuracy: 0.8715\n",
      "Epoch 296/500\n",
      "712/712 [==============================] - 0s 125us/step - loss: 0.3892 - accuracy: 0.8329 - val_loss: 0.3266 - val_accuracy: 0.8715\n",
      "Epoch 297/500\n",
      "712/712 [==============================] - 0s 118us/step - loss: 0.3879 - accuracy: 0.8258 - val_loss: 0.3230 - val_accuracy: 0.8659\n",
      "Epoch 298/500\n",
      "712/712 [==============================] - 0s 113us/step - loss: 0.3835 - accuracy: 0.8230 - val_loss: 0.3153 - val_accuracy: 0.8827\n",
      "Epoch 299/500\n",
      "712/712 [==============================] - 0s 123us/step - loss: 0.3789 - accuracy: 0.8329 - val_loss: 0.3263 - val_accuracy: 0.8659\n",
      "Epoch 300/500\n",
      "712/712 [==============================] - 0s 121us/step - loss: 0.3734 - accuracy: 0.8301 - val_loss: 0.3403 - val_accuracy: 0.8603\n",
      "Epoch 301/500\n",
      "712/712 [==============================] - 0s 113us/step - loss: 0.3833 - accuracy: 0.8244 - val_loss: 0.3274 - val_accuracy: 0.8547\n",
      "Epoch 302/500\n",
      "712/712 [==============================] - 0s 116us/step - loss: 0.3668 - accuracy: 0.8385 - val_loss: 0.3246 - val_accuracy: 0.8715\n",
      "Epoch 303/500\n",
      "712/712 [==============================] - 0s 120us/step - loss: 0.3744 - accuracy: 0.8385 - val_loss: 0.3305 - val_accuracy: 0.8715\n",
      "Epoch 304/500\n",
      "712/712 [==============================] - 0s 119us/step - loss: 0.3716 - accuracy: 0.8413 - val_loss: 0.3215 - val_accuracy: 0.8715\n",
      "Epoch 305/500\n",
      "712/712 [==============================] - 0s 110us/step - loss: 0.3845 - accuracy: 0.8413 - val_loss: 0.3234 - val_accuracy: 0.8771\n",
      "Epoch 306/500\n",
      "712/712 [==============================] - 0s 130us/step - loss: 0.3739 - accuracy: 0.8357 - val_loss: 0.3290 - val_accuracy: 0.8547\n",
      "Epoch 307/500\n",
      "712/712 [==============================] - 0s 115us/step - loss: 0.3799 - accuracy: 0.8301 - val_loss: 0.3228 - val_accuracy: 0.8547\n",
      "Epoch 308/500\n",
      "712/712 [==============================] - ETA: 0s - loss: 0.3894 - accuracy: 0.82 - 0s 109us/step - loss: 0.3909 - accuracy: 0.8230 - val_loss: 0.3277 - val_accuracy: 0.8715\n",
      "Epoch 309/500\n",
      "712/712 [==============================] - 0s 117us/step - loss: 0.3844 - accuracy: 0.8315 - val_loss: 0.3248 - val_accuracy: 0.8827\n",
      "Epoch 310/500\n",
      "712/712 [==============================] - 0s 101us/step - loss: 0.3663 - accuracy: 0.8343 - val_loss: 0.3177 - val_accuracy: 0.8659\n",
      "Epoch 311/500\n",
      "712/712 [==============================] - 0s 111us/step - loss: 0.3811 - accuracy: 0.8399 - val_loss: 0.3240 - val_accuracy: 0.8659\n",
      "Epoch 312/500\n",
      "712/712 [==============================] - 0s 123us/step - loss: 0.3927 - accuracy: 0.8329 - val_loss: 0.3217 - val_accuracy: 0.8715\n",
      "Epoch 313/500\n",
      "712/712 [==============================] - 0s 101us/step - loss: 0.3759 - accuracy: 0.8455 - val_loss: 0.3208 - val_accuracy: 0.8771\n",
      "Epoch 314/500\n",
      "712/712 [==============================] - 0s 115us/step - loss: 0.3668 - accuracy: 0.8399 - val_loss: 0.3277 - val_accuracy: 0.8827\n",
      "Epoch 315/500\n",
      "712/712 [==============================] - 0s 113us/step - loss: 0.3927 - accuracy: 0.8272 - val_loss: 0.3212 - val_accuracy: 0.8715\n",
      "Epoch 316/500\n",
      "712/712 [==============================] - 0s 108us/step - loss: 0.3739 - accuracy: 0.8357 - val_loss: 0.3242 - val_accuracy: 0.8659\n",
      "Epoch 317/500\n",
      "712/712 [==============================] - 0s 119us/step - loss: 0.3838 - accuracy: 0.8287 - val_loss: 0.3194 - val_accuracy: 0.8659\n",
      "Epoch 318/500\n",
      "712/712 [==============================] - 0s 112us/step - loss: 0.3753 - accuracy: 0.8469 - val_loss: 0.3239 - val_accuracy: 0.8603\n",
      "Epoch 319/500\n",
      "712/712 [==============================] - 0s 122us/step - loss: 0.3699 - accuracy: 0.8329 - val_loss: 0.3338 - val_accuracy: 0.8603\n",
      "Epoch 320/500\n",
      "712/712 [==============================] - 0s 114us/step - loss: 0.3846 - accuracy: 0.8287 - val_loss: 0.3315 - val_accuracy: 0.8659\n",
      "Epoch 321/500\n",
      "712/712 [==============================] - 0s 118us/step - loss: 0.3769 - accuracy: 0.8525 - val_loss: 0.3279 - val_accuracy: 0.8659\n",
      "Epoch 322/500\n",
      "712/712 [==============================] - 0s 114us/step - loss: 0.3658 - accuracy: 0.8497 - val_loss: 0.3251 - val_accuracy: 0.8771\n",
      "Epoch 323/500\n",
      "712/712 [==============================] - 0s 114us/step - loss: 0.3690 - accuracy: 0.8427 - val_loss: 0.3318 - val_accuracy: 0.8715\n",
      "Epoch 324/500\n",
      "712/712 [==============================] - 0s 113us/step - loss: 0.3933 - accuracy: 0.8385 - val_loss: 0.3338 - val_accuracy: 0.8547\n",
      "Epoch 325/500\n",
      "712/712 [==============================] - 0s 125us/step - loss: 0.3766 - accuracy: 0.8244 - val_loss: 0.3265 - val_accuracy: 0.8603\n",
      "Epoch 326/500\n",
      "712/712 [==============================] - 0s 117us/step - loss: 0.3670 - accuracy: 0.8399 - val_loss: 0.3241 - val_accuracy: 0.8603\n",
      "Epoch 327/500\n",
      "712/712 [==============================] - 0s 101us/step - loss: 0.3713 - accuracy: 0.8329 - val_loss: 0.3181 - val_accuracy: 0.8603\n",
      "Epoch 328/500\n",
      "712/712 [==============================] - 0s 116us/step - loss: 0.3695 - accuracy: 0.8371 - val_loss: 0.3271 - val_accuracy: 0.8603\n",
      "Epoch 329/500\n",
      "712/712 [==============================] - 0s 114us/step - loss: 0.3688 - accuracy: 0.8497 - val_loss: 0.3153 - val_accuracy: 0.8603\n",
      "Epoch 330/500\n",
      "712/712 [==============================] - 0s 120us/step - loss: 0.3756 - accuracy: 0.8329 - val_loss: 0.3277 - val_accuracy: 0.8715\n",
      "Epoch 331/500\n",
      "712/712 [==============================] - 0s 115us/step - loss: 0.3545 - accuracy: 0.8567 - val_loss: 0.3178 - val_accuracy: 0.8715\n",
      "Epoch 332/500\n",
      "712/712 [==============================] - 0s 118us/step - loss: 0.3682 - accuracy: 0.8511 - val_loss: 0.3243 - val_accuracy: 0.8436\n",
      "Epoch 333/500\n"
     ]
    },
    {
     "name": "stdout",
     "output_type": "stream",
     "text": [
      "712/712 [==============================] - 0s 118us/step - loss: 0.3823 - accuracy: 0.8343 - val_loss: 0.3383 - val_accuracy: 0.8659\n",
      "Epoch 334/500\n",
      "712/712 [==============================] - 0s 127us/step - loss: 0.3872 - accuracy: 0.8469 - val_loss: 0.3300 - val_accuracy: 0.8659\n",
      "Epoch 335/500\n",
      "712/712 [==============================] - 0s 110us/step - loss: 0.3589 - accuracy: 0.8497 - val_loss: 0.3244 - val_accuracy: 0.8659\n",
      "Epoch 336/500\n",
      "712/712 [==============================] - 0s 115us/step - loss: 0.3734 - accuracy: 0.8357 - val_loss: 0.3407 - val_accuracy: 0.8771\n",
      "Epoch 337/500\n",
      "712/712 [==============================] - 0s 120us/step - loss: 0.3708 - accuracy: 0.8427 - val_loss: 0.3333 - val_accuracy: 0.8659\n",
      "Epoch 338/500\n",
      "712/712 [==============================] - 0s 110us/step - loss: 0.3984 - accuracy: 0.8272 - val_loss: 0.3381 - val_accuracy: 0.8715\n",
      "Epoch 339/500\n",
      "712/712 [==============================] - 0s 120us/step - loss: 0.3884 - accuracy: 0.8399 - val_loss: 0.3315 - val_accuracy: 0.8603\n",
      "Epoch 340/500\n",
      "712/712 [==============================] - 0s 111us/step - loss: 0.3629 - accuracy: 0.8441 - val_loss: 0.3230 - val_accuracy: 0.8827\n",
      "Epoch 341/500\n",
      "712/712 [==============================] - 0s 118us/step - loss: 0.3734 - accuracy: 0.8385 - val_loss: 0.3329 - val_accuracy: 0.8659\n",
      "Epoch 342/500\n",
      "712/712 [==============================] - 0s 115us/step - loss: 0.3655 - accuracy: 0.8371 - val_loss: 0.3338 - val_accuracy: 0.8715\n",
      "Epoch 343/500\n",
      "712/712 [==============================] - 0s 120us/step - loss: 0.3826 - accuracy: 0.8385 - val_loss: 0.3411 - val_accuracy: 0.8547\n",
      "Epoch 344/500\n",
      "712/712 [==============================] - 0s 117us/step - loss: 0.3855 - accuracy: 0.8329 - val_loss: 0.3341 - val_accuracy: 0.8603\n",
      "Epoch 345/500\n",
      "712/712 [==============================] - 0s 108us/step - loss: 0.3736 - accuracy: 0.8385 - val_loss: 0.3456 - val_accuracy: 0.8603\n",
      "Epoch 346/500\n",
      "712/712 [==============================] - 0s 117us/step - loss: 0.3775 - accuracy: 0.8371 - val_loss: 0.3252 - val_accuracy: 0.8547\n",
      "Epoch 347/500\n",
      "712/712 [==============================] - 0s 115us/step - loss: 0.3563 - accuracy: 0.8469 - val_loss: 0.3094 - val_accuracy: 0.8715\n",
      "Epoch 348/500\n",
      "712/712 [==============================] - 0s 118us/step - loss: 0.3582 - accuracy: 0.8525 - val_loss: 0.3180 - val_accuracy: 0.8827\n",
      "Epoch 349/500\n",
      "712/712 [==============================] - 0s 115us/step - loss: 0.3842 - accuracy: 0.8371 - val_loss: 0.3167 - val_accuracy: 0.8715\n",
      "Epoch 350/500\n",
      "712/712 [==============================] - 0s 114us/step - loss: 0.3667 - accuracy: 0.8497 - val_loss: 0.3294 - val_accuracy: 0.8771\n",
      "Epoch 351/500\n",
      "712/712 [==============================] - 0s 127us/step - loss: 0.3777 - accuracy: 0.8399 - val_loss: 0.3294 - val_accuracy: 0.8603\n",
      "Epoch 352/500\n",
      "712/712 [==============================] - 0s 111us/step - loss: 0.3654 - accuracy: 0.8441 - val_loss: 0.3305 - val_accuracy: 0.8603\n",
      "Epoch 353/500\n",
      "712/712 [==============================] - 0s 122us/step - loss: 0.3691 - accuracy: 0.8301 - val_loss: 0.3203 - val_accuracy: 0.8771\n",
      "Epoch 354/500\n",
      "712/712 [==============================] - 0s 113us/step - loss: 0.3719 - accuracy: 0.8343 - val_loss: 0.3400 - val_accuracy: 0.8492\n",
      "Epoch 355/500\n",
      "712/712 [==============================] - 0s 113us/step - loss: 0.3795 - accuracy: 0.8230 - val_loss: 0.3246 - val_accuracy: 0.8771\n",
      "Epoch 356/500\n",
      "712/712 [==============================] - 0s 113us/step - loss: 0.3725 - accuracy: 0.8371 - val_loss: 0.3263 - val_accuracy: 0.8603\n",
      "Epoch 357/500\n",
      "712/712 [==============================] - 0s 115us/step - loss: 0.3548 - accuracy: 0.8427 - val_loss: 0.3217 - val_accuracy: 0.8715\n",
      "Epoch 358/500\n",
      "712/712 [==============================] - 0s 102us/step - loss: 0.3589 - accuracy: 0.8399 - val_loss: 0.3271 - val_accuracy: 0.8659\n",
      "Epoch 359/500\n",
      "712/712 [==============================] - 0s 116us/step - loss: 0.3685 - accuracy: 0.8399 - val_loss: 0.3261 - val_accuracy: 0.8715\n",
      "Epoch 360/500\n",
      "712/712 [==============================] - 0s 115us/step - loss: 0.3700 - accuracy: 0.8385 - val_loss: 0.3298 - val_accuracy: 0.8659\n",
      "Epoch 361/500\n",
      "712/712 [==============================] - 0s 122us/step - loss: 0.3695 - accuracy: 0.8413 - val_loss: 0.3354 - val_accuracy: 0.8603\n",
      "Epoch 362/500\n",
      "712/712 [==============================] - ETA: 0s - loss: 0.3825 - accuracy: 0.83 - 0s 120us/step - loss: 0.3708 - accuracy: 0.8371 - val_loss: 0.3278 - val_accuracy: 0.8771\n",
      "Epoch 363/500\n",
      "712/712 [==============================] - 0s 116us/step - loss: 0.3657 - accuracy: 0.8427 - val_loss: 0.3281 - val_accuracy: 0.8715\n",
      "Epoch 364/500\n",
      "712/712 [==============================] - 0s 110us/step - loss: 0.3628 - accuracy: 0.8483 - val_loss: 0.3308 - val_accuracy: 0.8603\n",
      "Epoch 365/500\n",
      "712/712 [==============================] - 0s 119us/step - loss: 0.3563 - accuracy: 0.8483 - val_loss: 0.3440 - val_accuracy: 0.8715\n",
      "Epoch 366/500\n",
      "712/712 [==============================] - 0s 105us/step - loss: 0.3592 - accuracy: 0.8525 - val_loss: 0.3227 - val_accuracy: 0.8659\n",
      "Epoch 367/500\n",
      "712/712 [==============================] - 0s 126us/step - loss: 0.3666 - accuracy: 0.8441 - val_loss: 0.3281 - val_accuracy: 0.8771\n",
      "Epoch 368/500\n",
      "712/712 [==============================] - 0s 125us/step - loss: 0.3617 - accuracy: 0.8301 - val_loss: 0.3430 - val_accuracy: 0.8603\n",
      "Epoch 369/500\n",
      "712/712 [==============================] - 0s 134us/step - loss: 0.3718 - accuracy: 0.8301 - val_loss: 0.3458 - val_accuracy: 0.8603\n",
      "Epoch 370/500\n",
      "712/712 [==============================] - 0s 129us/step - loss: 0.3750 - accuracy: 0.8287 - val_loss: 0.3381 - val_accuracy: 0.8771\n",
      "Epoch 371/500\n",
      "712/712 [==============================] - 0s 128us/step - loss: 0.3892 - accuracy: 0.8441 - val_loss: 0.3429 - val_accuracy: 0.8603\n",
      "Epoch 372/500\n",
      "712/712 [==============================] - 0s 127us/step - loss: 0.3594 - accuracy: 0.8399 - val_loss: 0.3411 - val_accuracy: 0.8547\n",
      "Epoch 373/500\n",
      "712/712 [==============================] - 0s 129us/step - loss: 0.3765 - accuracy: 0.8329 - val_loss: 0.3420 - val_accuracy: 0.8603\n",
      "Epoch 374/500\n",
      "712/712 [==============================] - 0s 134us/step - loss: 0.3750 - accuracy: 0.8385 - val_loss: 0.3449 - val_accuracy: 0.8659\n",
      "Epoch 375/500\n",
      "712/712 [==============================] - 0s 142us/step - loss: 0.3819 - accuracy: 0.8399 - val_loss: 0.3447 - val_accuracy: 0.8492\n",
      "Epoch 376/500\n",
      "712/712 [==============================] - 0s 125us/step - loss: 0.3708 - accuracy: 0.8315 - val_loss: 0.3310 - val_accuracy: 0.8659\n",
      "Epoch 377/500\n",
      "712/712 [==============================] - 0s 119us/step - loss: 0.3608 - accuracy: 0.8483 - val_loss: 0.3333 - val_accuracy: 0.8771\n",
      "Epoch 378/500\n",
      "712/712 [==============================] - 0s 128us/step - loss: 0.3690 - accuracy: 0.8272 - val_loss: 0.3315 - val_accuracy: 0.8771\n",
      "Epoch 379/500\n",
      "712/712 [==============================] - 0s 128us/step - loss: 0.3906 - accuracy: 0.8272 - val_loss: 0.3423 - val_accuracy: 0.8715\n",
      "Epoch 380/500\n",
      "712/712 [==============================] - 0s 131us/step - loss: 0.3805 - accuracy: 0.8301 - val_loss: 0.3298 - val_accuracy: 0.8715\n",
      "Epoch 381/500\n",
      "712/712 [==============================] - 0s 133us/step - loss: 0.3710 - accuracy: 0.8357 - val_loss: 0.3355 - val_accuracy: 0.8771\n",
      "Epoch 382/500\n",
      "712/712 [==============================] - 0s 128us/step - loss: 0.3762 - accuracy: 0.8469 - val_loss: 0.3410 - val_accuracy: 0.8547\n",
      "Epoch 383/500\n",
      "712/712 [==============================] - 0s 134us/step - loss: 0.3842 - accuracy: 0.8343 - val_loss: 0.3415 - val_accuracy: 0.8380\n",
      "Epoch 384/500\n",
      "712/712 [==============================] - 0s 130us/step - loss: 0.3711 - accuracy: 0.8427 - val_loss: 0.3332 - val_accuracy: 0.8492\n",
      "Epoch 385/500\n",
      "712/712 [==============================] - 0s 131us/step - loss: 0.3709 - accuracy: 0.8371 - val_loss: 0.3293 - val_accuracy: 0.8715\n",
      "Epoch 386/500\n",
      "712/712 [==============================] - 0s 127us/step - loss: 0.3961 - accuracy: 0.8301 - val_loss: 0.3396 - val_accuracy: 0.8715\n",
      "Epoch 387/500\n",
      "712/712 [==============================] - 0s 121us/step - loss: 0.3811 - accuracy: 0.8244 - val_loss: 0.3313 - val_accuracy: 0.8603\n",
      "Epoch 388/500\n"
     ]
    },
    {
     "name": "stdout",
     "output_type": "stream",
     "text": [
      "712/712 [==============================] - 0s 112us/step - loss: 0.3808 - accuracy: 0.8441 - val_loss: 0.3330 - val_accuracy: 0.8603\n",
      "Epoch 389/500\n",
      "712/712 [==============================] - 0s 140us/step - loss: 0.3723 - accuracy: 0.8329 - val_loss: 0.3277 - val_accuracy: 0.8715\n",
      "Epoch 390/500\n",
      "712/712 [==============================] - 0s 118us/step - loss: 0.3665 - accuracy: 0.8371 - val_loss: 0.3292 - val_accuracy: 0.8771\n",
      "Epoch 391/500\n",
      "712/712 [==============================] - 0s 139us/step - loss: 0.3681 - accuracy: 0.8357 - val_loss: 0.3428 - val_accuracy: 0.8659\n",
      "Epoch 392/500\n",
      "712/712 [==============================] - 0s 125us/step - loss: 0.3928 - accuracy: 0.8258 - val_loss: 0.3424 - val_accuracy: 0.8547\n",
      "Epoch 393/500\n",
      "712/712 [==============================] - 0s 126us/step - loss: 0.3799 - accuracy: 0.8497 - val_loss: 0.3247 - val_accuracy: 0.8827\n",
      "Epoch 394/500\n",
      "712/712 [==============================] - 0s 124us/step - loss: 0.3724 - accuracy: 0.8483 - val_loss: 0.3428 - val_accuracy: 0.8659\n",
      "Epoch 395/500\n",
      "712/712 [==============================] - 0s 118us/step - loss: 0.3643 - accuracy: 0.8441 - val_loss: 0.3320 - val_accuracy: 0.8715\n",
      "Epoch 396/500\n",
      "712/712 [==============================] - 0s 138us/step - loss: 0.3835 - accuracy: 0.8343 - val_loss: 0.3453 - val_accuracy: 0.8603\n",
      "Epoch 397/500\n",
      "712/712 [==============================] - 0s 133us/step - loss: 0.3504 - accuracy: 0.8539 - val_loss: 0.3407 - val_accuracy: 0.8492\n",
      "Epoch 398/500\n",
      "712/712 [==============================] - 0s 132us/step - loss: 0.3829 - accuracy: 0.8357 - val_loss: 0.3418 - val_accuracy: 0.8659\n",
      "Epoch 399/500\n",
      "712/712 [==============================] - 0s 156us/step - loss: 0.3598 - accuracy: 0.8371 - val_loss: 0.3343 - val_accuracy: 0.8603\n",
      "Epoch 400/500\n",
      "712/712 [==============================] - 0s 134us/step - loss: 0.3836 - accuracy: 0.8427 - val_loss: 0.3508 - val_accuracy: 0.8436\n",
      "Epoch 401/500\n",
      "712/712 [==============================] - 0s 117us/step - loss: 0.3756 - accuracy: 0.8343 - val_loss: 0.3474 - val_accuracy: 0.8715\n",
      "Epoch 402/500\n",
      "712/712 [==============================] - 0s 112us/step - loss: 0.3625 - accuracy: 0.8413 - val_loss: 0.3280 - val_accuracy: 0.8715\n",
      "Epoch 403/500\n",
      "712/712 [==============================] - 0s 121us/step - loss: 0.3769 - accuracy: 0.8385 - val_loss: 0.3460 - val_accuracy: 0.8436\n",
      "Epoch 404/500\n",
      "712/712 [==============================] - 0s 115us/step - loss: 0.3768 - accuracy: 0.8357 - val_loss: 0.3305 - val_accuracy: 0.8603\n",
      "Epoch 405/500\n",
      "712/712 [==============================] - 0s 133us/step - loss: 0.3762 - accuracy: 0.8343 - val_loss: 0.3349 - val_accuracy: 0.8603\n",
      "Epoch 406/500\n",
      "712/712 [==============================] - 0s 118us/step - loss: 0.3633 - accuracy: 0.8469 - val_loss: 0.3213 - val_accuracy: 0.8659\n",
      "Epoch 407/500\n",
      "712/712 [==============================] - 0s 152us/step - loss: 0.3525 - accuracy: 0.8413 - val_loss: 0.3201 - val_accuracy: 0.8715\n",
      "Epoch 408/500\n",
      "712/712 [==============================] - 0s 132us/step - loss: 0.3583 - accuracy: 0.8497 - val_loss: 0.3315 - val_accuracy: 0.8715\n",
      "Epoch 409/500\n",
      "712/712 [==============================] - 0s 125us/step - loss: 0.3689 - accuracy: 0.8287 - val_loss: 0.3389 - val_accuracy: 0.8659\n",
      "Epoch 410/500\n",
      "712/712 [==============================] - 0s 130us/step - loss: 0.3813 - accuracy: 0.8371 - val_loss: 0.3330 - val_accuracy: 0.8547\n",
      "Epoch 411/500\n",
      "712/712 [==============================] - 0s 129us/step - loss: 0.3955 - accuracy: 0.8104 - val_loss: 0.3517 - val_accuracy: 0.8547\n",
      "Epoch 412/500\n",
      "712/712 [==============================] - 0s 120us/step - loss: 0.3761 - accuracy: 0.8455 - val_loss: 0.3335 - val_accuracy: 0.8715\n",
      "Epoch 413/500\n",
      "712/712 [==============================] - 0s 115us/step - loss: 0.3630 - accuracy: 0.8469 - val_loss: 0.3366 - val_accuracy: 0.8771\n",
      "Epoch 414/500\n",
      "712/712 [==============================] - ETA: 0s - loss: 0.3677 - accuracy: 0.84 - 0s 134us/step - loss: 0.3573 - accuracy: 0.8511 - val_loss: 0.3321 - val_accuracy: 0.8603\n",
      "Epoch 415/500\n",
      "712/712 [==============================] - 0s 120us/step - loss: 0.3658 - accuracy: 0.8441 - val_loss: 0.3345 - val_accuracy: 0.8715\n",
      "Epoch 416/500\n",
      "712/712 [==============================] - 0s 125us/step - loss: 0.3543 - accuracy: 0.8399 - val_loss: 0.3300 - val_accuracy: 0.8771\n",
      "Epoch 417/500\n",
      "712/712 [==============================] - 0s 121us/step - loss: 0.3664 - accuracy: 0.8441 - val_loss: 0.3271 - val_accuracy: 0.8659\n",
      "Epoch 418/500\n",
      "712/712 [==============================] - 0s 118us/step - loss: 0.3786 - accuracy: 0.8399 - val_loss: 0.3213 - val_accuracy: 0.8659\n",
      "Epoch 419/500\n",
      "712/712 [==============================] - 0s 113us/step - loss: 0.3750 - accuracy: 0.8441 - val_loss: 0.3453 - val_accuracy: 0.8603\n",
      "Epoch 420/500\n",
      "712/712 [==============================] - 0s 115us/step - loss: 0.3873 - accuracy: 0.8357 - val_loss: 0.3733 - val_accuracy: 0.8436\n",
      "Epoch 421/500\n",
      "712/712 [==============================] - 0s 108us/step - loss: 0.3672 - accuracy: 0.8399 - val_loss: 0.3470 - val_accuracy: 0.8603\n",
      "Epoch 422/500\n",
      "712/712 [==============================] - 0s 118us/step - loss: 0.3829 - accuracy: 0.8371 - val_loss: 0.3272 - val_accuracy: 0.8659\n",
      "Epoch 423/500\n",
      "712/712 [==============================] - 0s 112us/step - loss: 0.3657 - accuracy: 0.8357 - val_loss: 0.3393 - val_accuracy: 0.8771\n",
      "Epoch 424/500\n",
      "712/712 [==============================] - 0s 115us/step - loss: 0.3735 - accuracy: 0.8258 - val_loss: 0.3348 - val_accuracy: 0.8603\n",
      "Epoch 425/500\n",
      "712/712 [==============================] - 0s 102us/step - loss: 0.3602 - accuracy: 0.8581 - val_loss: 0.3336 - val_accuracy: 0.8603\n",
      "Epoch 426/500\n",
      "712/712 [==============================] - 0s 119us/step - loss: 0.3627 - accuracy: 0.8343 - val_loss: 0.3293 - val_accuracy: 0.8547\n",
      "Epoch 427/500\n",
      "712/712 [==============================] - 0s 101us/step - loss: 0.3710 - accuracy: 0.8427 - val_loss: 0.3424 - val_accuracy: 0.8659\n",
      "Epoch 428/500\n",
      "712/712 [==============================] - 0s 109us/step - loss: 0.3736 - accuracy: 0.8343 - val_loss: 0.3329 - val_accuracy: 0.8827\n",
      "Epoch 429/500\n",
      "712/712 [==============================] - 0s 122us/step - loss: 0.3758 - accuracy: 0.8315 - val_loss: 0.3412 - val_accuracy: 0.8771\n",
      "Epoch 430/500\n",
      "712/712 [==============================] - 0s 105us/step - loss: 0.3666 - accuracy: 0.8455 - val_loss: 0.3407 - val_accuracy: 0.8771\n",
      "Epoch 431/500\n",
      "712/712 [==============================] - 0s 124us/step - loss: 0.3572 - accuracy: 0.8511 - val_loss: 0.3392 - val_accuracy: 0.8715\n",
      "Epoch 432/500\n",
      "712/712 [==============================] - 0s 103us/step - loss: 0.3622 - accuracy: 0.8329 - val_loss: 0.3360 - val_accuracy: 0.8771\n",
      "Epoch 433/500\n",
      "712/712 [==============================] - 0s 108us/step - loss: 0.3701 - accuracy: 0.8385 - val_loss: 0.3485 - val_accuracy: 0.8603\n",
      "Epoch 434/500\n",
      "712/712 [==============================] - 0s 115us/step - loss: 0.3530 - accuracy: 0.8539 - val_loss: 0.3343 - val_accuracy: 0.8715\n",
      "Epoch 435/500\n",
      "712/712 [==============================] - 0s 120us/step - loss: 0.3680 - accuracy: 0.8427 - val_loss: 0.3385 - val_accuracy: 0.8827\n",
      "Epoch 436/500\n",
      "712/712 [==============================] - 0s 119us/step - loss: 0.3483 - accuracy: 0.8539 - val_loss: 0.3456 - val_accuracy: 0.8771\n",
      "Epoch 437/500\n",
      "712/712 [==============================] - 0s 121us/step - loss: 0.3722 - accuracy: 0.8385 - val_loss: 0.3433 - val_accuracy: 0.8715\n",
      "Epoch 438/500\n",
      "712/712 [==============================] - 0s 117us/step - loss: 0.3822 - accuracy: 0.8385 - val_loss: 0.3291 - val_accuracy: 0.8771\n",
      "Epoch 439/500\n",
      "712/712 [==============================] - 0s 106us/step - loss: 0.3727 - accuracy: 0.8413 - val_loss: 0.3209 - val_accuracy: 0.8771\n",
      "Epoch 440/500\n",
      "712/712 [==============================] - 0s 107us/step - loss: 0.3625 - accuracy: 0.8441 - val_loss: 0.3182 - val_accuracy: 0.8827\n",
      "Epoch 441/500\n",
      "712/712 [==============================] - 0s 113us/step - loss: 0.3722 - accuracy: 0.8511 - val_loss: 0.3312 - val_accuracy: 0.8659\n",
      "Epoch 442/500\n",
      "712/712 [==============================] - 0s 117us/step - loss: 0.3623 - accuracy: 0.8511 - val_loss: 0.3152 - val_accuracy: 0.8771\n",
      "Epoch 443/500\n"
     ]
    },
    {
     "name": "stdout",
     "output_type": "stream",
     "text": [
      "712/712 [==============================] - 0s 122us/step - loss: 0.3679 - accuracy: 0.8469 - val_loss: 0.3090 - val_accuracy: 0.8715\n",
      "Epoch 444/500\n",
      "712/712 [==============================] - 0s 112us/step - loss: 0.3602 - accuracy: 0.8385 - val_loss: 0.3060 - val_accuracy: 0.8827\n",
      "Epoch 445/500\n",
      "712/712 [==============================] - 0s 118us/step - loss: 0.3626 - accuracy: 0.8385 - val_loss: 0.3266 - val_accuracy: 0.8715\n",
      "Epoch 446/500\n",
      "712/712 [==============================] - 0s 115us/step - loss: 0.3643 - accuracy: 0.8427 - val_loss: 0.3236 - val_accuracy: 0.8715\n",
      "Epoch 447/500\n",
      "712/712 [==============================] - 0s 114us/step - loss: 0.3487 - accuracy: 0.8497 - val_loss: 0.3283 - val_accuracy: 0.8771\n",
      "Epoch 448/500\n",
      "712/712 [==============================] - 0s 122us/step - loss: 0.3637 - accuracy: 0.8441 - val_loss: 0.3308 - val_accuracy: 0.8659\n",
      "Epoch 449/500\n",
      "712/712 [==============================] - 0s 113us/step - loss: 0.3888 - accuracy: 0.8301 - val_loss: 0.3166 - val_accuracy: 0.8659\n",
      "Epoch 450/500\n",
      "712/712 [==============================] - 0s 106us/step - loss: 0.3631 - accuracy: 0.8469 - val_loss: 0.3323 - val_accuracy: 0.8715\n",
      "Epoch 451/500\n",
      "712/712 [==============================] - 0s 120us/step - loss: 0.3612 - accuracy: 0.8399 - val_loss: 0.3429 - val_accuracy: 0.8603\n",
      "Epoch 452/500\n",
      "712/712 [==============================] - 0s 109us/step - loss: 0.3631 - accuracy: 0.8371 - val_loss: 0.3302 - val_accuracy: 0.8771\n",
      "Epoch 453/500\n",
      "712/712 [==============================] - 0s 113us/step - loss: 0.3663 - accuracy: 0.8413 - val_loss: 0.3218 - val_accuracy: 0.8771\n",
      "Epoch 454/500\n",
      "712/712 [==============================] - 0s 116us/step - loss: 0.3606 - accuracy: 0.8385 - val_loss: 0.3152 - val_accuracy: 0.8659\n",
      "Epoch 455/500\n",
      "712/712 [==============================] - 0s 114us/step - loss: 0.3520 - accuracy: 0.8413 - val_loss: 0.3096 - val_accuracy: 0.8603\n",
      "Epoch 456/500\n",
      "712/712 [==============================] - 0s 111us/step - loss: 0.3664 - accuracy: 0.8258 - val_loss: 0.3158 - val_accuracy: 0.8603\n",
      "Epoch 457/500\n",
      "712/712 [==============================] - 0s 103us/step - loss: 0.3591 - accuracy: 0.8357 - val_loss: 0.3260 - val_accuracy: 0.8547\n",
      "Epoch 458/500\n",
      "712/712 [==============================] - 0s 120us/step - loss: 0.3658 - accuracy: 0.8385 - val_loss: 0.3198 - val_accuracy: 0.8547\n",
      "Epoch 459/500\n",
      "712/712 [==============================] - 0s 114us/step - loss: 0.3479 - accuracy: 0.8427 - val_loss: 0.3124 - val_accuracy: 0.8827\n",
      "Epoch 460/500\n",
      "712/712 [==============================] - 0s 121us/step - loss: 0.3574 - accuracy: 0.8511 - val_loss: 0.3221 - val_accuracy: 0.8939\n",
      "Epoch 461/500\n",
      "712/712 [==============================] - 0s 130us/step - loss: 0.3563 - accuracy: 0.8610 - val_loss: 0.3235 - val_accuracy: 0.8883\n",
      "Epoch 462/500\n",
      "712/712 [==============================] - 0s 118us/step - loss: 0.3512 - accuracy: 0.8329 - val_loss: 0.3251 - val_accuracy: 0.8827\n",
      "Epoch 463/500\n",
      "712/712 [==============================] - 0s 127us/step - loss: 0.3528 - accuracy: 0.8399 - val_loss: 0.3288 - val_accuracy: 0.8715\n",
      "Epoch 464/500\n",
      "712/712 [==============================] - 0s 121us/step - loss: 0.3610 - accuracy: 0.8455 - val_loss: 0.3249 - val_accuracy: 0.8659\n",
      "Epoch 465/500\n",
      "712/712 [==============================] - 0s 111us/step - loss: 0.3655 - accuracy: 0.8413 - val_loss: 0.3382 - val_accuracy: 0.8715\n",
      "Epoch 466/500\n",
      "712/712 [==============================] - 0s 108us/step - loss: 0.3694 - accuracy: 0.8357 - val_loss: 0.3254 - val_accuracy: 0.8603\n",
      "Epoch 467/500\n",
      "712/712 [==============================] - 0s 120us/step - loss: 0.3503 - accuracy: 0.8469 - val_loss: 0.3276 - val_accuracy: 0.8715\n",
      "Epoch 468/500\n",
      "712/712 [==============================] - 0s 124us/step - loss: 0.3460 - accuracy: 0.8539 - val_loss: 0.3337 - val_accuracy: 0.8603\n",
      "Epoch 469/500\n",
      "712/712 [==============================] - 0s 106us/step - loss: 0.3788 - accuracy: 0.8441 - val_loss: 0.3425 - val_accuracy: 0.8603\n",
      "Epoch 470/500\n",
      "712/712 [==============================] - 0s 115us/step - loss: 0.3673 - accuracy: 0.8329 - val_loss: 0.3384 - val_accuracy: 0.8603\n",
      "Epoch 471/500\n",
      "712/712 [==============================] - 0s 117us/step - loss: 0.3465 - accuracy: 0.8469 - val_loss: 0.3299 - val_accuracy: 0.8771\n",
      "Epoch 472/500\n",
      "712/712 [==============================] - 0s 119us/step - loss: 0.3443 - accuracy: 0.8483 - val_loss: 0.3256 - val_accuracy: 0.8771\n",
      "Epoch 473/500\n",
      "712/712 [==============================] - 0s 118us/step - loss: 0.3674 - accuracy: 0.8427 - val_loss: 0.3343 - val_accuracy: 0.8715\n",
      "Epoch 474/500\n",
      "712/712 [==============================] - 0s 113us/step - loss: 0.3579 - accuracy: 0.8427 - val_loss: 0.3289 - val_accuracy: 0.8771\n",
      "Epoch 475/500\n",
      "712/712 [==============================] - 0s 113us/step - loss: 0.3738 - accuracy: 0.8483 - val_loss: 0.3275 - val_accuracy: 0.8827\n",
      "Epoch 476/500\n",
      "712/712 [==============================] - 0s 120us/step - loss: 0.3396 - accuracy: 0.8511 - val_loss: 0.3382 - val_accuracy: 0.8827\n",
      "Epoch 477/500\n",
      "712/712 [==============================] - 0s 115us/step - loss: 0.3613 - accuracy: 0.8343 - val_loss: 0.3337 - val_accuracy: 0.8771\n",
      "Epoch 478/500\n",
      "712/712 [==============================] - 0s 118us/step - loss: 0.3604 - accuracy: 0.8455 - val_loss: 0.3237 - val_accuracy: 0.8659\n",
      "Epoch 479/500\n",
      "712/712 [==============================] - 0s 119us/step - loss: 0.3511 - accuracy: 0.8469 - val_loss: 0.3296 - val_accuracy: 0.8603\n",
      "Epoch 480/500\n",
      "712/712 [==============================] - 0s 118us/step - loss: 0.3622 - accuracy: 0.8301 - val_loss: 0.3449 - val_accuracy: 0.8603\n",
      "Epoch 481/500\n",
      "712/712 [==============================] - 0s 115us/step - loss: 0.3365 - accuracy: 0.8469 - val_loss: 0.3480 - val_accuracy: 0.8436\n",
      "Epoch 482/500\n",
      "712/712 [==============================] - 0s 119us/step - loss: 0.3672 - accuracy: 0.8539 - val_loss: 0.3358 - val_accuracy: 0.8771\n",
      "Epoch 483/500\n",
      "712/712 [==============================] - 0s 122us/step - loss: 0.3454 - accuracy: 0.8483 - val_loss: 0.3342 - val_accuracy: 0.8715\n",
      "Epoch 484/500\n",
      "712/712 [==============================] - 0s 113us/step - loss: 0.3548 - accuracy: 0.8567 - val_loss: 0.3222 - val_accuracy: 0.8715\n",
      "Epoch 485/500\n",
      "712/712 [==============================] - 0s 120us/step - loss: 0.3550 - accuracy: 0.8525 - val_loss: 0.3316 - val_accuracy: 0.8659\n",
      "Epoch 486/500\n",
      "712/712 [==============================] - 0s 123us/step - loss: 0.3429 - accuracy: 0.8511 - val_loss: 0.3281 - val_accuracy: 0.8715\n",
      "Epoch 487/500\n",
      "712/712 [==============================] - 0s 113us/step - loss: 0.3563 - accuracy: 0.8680 - val_loss: 0.3249 - val_accuracy: 0.8883\n",
      "Epoch 488/500\n",
      "712/712 [==============================] - 0s 118us/step - loss: 0.3835 - accuracy: 0.8315 - val_loss: 0.3275 - val_accuracy: 0.8659\n",
      "Epoch 489/500\n",
      "712/712 [==============================] - 0s 115us/step - loss: 0.3598 - accuracy: 0.8343 - val_loss: 0.3293 - val_accuracy: 0.8659\n",
      "Epoch 490/500\n",
      "712/712 [==============================] - 0s 106us/step - loss: 0.3612 - accuracy: 0.8455 - val_loss: 0.3345 - val_accuracy: 0.8659\n",
      "Epoch 491/500\n",
      "712/712 [==============================] - 0s 111us/step - loss: 0.3468 - accuracy: 0.8539 - val_loss: 0.3290 - val_accuracy: 0.8659\n",
      "Epoch 492/500\n",
      "712/712 [==============================] - 0s 120us/step - loss: 0.3670 - accuracy: 0.8413 - val_loss: 0.3307 - val_accuracy: 0.8715\n",
      "Epoch 493/500\n",
      "712/712 [==============================] - 0s 120us/step - loss: 0.3539 - accuracy: 0.8413 - val_loss: 0.3419 - val_accuracy: 0.8547\n",
      "Epoch 494/500\n",
      "712/712 [==============================] - 0s 117us/step - loss: 0.3475 - accuracy: 0.8455 - val_loss: 0.3457 - val_accuracy: 0.8659\n",
      "Epoch 495/500\n",
      "712/712 [==============================] - 0s 113us/step - loss: 0.3730 - accuracy: 0.8329 - val_loss: 0.3451 - val_accuracy: 0.8492\n",
      "Epoch 496/500\n",
      "712/712 [==============================] - 0s 123us/step - loss: 0.3629 - accuracy: 0.8413 - val_loss: 0.3408 - val_accuracy: 0.8771\n",
      "Epoch 497/500\n",
      "712/712 [==============================] - 0s 118us/step - loss: 0.3430 - accuracy: 0.8624 - val_loss: 0.3375 - val_accuracy: 0.8715\n",
      "Epoch 498/500\n",
      "712/712 [==============================] - 0s 121us/step - loss: 0.3707 - accuracy: 0.8427 - val_loss: 0.3284 - val_accuracy: 0.8659\n"
     ]
    },
    {
     "name": "stdout",
     "output_type": "stream",
     "text": [
      "Epoch 499/500\n",
      "712/712 [==============================] - 0s 123us/step - loss: 0.3600 - accuracy: 0.8469 - val_loss: 0.3259 - val_accuracy: 0.8603\n",
      "Epoch 500/500\n",
      "712/712 [==============================] - 0s 118us/step - loss: 0.3689 - accuracy: 0.8413 - val_loss: 0.3250 - val_accuracy: 0.8659\n"
     ]
    }
   ],
   "source": [
    "DNN = DNN_create(k=2,drop_rate=0.45,x_train=x_train5,y_train=y_train5,units=150,batch_size=30,epochs=500)"
   ]
  },
  {
   "cell_type": "code",
   "execution_count": 157,
   "metadata": {
    "ExecuteTime": {
     "end_time": "2020-02-15T14:27:35.709990Z",
     "start_time": "2020-02-15T14:27:35.673392Z"
    },
    "scrolled": false
   },
   "outputs": [
    {
     "name": "stdout",
     "output_type": "stream",
     "text": [
      "Model: \"sequential_54\"\n",
      "_________________________________________________________________\n",
      "Layer (type)                 Output Shape              Param #   \n",
      "=================================================================\n",
      "dense_252 (Dense)            (None, 150)               1650      \n",
      "_________________________________________________________________\n",
      "dropout_131 (Dropout)        (None, 150)               0         \n",
      "_________________________________________________________________\n",
      "dense_253 (Dense)            (None, 150)               22650     \n",
      "_________________________________________________________________\n",
      "dropout_132 (Dropout)        (None, 150)               0         \n",
      "_________________________________________________________________\n",
      "dense_254 (Dense)            (None, 150)               22650     \n",
      "_________________________________________________________________\n",
      "dense_255 (Dense)            (None, 2)                 302       \n",
      "=================================================================\n",
      "Total params: 47,252\n",
      "Trainable params: 47,252\n",
      "Non-trainable params: 0\n",
      "_________________________________________________________________\n",
      "891/891 [==============================] - 0s 29us/step\n"
     ]
    },
    {
     "data": {
      "text/plain": [
       "[0.3227879020367675, 0.872053861618042]"
      ]
     },
     "execution_count": 157,
     "metadata": {},
     "output_type": "execute_result"
    }
   ],
   "source": [
    "DNN.summary()\n",
    "# DNN.evaluate(x_train4,y_train4)\n",
    "DNN.evaluate(x_train5,y_train5)"
   ]
  },
  {
   "cell_type": "code",
   "execution_count": 158,
   "metadata": {
    "ExecuteTime": {
     "end_time": "2020-02-15T14:27:39.040665Z",
     "start_time": "2020-02-15T14:27:38.965026Z"
    }
   },
   "outputs": [],
   "source": [
    "DNN_predict = np.argmax(DNN.predict(titanic_data[891:].loc[:,'Pclass':].drop(['AgeCut','FareCut','FamilyNum'],axis=1)),axis=1)\n",
    "DNN_output = pd.DataFrame({'PassengerId':test_data['PassengerId'],'Survived':DNN_predict})\n",
    "DNN_output.to_csv(r'D:\\JWE\\My Program\\kaggle\\competitions\\titanic\\DNN_output.csv',index=False)"
   ]
  },
  {
   "cell_type": "code",
   "execution_count": 171,
   "metadata": {
    "ExecuteTime": {
     "end_time": "2020-02-12T11:51:26.618359Z",
     "start_time": "2020-02-12T11:51:26.614849Z"
    }
   },
   "outputs": [],
   "source": [
    "# 网格搜索调参\n",
    "cur_model = KerasClassifier(build_fn=DNN_create(),verbose=0)\n",
    "# define the grid search parameters\n",
    "batch_size = range(10,101,10)\n",
    "epochs = range(100,400,100)\n",
    "param_dict = dict(batch_size=batch_size,epochs=epochs)\n",
    "grid = GridSearchCV(estimator=cur_model,param_grid=param_dict)\n",
    "grid_result = grid.fit(x_train4,y_train4)"
   ]
  },
  {
   "cell_type": "code",
   "execution_count": null,
   "metadata": {
    "ExecuteTime": {
     "end_time": "2020-02-12T11:45:03.143486Z",
     "start_time": "2020-02-12T11:42:16.152Z"
    }
   },
   "outputs": [],
   "source": [
    "grid_result.best_params_\n",
    "grid_result.score(x_train4,y_train4)"
   ]
  },
  {
   "cell_type": "code",
   "execution_count": null,
   "metadata": {},
   "outputs": [],
   "source": []
  }
 ],
 "metadata": {
  "hide_input": false,
  "kernelspec": {
   "display_name": "Python 3",
   "language": "python",
   "name": "python3"
  },
  "language_info": {
   "codemirror_mode": {
    "name": "ipython",
    "version": 3
   },
   "file_extension": ".py",
   "mimetype": "text/x-python",
   "name": "python",
   "nbconvert_exporter": "python",
   "pygments_lexer": "ipython3",
   "version": "3.7.3"
  },
  "toc": {
   "base_numbering": 1,
   "nav_menu": {},
   "number_sections": true,
   "sideBar": true,
   "skip_h1_title": false,
   "title_cell": "Table of Contents",
   "title_sidebar": "Contents",
   "toc_cell": false,
   "toc_position": {},
   "toc_section_display": true,
   "toc_window_display": false
  },
  "varInspector": {
   "cols": {
    "lenName": 16,
    "lenType": 16,
    "lenVar": 40
   },
   "kernels_config": {
    "python": {
     "delete_cmd_postfix": "",
     "delete_cmd_prefix": "del ",
     "library": "var_list.py",
     "varRefreshCmd": "print(var_dic_list())"
    },
    "r": {
     "delete_cmd_postfix": ") ",
     "delete_cmd_prefix": "rm(",
     "library": "var_list.r",
     "varRefreshCmd": "cat(var_dic_list()) "
    }
   },
   "types_to_exclude": [
    "module",
    "function",
    "builtin_function_or_method",
    "instance",
    "_Feature"
   ],
   "window_display": false
  }
 },
 "nbformat": 4,
 "nbformat_minor": 2
}
